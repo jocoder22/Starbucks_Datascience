{
 "cells": [
  {
   "cell_type": "markdown",
   "metadata": {},
   "source": [
    "# Starbucks Capstone Challenge\n",
    "\n",
    "### Introduction\n",
    "\n",
    "This data set contains simulated data that mimics customer behavior on the Starbucks rewards mobile app. Once every few days, Starbucks sends out an offer to users of the mobile app. An offer can be merely an advertisement for a drink or an actual offer such as a discount or BOGO (buy one get one free). Some users might not receive any offer during certain weeks. \n",
    "\n",
    "Not all users receive the same offer, and that is the challenge to solve with this data set.\n",
    "\n",
    "Your task is to combine transaction, demographic and offer data to determine which demographic groups respond best to which offer type. This data set is a simplified version of the real Starbucks app because the underlying simulator only has one product whereas Starbucks actually sells dozens of products.\n",
    "\n",
    "Every offer has a validity period before the offer expires. As an example, a BOGO offer might be valid for only 5 days. You'll see in the data set that informational offers have a validity period even though these ads are merely providing information about a product; for example, if an informational offer has 7 days of validity, you can assume the customer is feeling the influence of the offer for 7 days after receiving the advertisement.\n",
    "\n",
    "You'll be given transactional data showing user purchases made on the app including the timestamp of purchase and the amount of money spent on a purchase. This transactional data also has a record for each offer that a user receives as well as a record for when a user actually views the offer. There are also records for when a user completes an offer. \n",
    "\n",
    "Keep in mind as well that someone using the app might make a purchase through the app without having received an offer or seen an offer.\n",
    "\n",
    "### Example\n",
    "\n",
    "To give an example, a user could receive a discount offer buy 10 dollars get 2 off on Monday. The offer is valid for 10 days from receipt. If the customer accumulates at least 10 dollars in purchases during the validity period, the customer completes the offer.\n",
    "\n",
    "However, there are a few things to watch out for in this data set. Customers do not opt into the offers that they receive; in other words, a user can receive an offer, never actually view the offer, and still complete the offer. For example, a user might receive the \"buy 10 dollars get 2 dollars off offer\", but the user never opens the offer during the 10 day validity period. The customer spends 15 dollars during those ten days. There will be an offer completion record in the data set; however, the customer was not influenced by the offer because the customer never viewed the offer.\n",
    "\n",
    "### Cleaning\n",
    "\n",
    "This makes data cleaning especially important and tricky.\n",
    "\n",
    "You'll also want to take into account that some demographic groups will make purchases even if they don't receive an offer. From a business perspective, if a customer is going to make a 10 dollar purchase without an offer anyway, you wouldn't want to send a buy 10 dollars get 2 dollars off offer. You'll want to try to assess what a certain demographic group will buy when not receiving any offers.\n",
    "\n",
    "### Final Advice\n",
    "\n",
    "Because this is a capstone project, you are free to analyze the data any way you see fit. For example, you could build a machine learning model that predicts how much someone will spend based on demographics and offer type. Or you could build a model that predicts whether or not someone will respond to an offer. Or, you don't need to build a machine learning model at all. You could develop a set of heuristics that determine what offer you should send to each customer (i.e., 75 percent of women customers who were 35 years old responded to offer A vs 40 percent from the same demographic to offer B, so send offer A)."
   ]
  },
  {
   "cell_type": "markdown",
   "metadata": {},
   "source": [
    "# Data Sets\n",
    "\n",
    "The data is contained in three files:\n",
    "\n",
    "* portfolio.json - containing offer ids and meta data about each offer (duration, type, etc.)\n",
    "* profile.json - demographic data for each customer\n",
    "* transcript.json - records for transactions, offers received, offers viewed, and offers completed\n",
    "\n",
    "Here is the schema and explanation of each variable in the files:\n",
    "\n",
    "**portfolio.json**\n",
    "* id (string) - offer id\n",
    "* offer_type (string) - type of offer ie BOGO, discount, informational\n",
    "* difficulty (int) - minimum required spend to complete an offer\n",
    "* reward (int) - reward given for completing an offer\n",
    "* duration (int) - time for offer to be open, in days\n",
    "* channels (list of strings)\n",
    "\n",
    "**profile.json**\n",
    "* age (int) - age of the customer \n",
    "* became_member_on (int) - date when customer created an app account\n",
    "* gender (str) - gender of the customer (note some entries contain 'O' for other rather than M or F)\n",
    "* id (str) - customer id\n",
    "* income (float) - customer's income\n",
    "\n",
    "**transcript.json**\n",
    "* event (str) - record description (ie transaction, offer received, offer viewed, etc.)\n",
    "* person (str) - customer id\n",
    "* time (int) - time in hours since start of test. The data begins at time t=0\n",
    "* value - (dict of strings) - either an offer id or transaction amount depending on the record\n",
    "\n",
    "**Note:** If you are using the workspace, you will need to go to the terminal and run the command `conda update pandas` before reading in the files. This is because the version of pandas in the workspace cannot read in the transcript.json file correctly, but the newest version of pandas can. You can access the termnal from the orange icon in the top left of this notebook.  \n",
    "\n",
    "You can see how to access the terminal and how the install works using the two images below.  First you need to access the terminal:\n",
    "\n",
    "<img src=\"pic1.png\"/>\n",
    "\n",
    "Then you will want to run the above command:\n",
    "\n",
    "<img src=\"pic2.png\"/>\n",
    "\n",
    "Finally, when you enter back into the notebook (use the jupyter icon again), you should be able to run the below cell without any errors."
   ]
  },
  {
   "cell_type": "markdown",
   "metadata": {},
   "source": [
    "# Analysis PLan \n",
    "\n",
    "Cross-Industry Standard Process of Data Mining - (CRISP-DM)\n",
    "\n",
    "A. Bussiness Understanding                 \n",
    "    1. Formulate research/analysis question(s)\n",
    "B. Data Understanding\n",
    "    1. Seek for relevant datasets\n",
    "    2. Read/Download relevant datasets\n",
    "C. Data preparation\n",
    "    1. Examine and understand the datasets\n",
    "    2. Clean and join datasets\n",
    "    3. Features extraction and engineering\n",
    "    4. Exploratory and explanatory data analysis\n",
    "    5. Data visualization\n",
    "D. Predictive modeling and answers to research question\n",
    "    1. Tackle reseach questions\n",
    "    2. Supervised learning\n",
    "E. Deployment\n",
    "    1. Summary report\n",
    "    2. Conclusion(s)"
   ]
  },
  {
   "cell_type": "markdown",
   "metadata": {},
   "source": [
    "# A. Bussiness Understanding                 \n",
    "    1. Formulate research/analysis question(s)\n",
    "    \n",
    "           Question I\n",
    "                Who is the typical Starbucks rewards mobile app user?\n",
    "                        Analysis of descriptive statistics of all variables in the dataset.\n",
    "                        \n",
    "            Question II\n",
    "                 Which demographic group respond best to which offer type?\n",
    "                        Analyzing the response rate of each gender and age groups.\n",
    "\n",
    "                        \n",
    "            Question III\n",
    "                Who will response to an offer?\n",
    "                        Build machine learning model that predicts whether or not someone will respond to an offer."
   ]
  },
  {
   "cell_type": "markdown",
   "metadata": {},
   "source": [
    "# B. Data Understanding\n",
    "    1. Seek for relevant datasets\n",
    "    2. Read/Download relevant datasets"
   ]
  },
  {
   "cell_type": "markdown",
   "metadata": {},
   "source": [
    "### import modules and libraries"
   ]
  },
  {
   "cell_type": "code",
   "execution_count": 1,
   "metadata": {},
   "outputs": [
    {
     "name": "stdout",
     "output_type": "stream",
     "text": [
      "Requirement already up-to-date: pandas in /opt/conda/lib/python3.6/site-packages (1.0.3)\n",
      "Requirement already up-to-date: xgboost in /opt/conda/lib/python3.6/site-packages (1.0.2)\n",
      "Requirement already up-to-date: eli5 in /opt/conda/lib/python3.6/site-packages (0.10.1)\n",
      "Requirement already satisfied, skipping upgrade: pytz>=2017.2 in /opt/conda/lib/python3.6/site-packages (from pandas) (2017.3)\n",
      "Requirement already satisfied, skipping upgrade: numpy>=1.13.3 in /opt/conda/lib/python3.6/site-packages (from pandas) (1.18.3)\n",
      "Requirement already satisfied, skipping upgrade: python-dateutil>=2.6.1 in /opt/conda/lib/python3.6/site-packages (from pandas) (2.6.1)\n",
      "Requirement already satisfied, skipping upgrade: scipy in /opt/conda/lib/python3.6/site-packages (from xgboost) (1.2.1)\n",
      "Requirement already satisfied, skipping upgrade: graphviz in /opt/conda/lib/python3.6/site-packages (from eli5) (0.14)\n",
      "Requirement already satisfied, skipping upgrade: jinja2 in /opt/conda/lib/python3.6/site-packages (from eli5) (2.10)\n",
      "Requirement already satisfied, skipping upgrade: six in /opt/conda/lib/python3.6/site-packages (from eli5) (1.11.0)\n",
      "Requirement already satisfied, skipping upgrade: attrs>16.0.0 in /opt/conda/lib/python3.6/site-packages (from eli5) (19.1.0)\n",
      "Requirement already satisfied, skipping upgrade: tabulate>=0.7.7 in /opt/conda/lib/python3.6/site-packages (from eli5) (0.8.7)\n",
      "Requirement already satisfied, skipping upgrade: scikit-learn>=0.18 in /opt/conda/lib/python3.6/site-packages (from eli5) (0.19.1)\n",
      "Requirement already satisfied, skipping upgrade: MarkupSafe>=0.23 in /opt/conda/lib/python3.6/site-packages (from jinja2->eli5) (1.0)\n"
     ]
    }
   ],
   "source": [
    "!pip install pandas xgboost eli5 --upgrade"
   ]
  },
  {
   "cell_type": "code",
   "execution_count": 2,
   "metadata": {},
   "outputs": [
    {
     "name": "stderr",
     "output_type": "stream",
     "text": [
      "/opt/conda/lib/python3.6/site-packages/sklearn/ensemble/weight_boosting.py:29: DeprecationWarning: numpy.core.umath_tests is an internal NumPy module and should not be imported. It will be removed in a future NumPy release.\n",
      "  from numpy.core.umath_tests import inner1d\n",
      "/opt/conda/lib/python3.6/site-packages/dask/dataframe/utils.py:14: FutureWarning: pandas.util.testing is deprecated. Use the functions in the public API at pandas.testing instead.\n",
      "  import pandas.util.testing as tm\n",
      "/opt/conda/lib/python3.6/site-packages/h5py/__init__.py:36: FutureWarning: Conversion of the second argument of issubdtype from `float` to `np.floating` is deprecated. In future, it will be treated as `np.float64 == np.dtype(float).type`.\n",
      "  from ._conv import register_converters as _register_converters\n",
      "Using TensorFlow backend.\n",
      "/opt/conda/lib/python3.6/site-packages/tensorflow/python/framework/dtypes.py:458: FutureWarning: Passing (type, 1) or '1type' as a synonym of type is deprecated; in a future version of numpy, it will be understood as (type, (1,)) / '(1,)type'.\n",
      "  _np_qint8 = np.dtype([(\"qint8\", np.int8, 1)])\n",
      "/opt/conda/lib/python3.6/site-packages/tensorflow/python/framework/dtypes.py:459: FutureWarning: Passing (type, 1) or '1type' as a synonym of type is deprecated; in a future version of numpy, it will be understood as (type, (1,)) / '(1,)type'.\n",
      "  _np_quint8 = np.dtype([(\"quint8\", np.uint8, 1)])\n",
      "/opt/conda/lib/python3.6/site-packages/tensorflow/python/framework/dtypes.py:460: FutureWarning: Passing (type, 1) or '1type' as a synonym of type is deprecated; in a future version of numpy, it will be understood as (type, (1,)) / '(1,)type'.\n",
      "  _np_qint16 = np.dtype([(\"qint16\", np.int16, 1)])\n",
      "/opt/conda/lib/python3.6/site-packages/tensorflow/python/framework/dtypes.py:461: FutureWarning: Passing (type, 1) or '1type' as a synonym of type is deprecated; in a future version of numpy, it will be understood as (type, (1,)) / '(1,)type'.\n",
      "  _np_quint16 = np.dtype([(\"quint16\", np.uint16, 1)])\n",
      "/opt/conda/lib/python3.6/site-packages/tensorflow/python/framework/dtypes.py:462: FutureWarning: Passing (type, 1) or '1type' as a synonym of type is deprecated; in a future version of numpy, it will be understood as (type, (1,)) / '(1,)type'.\n",
      "  _np_qint32 = np.dtype([(\"qint32\", np.int32, 1)])\n",
      "/opt/conda/lib/python3.6/site-packages/tensorflow/python/framework/dtypes.py:465: FutureWarning: Passing (type, 1) or '1type' as a synonym of type is deprecated; in a future version of numpy, it will be understood as (type, (1,)) / '(1,)type'.\n",
      "  np_resource = np.dtype([(\"resource\", np.ubyte, 1)])\n"
     ]
    }
   ],
   "source": [
    "import numpy as np\n",
    "import pandas as pd\n",
    "import math\n",
    "import json\n",
    "import datetime as dt\n",
    "\n",
    "import matplotlib.mlab as mlab\n",
    "import matplotlib.pyplot as plt\n",
    "import seaborn as sns\n",
    "\n",
    "\n",
    "\n",
    "from sklearn.pipeline import make_pipeline, Pipeline\n",
    "\n",
    "from sklearn.feature_extraction.text import CountVectorizer\n",
    "from sklearn.linear_model import LogisticRegression\n",
    "from sklearn.ensemble import RandomForestClassifier\n",
    "from sklearn.svm import LinearSVC\n",
    "from sklearn.tree import DecisionTreeClassifier\n",
    "from sklearn.multioutput import MultiOutputClassifier\n",
    "\n",
    "from sklearn.model_selection import train_test_split\n",
    "from sklearn.model_selection import cross_val_score\n",
    "from sklearn.preprocessing import MaxAbsScaler\n",
    "\n",
    "\n",
    "from sklearn.metrics import r2_score, mean_squared_error, mean_absolute_error\n",
    "from sklearn.metrics import classification_report\n",
    "\n",
    "\n",
    "from eli5.sklearn import PermutationImportance\n",
    "\n",
    "\n",
    "% matplotlib inline\n",
    "\n",
    "bcolor = sns.color_palette()[0]\n",
    "blued = sns.color_palette(\"Blues_d\")\n",
    "\n",
    "# read in the json files\n",
    "portfolio = pd.read_json('data/portfolio.json', orient='records', lines=True)\n",
    "profile = pd.read_json('data/profile.json', orient='records', lines=True)\n",
    "transcript = pd.read_json('data/transcript.json', orient='records', lines=True)"
   ]
  },
  {
   "cell_type": "markdown",
   "metadata": {},
   "source": [
    "# C. Data preparation\n",
    "    1. Examine and understand the datasets\n",
    "    2. Clean and join datasets\n",
    "    3. Features extraction and engineering\n",
    "    4. Exploratory and explanatory data analysis\n",
    "    5. Data visualization"
   ]
  },
  {
   "cell_type": "markdown",
   "metadata": {},
   "source": [
    "#### 1. Examine and understand the datasets"
   ]
  },
  {
   "cell_type": "code",
   "execution_count": 3,
   "metadata": {},
   "outputs": [],
   "source": [
    "def exam_understand(dataset):\n",
    "    \"\"\"The exam_understand function print out the head, information (dtype, non-missing number, column name),\n",
    "        shape and descriptive statistics for numerical features of dataset\n",
    "    \n",
    "    Args:\n",
    "        dataset (DataFrame)\n",
    "        \n",
    "    Outputs:\n",
    "        \n",
    "    \n",
    "    \"\"\"\n",
    "    \n",
    "    sp = {\"sep\":\"\\n\\n\\n\", \"end\":\"\\n\\n\\n\"}\n",
    "    \n",
    "    print(dataset.describe(),  **sp)\n",
    "    print(\" \", **sp)\n",
    "    print(dataset.info(), dataset.shape, **sp)\n",
    "\n",
    "\n",
    "    "
   ]
  },
  {
   "cell_type": "code",
   "execution_count": 4,
   "metadata": {},
   "outputs": [
    {
     "name": "stdout",
     "output_type": "stream",
     "text": [
      "          reward  difficulty   duration\n",
      "count  10.000000   10.000000  10.000000\n",
      "mean    4.200000    7.700000   6.500000\n",
      "std     3.583915    5.831905   2.321398\n",
      "min     0.000000    0.000000   3.000000\n",
      "25%     2.000000    5.000000   5.000000\n",
      "50%     4.000000    8.500000   7.000000\n",
      "75%     5.000000   10.000000   7.000000\n",
      "max    10.000000   20.000000  10.000000\n",
      "\n",
      "\n",
      " \n",
      "\n",
      "\n",
      "<class 'pandas.core.frame.DataFrame'>\n",
      "RangeIndex: 10 entries, 0 to 9\n",
      "Data columns (total 6 columns):\n",
      " #   Column      Non-Null Count  Dtype \n",
      "---  ------      --------------  ----- \n",
      " 0   reward      10 non-null     int64 \n",
      " 1   channels    10 non-null     object\n",
      " 2   difficulty  10 non-null     int64 \n",
      " 3   duration    10 non-null     int64 \n",
      " 4   offer_type  10 non-null     object\n",
      " 5   id          10 non-null     object\n",
      "dtypes: int64(3), object(3)\n",
      "memory usage: 608.0+ bytes\n",
      "None\n",
      "\n",
      "\n",
      "(10, 6)\n",
      "\n",
      "\n"
     ]
    }
   ],
   "source": [
    "exam_understand(portfolio)"
   ]
  },
  {
   "cell_type": "code",
   "execution_count": 5,
   "metadata": {},
   "outputs": [
    {
     "name": "stdout",
     "output_type": "stream",
     "text": [
      "                age  became_member_on         income\n",
      "count  17000.000000      1.700000e+04   14825.000000\n",
      "mean      62.531412      2.016703e+07   65404.991568\n",
      "std       26.738580      1.167750e+04   21598.299410\n",
      "min       18.000000      2.013073e+07   30000.000000\n",
      "25%       45.000000      2.016053e+07   49000.000000\n",
      "50%       58.000000      2.017080e+07   64000.000000\n",
      "75%       73.000000      2.017123e+07   80000.000000\n",
      "max      118.000000      2.018073e+07  120000.000000\n",
      "\n",
      "\n",
      " \n",
      "\n",
      "\n",
      "<class 'pandas.core.frame.DataFrame'>\n",
      "RangeIndex: 17000 entries, 0 to 16999\n",
      "Data columns (total 5 columns):\n",
      " #   Column            Non-Null Count  Dtype  \n",
      "---  ------            --------------  -----  \n",
      " 0   gender            14825 non-null  object \n",
      " 1   age               17000 non-null  int64  \n",
      " 2   id                17000 non-null  object \n",
      " 3   became_member_on  17000 non-null  int64  \n",
      " 4   income            14825 non-null  float64\n",
      "dtypes: float64(1), int64(2), object(2)\n",
      "memory usage: 664.2+ KB\n",
      "None\n",
      "\n",
      "\n",
      "(17000, 5)\n",
      "\n",
      "\n"
     ]
    }
   ],
   "source": [
    "exam_understand(profile)\n"
   ]
  },
  {
   "cell_type": "code",
   "execution_count": 6,
   "metadata": {},
   "outputs": [
    {
     "name": "stdout",
     "output_type": "stream",
     "text": [
      "                time\n",
      "count  306534.000000\n",
      "mean      366.382940\n",
      "std       200.326314\n",
      "min         0.000000\n",
      "25%       186.000000\n",
      "50%       408.000000\n",
      "75%       528.000000\n",
      "max       714.000000\n",
      "\n",
      "\n",
      " \n",
      "\n",
      "\n",
      "<class 'pandas.core.frame.DataFrame'>\n",
      "RangeIndex: 306534 entries, 0 to 306533\n",
      "Data columns (total 4 columns):\n",
      " #   Column  Non-Null Count   Dtype \n",
      "---  ------  --------------   ----- \n",
      " 0   person  306534 non-null  object\n",
      " 1   event   306534 non-null  object\n",
      " 2   value   306534 non-null  object\n",
      " 3   time    306534 non-null  int64 \n",
      "dtypes: int64(1), object(3)\n",
      "memory usage: 9.4+ MB\n",
      "None\n",
      "\n",
      "\n",
      "(306534, 4)\n",
      "\n",
      "\n"
     ]
    }
   ],
   "source": [
    "exam_understand(transcript)"
   ]
  },
  {
   "cell_type": "code",
   "execution_count": 7,
   "metadata": {},
   "outputs": [
    {
     "name": "stdout",
     "output_type": "stream",
     "text": [
      "<class 'pandas.core.frame.DataFrame'>\n",
      "RangeIndex: 10 entries, 0 to 9\n",
      "Data columns (total 6 columns):\n",
      " #   Column      Non-Null Count  Dtype \n",
      "---  ------      --------------  ----- \n",
      " 0   reward      10 non-null     int64 \n",
      " 1   channels    10 non-null     object\n",
      " 2   difficulty  10 non-null     int64 \n",
      " 3   duration    10 non-null     int64 \n",
      " 4   offer_type  10 non-null     object\n",
      " 5   id          10 non-null     object\n",
      "dtypes: int64(3), object(3)\n",
      "memory usage: 608.0+ bytes\n"
     ]
    }
   ],
   "source": [
    "portfolio.info()"
   ]
  },
  {
   "cell_type": "code",
   "execution_count": 8,
   "metadata": {},
   "outputs": [
    {
     "data": {
      "text/html": [
       "<div>\n",
       "<style scoped>\n",
       "    .dataframe tbody tr th:only-of-type {\n",
       "        vertical-align: middle;\n",
       "    }\n",
       "\n",
       "    .dataframe tbody tr th {\n",
       "        vertical-align: top;\n",
       "    }\n",
       "\n",
       "    .dataframe thead th {\n",
       "        text-align: right;\n",
       "    }\n",
       "</style>\n",
       "<table border=\"1\" class=\"dataframe\">\n",
       "  <thead>\n",
       "    <tr style=\"text-align: right;\">\n",
       "      <th></th>\n",
       "      <th>reward</th>\n",
       "      <th>channels</th>\n",
       "      <th>difficulty</th>\n",
       "      <th>duration</th>\n",
       "      <th>offer_type</th>\n",
       "      <th>id</th>\n",
       "    </tr>\n",
       "  </thead>\n",
       "  <tbody>\n",
       "    <tr>\n",
       "      <th>0</th>\n",
       "      <td>10</td>\n",
       "      <td>[email, mobile, social]</td>\n",
       "      <td>10</td>\n",
       "      <td>7</td>\n",
       "      <td>bogo</td>\n",
       "      <td>ae264e3637204a6fb9bb56bc8210ddfd</td>\n",
       "    </tr>\n",
       "    <tr>\n",
       "      <th>1</th>\n",
       "      <td>10</td>\n",
       "      <td>[web, email, mobile, social]</td>\n",
       "      <td>10</td>\n",
       "      <td>5</td>\n",
       "      <td>bogo</td>\n",
       "      <td>4d5c57ea9a6940dd891ad53e9dbe8da0</td>\n",
       "    </tr>\n",
       "    <tr>\n",
       "      <th>2</th>\n",
       "      <td>0</td>\n",
       "      <td>[web, email, mobile]</td>\n",
       "      <td>0</td>\n",
       "      <td>4</td>\n",
       "      <td>informational</td>\n",
       "      <td>3f207df678b143eea3cee63160fa8bed</td>\n",
       "    </tr>\n",
       "    <tr>\n",
       "      <th>3</th>\n",
       "      <td>5</td>\n",
       "      <td>[web, email, mobile]</td>\n",
       "      <td>5</td>\n",
       "      <td>7</td>\n",
       "      <td>bogo</td>\n",
       "      <td>9b98b8c7a33c4b65b9aebfe6a799e6d9</td>\n",
       "    </tr>\n",
       "    <tr>\n",
       "      <th>4</th>\n",
       "      <td>5</td>\n",
       "      <td>[web, email]</td>\n",
       "      <td>20</td>\n",
       "      <td>10</td>\n",
       "      <td>discount</td>\n",
       "      <td>0b1e1539f2cc45b7b9fa7c272da2e1d7</td>\n",
       "    </tr>\n",
       "  </tbody>\n",
       "</table>\n",
       "</div>"
      ],
      "text/plain": [
       "   reward                      channels  difficulty  duration     offer_type  \\\n",
       "0      10       [email, mobile, social]          10         7           bogo   \n",
       "1      10  [web, email, mobile, social]          10         5           bogo   \n",
       "2       0          [web, email, mobile]           0         4  informational   \n",
       "3       5          [web, email, mobile]           5         7           bogo   \n",
       "4       5                  [web, email]          20        10       discount   \n",
       "\n",
       "                                 id  \n",
       "0  ae264e3637204a6fb9bb56bc8210ddfd  \n",
       "1  4d5c57ea9a6940dd891ad53e9dbe8da0  \n",
       "2  3f207df678b143eea3cee63160fa8bed  \n",
       "3  9b98b8c7a33c4b65b9aebfe6a799e6d9  \n",
       "4  0b1e1539f2cc45b7b9fa7c272da2e1d7  "
      ]
     },
     "execution_count": 8,
     "metadata": {},
     "output_type": "execute_result"
    }
   ],
   "source": [
    "portfolio.head()"
   ]
  },
  {
   "cell_type": "code",
   "execution_count": 9,
   "metadata": {},
   "outputs": [
    {
     "data": {
      "text/html": [
       "<div>\n",
       "<style scoped>\n",
       "    .dataframe tbody tr th:only-of-type {\n",
       "        vertical-align: middle;\n",
       "    }\n",
       "\n",
       "    .dataframe tbody tr th {\n",
       "        vertical-align: top;\n",
       "    }\n",
       "\n",
       "    .dataframe thead th {\n",
       "        text-align: right;\n",
       "    }\n",
       "</style>\n",
       "<table border=\"1\" class=\"dataframe\">\n",
       "  <thead>\n",
       "    <tr style=\"text-align: right;\">\n",
       "      <th></th>\n",
       "      <th>gender</th>\n",
       "      <th>age</th>\n",
       "      <th>id</th>\n",
       "      <th>became_member_on</th>\n",
       "      <th>income</th>\n",
       "    </tr>\n",
       "  </thead>\n",
       "  <tbody>\n",
       "    <tr>\n",
       "      <th>0</th>\n",
       "      <td>None</td>\n",
       "      <td>118</td>\n",
       "      <td>68be06ca386d4c31939f3a4f0e3dd783</td>\n",
       "      <td>20170212</td>\n",
       "      <td>NaN</td>\n",
       "    </tr>\n",
       "    <tr>\n",
       "      <th>1</th>\n",
       "      <td>F</td>\n",
       "      <td>55</td>\n",
       "      <td>0610b486422d4921ae7d2bf64640c50b</td>\n",
       "      <td>20170715</td>\n",
       "      <td>112000.0</td>\n",
       "    </tr>\n",
       "    <tr>\n",
       "      <th>2</th>\n",
       "      <td>None</td>\n",
       "      <td>118</td>\n",
       "      <td>38fe809add3b4fcf9315a9694bb96ff5</td>\n",
       "      <td>20180712</td>\n",
       "      <td>NaN</td>\n",
       "    </tr>\n",
       "    <tr>\n",
       "      <th>3</th>\n",
       "      <td>F</td>\n",
       "      <td>75</td>\n",
       "      <td>78afa995795e4d85b5d9ceeca43f5fef</td>\n",
       "      <td>20170509</td>\n",
       "      <td>100000.0</td>\n",
       "    </tr>\n",
       "    <tr>\n",
       "      <th>4</th>\n",
       "      <td>None</td>\n",
       "      <td>118</td>\n",
       "      <td>a03223e636434f42ac4c3df47e8bac43</td>\n",
       "      <td>20170804</td>\n",
       "      <td>NaN</td>\n",
       "    </tr>\n",
       "  </tbody>\n",
       "</table>\n",
       "</div>"
      ],
      "text/plain": [
       "  gender  age                                id  became_member_on    income\n",
       "0   None  118  68be06ca386d4c31939f3a4f0e3dd783          20170212       NaN\n",
       "1      F   55  0610b486422d4921ae7d2bf64640c50b          20170715  112000.0\n",
       "2   None  118  38fe809add3b4fcf9315a9694bb96ff5          20180712       NaN\n",
       "3      F   75  78afa995795e4d85b5d9ceeca43f5fef          20170509  100000.0\n",
       "4   None  118  a03223e636434f42ac4c3df47e8bac43          20170804       NaN"
      ]
     },
     "execution_count": 9,
     "metadata": {},
     "output_type": "execute_result"
    }
   ],
   "source": [
    "profile.head()"
   ]
  },
  {
   "cell_type": "code",
   "execution_count": 10,
   "metadata": {},
   "outputs": [
    {
     "data": {
      "text/html": [
       "<div>\n",
       "<style scoped>\n",
       "    .dataframe tbody tr th:only-of-type {\n",
       "        vertical-align: middle;\n",
       "    }\n",
       "\n",
       "    .dataframe tbody tr th {\n",
       "        vertical-align: top;\n",
       "    }\n",
       "\n",
       "    .dataframe thead th {\n",
       "        text-align: right;\n",
       "    }\n",
       "</style>\n",
       "<table border=\"1\" class=\"dataframe\">\n",
       "  <thead>\n",
       "    <tr style=\"text-align: right;\">\n",
       "      <th></th>\n",
       "      <th>person</th>\n",
       "      <th>event</th>\n",
       "      <th>value</th>\n",
       "      <th>time</th>\n",
       "    </tr>\n",
       "  </thead>\n",
       "  <tbody>\n",
       "    <tr>\n",
       "      <th>0</th>\n",
       "      <td>78afa995795e4d85b5d9ceeca43f5fef</td>\n",
       "      <td>offer received</td>\n",
       "      <td>{'offer id': '9b98b8c7a33c4b65b9aebfe6a799e6d9'}</td>\n",
       "      <td>0</td>\n",
       "    </tr>\n",
       "    <tr>\n",
       "      <th>1</th>\n",
       "      <td>a03223e636434f42ac4c3df47e8bac43</td>\n",
       "      <td>offer received</td>\n",
       "      <td>{'offer id': '0b1e1539f2cc45b7b9fa7c272da2e1d7'}</td>\n",
       "      <td>0</td>\n",
       "    </tr>\n",
       "    <tr>\n",
       "      <th>2</th>\n",
       "      <td>e2127556f4f64592b11af22de27a7932</td>\n",
       "      <td>offer received</td>\n",
       "      <td>{'offer id': '2906b810c7d4411798c6938adc9daaa5'}</td>\n",
       "      <td>0</td>\n",
       "    </tr>\n",
       "    <tr>\n",
       "      <th>3</th>\n",
       "      <td>8ec6ce2a7e7949b1bf142def7d0e0586</td>\n",
       "      <td>offer received</td>\n",
       "      <td>{'offer id': 'fafdcd668e3743c1bb461111dcafc2a4'}</td>\n",
       "      <td>0</td>\n",
       "    </tr>\n",
       "    <tr>\n",
       "      <th>4</th>\n",
       "      <td>68617ca6246f4fbc85e91a2a49552598</td>\n",
       "      <td>offer received</td>\n",
       "      <td>{'offer id': '4d5c57ea9a6940dd891ad53e9dbe8da0'}</td>\n",
       "      <td>0</td>\n",
       "    </tr>\n",
       "  </tbody>\n",
       "</table>\n",
       "</div>"
      ],
      "text/plain": [
       "                             person           event  \\\n",
       "0  78afa995795e4d85b5d9ceeca43f5fef  offer received   \n",
       "1  a03223e636434f42ac4c3df47e8bac43  offer received   \n",
       "2  e2127556f4f64592b11af22de27a7932  offer received   \n",
       "3  8ec6ce2a7e7949b1bf142def7d0e0586  offer received   \n",
       "4  68617ca6246f4fbc85e91a2a49552598  offer received   \n",
       "\n",
       "                                              value  time  \n",
       "0  {'offer id': '9b98b8c7a33c4b65b9aebfe6a799e6d9'}     0  \n",
       "1  {'offer id': '0b1e1539f2cc45b7b9fa7c272da2e1d7'}     0  \n",
       "2  {'offer id': '2906b810c7d4411798c6938adc9daaa5'}     0  \n",
       "3  {'offer id': 'fafdcd668e3743c1bb461111dcafc2a4'}     0  \n",
       "4  {'offer id': '4d5c57ea9a6940dd891ad53e9dbe8da0'}     0  "
      ]
     },
     "execution_count": 10,
     "metadata": {},
     "output_type": "execute_result"
    }
   ],
   "source": [
    "transcript.head()"
   ]
  },
  {
   "cell_type": "code",
   "execution_count": 11,
   "metadata": {},
   "outputs": [
    {
     "data": {
      "text/plain": [
       "transaction        138953\n",
       "offer received      76277\n",
       "offer viewed        57725\n",
       "offer completed     33579\n",
       "Name: event, dtype: int64"
      ]
     },
     "execution_count": 11,
     "metadata": {},
     "output_type": "execute_result"
    }
   ],
   "source": [
    "transcript['event'].value_counts()"
   ]
  },
  {
   "cell_type": "markdown",
   "metadata": {},
   "source": [
    "## 2a. Clean\n",
    "## 3. Features extraction and engineering"
   ]
  },
  {
   "cell_type": "code",
   "execution_count": 12,
   "metadata": {},
   "outputs": [],
   "source": [
    "def clean_transact(datta):\n",
    "    \"\"\"The clean_transact function will do data cleaning and wrangling of the transaction data \n",
    "     \n",
    "     Input:\n",
    "         data (DataFrame) : The dataset for cleaning\n",
    "         \n",
    "         \n",
    "     Output:\n",
    "         \n",
    "         clean_dat (DataFrame) : cleaned dataset\n",
    "    \n",
    "    \n",
    "    \"\"\"\n",
    "    \n",
    "    # make copy of the data\n",
    "    data = datta.copy()\n",
    "    \n",
    "    # extract the values from the rewards if the exist on the value column's dictionary\n",
    "    #  if don't exist replace with 99999\n",
    "    data['offer_id_rewards'] = data['value'].apply(lambda x: list(x.values())[1] if len(list(x.values())) > 1 else 99999)\n",
    "    \n",
    "\n",
    "    # extract the 'offer ids','offer_id', and 'amount' keywords from the value column's dictionary and convert to string dtype\n",
    "    data['offer_id_keys'] = data['value'].apply(lambda x: list(x.keys())[0]).astype(str)\n",
    "    \n",
    "    # extract the offer values of the value column's dictionary\n",
    "    # these are the offer ids and rewards amounts respectively where they exist\n",
    "    data['offer_id_values'] = data['value'].apply(lambda x: list(x.values())[0])\n",
    "    \n",
    "    \n",
    "    # extract offer ids if there is an offer or replace with no_offer is there is not offer made to user\n",
    "    data[\"offer_id\"] = data[[\"offer_id_values\", \"offer_id_keys\"]].apply(lambda x: x[0] if x[1] !=\"amount\" else \"no_offer\" , axis=1)\n",
    "    \n",
    "    \n",
    "    # extract the offer amount is there was an offer or replace with 9999 if not offer was made to user\n",
    "    data[\"reward_amt\"] = data[[\"offer_id_values\", \"offer_id_keys\"]].apply(lambda x: x[0] if x[1] ==\"amount\" else 9999 , axis=1)\n",
    "    \n",
    "    \n",
    "    # drop columns not essential for further analysis\n",
    "    data.drop(columns=[\"value\", \"offer_id_keys\", \"offer_id_keys\"], inplace=True)\n",
    "    \n",
    "    return data\n"
   ]
  },
  {
   "cell_type": "code",
   "execution_count": 13,
   "metadata": {},
   "outputs": [],
   "source": [
    "def profile_cleaner(dat):\n",
    "    \"\"\"The profile_cleaner function will do data cleaning and wrangling of the profile data \n",
    "     \n",
    "     Input:\n",
    "         dat (DataFrame) : The dataset for cleaning\n",
    "         \n",
    "         \n",
    "     Output:\n",
    "         \n",
    "         profile2 (DataFrame) : cleaned dataset\n",
    "         \n",
    "    \n",
    "    \"\"\"\n",
    "    \n",
    "    # make copy of the data\n",
    "    profile2 = dat.copy()\n",
    "    \n",
    "    # convert become_member_on column to datetime dtype\n",
    "    profile2[\"membershipDate\"] = pd.to_datetime(profile2[\"became_member_on\"], format=\"%Y%m%d\")\n",
    "    \n",
    "    # get the most recent member membership start date\n",
    "    ## add 1 day to it, to get a reference date => refDate\n",
    "    refDate = profile2.membershipDate.max().date() + dt.timedelta(days=1)\n",
    "    \n",
    "    # calculate days since joining, using the refDate\n",
    "    profile2[\"membershipDays\"] = profile2[\"membershipDate\"].apply(lambda x : (refDate - x.date()).days)\n",
    "    \n",
    "    # get income groups\n",
    "    #     Lowest income less than 31,000\n",
    "    #     Lower-middle income between 31,000  and 41,999\n",
    "    #     Middle-income between 42,000 and 125,999\n",
    "    #     Upper-middle income between 126,000 and 187,999\n",
    "    #     Higher-income more than 188,000 \n",
    "    \n",
    "    # sorted bar chart on ordinal categories\n",
    "    ordering_i = [\"Lowest\", \"Lower-middle\", \"Middle-income\",\"Upper-middle\", \"Higher-income\"]\n",
    "    ti = pd.api.types.CategoricalDtype(categories= ordering_i, ordered=True)\n",
    "\n",
    "    profile2[\"incomegroups\"] = pd.cut(profile2.income, bins=[0,30999,42000,126000, 188000, 1000000],\n",
    "                                   labels=ordering_i, right=False).astype(ti)\n",
    "                  \n",
    "                  \n",
    "    # categorise age to get agegroups\n",
    "    #     - Elder Adults (over 70 years old)\n",
    "    #     - Baby Boomers (Roughly 51 to 70 years old)\n",
    "    #     - Generation X (Roughly 35 – 50 years old)\n",
    "    #     - Millennials, or Generation Y (18 – 34 years old)\n",
    "    #     - Generation Z, or iGeneration (Teens & younger)\n",
    "                  \n",
    "    ordering_a = [ \"millennials\", \"genX\", \"babyboomer\",\"elderlyadult\"]\n",
    "    ta = pd.api.types.CategoricalDtype(categories= ordering_a, ordered=True)\n",
    "    \n",
    "    profile2[\"agegroups\"] = pd.cut(profile2.age, bins=[profile2.age.min(),35,51,71, profile2.age.max()+1],\n",
    "                                   labels=ordering_a, right=False).astype(ta)\n",
    "    \n",
    "    \n",
    "    # drop become_member_on column \n",
    "    profile2.drop(columns=[\"became_member_on\"], inplace=True)\n",
    "    \n",
    "    return profile2\n",
    "    \n",
    "    "
   ]
  },
  {
   "cell_type": "code",
   "execution_count": 14,
   "metadata": {},
   "outputs": [],
   "source": [
    "def clean_portfolio(datapp):\n",
    "    \"\"\"The clean_portfolio function will do data cleaning and wrangling of the portfolio data \n",
    "     \n",
    "     Input:\n",
    "         datapp (DataFrame) : The dataset for cleaning\n",
    "         \n",
    "         \n",
    "     Output:\n",
    "         \n",
    "         vectdata (DataFrame) : cleaned dataset\n",
    "    \n",
    "    \n",
    "    \"\"\"\n",
    "    \n",
    "    # make copy of the data\n",
    "    datap = datapp.copy()\n",
    "    \n",
    "    # get ids\n",
    "    bbb = datap.id.tolist()\n",
    "    \n",
    "    # create offerType2\n",
    "    # datap['offerType2'] = datap[['offer_type', 'id']].apply(lambda x: x[0]+str(bbb.index(x[1])), axis=1)\n",
    "    datap['offer_id_short'] = [str(x).strip()[-4:] for x in datap['id']]\n",
    "    datap['offerType2'] = datap[['offer_type', 'offer_id_short']].agg('-'.join, axis=1)\n",
    "    \n",
    "    \n",
    "    # initialize countervectorizer\n",
    "    countVectorizer = CountVectorizer()\n",
    "    \n",
    "    # tranform channels column content list to text\n",
    "    datap['ch'] = datap['channels'].apply(lambda x: \" \".join(word for word in x))\n",
    "    \n",
    "    # Fit and  Transform the texts\n",
    "    content_vectorized = countVectorizer.fit_transform(datap['ch'])\n",
    "\n",
    "    # convert to array\n",
    "    content_Varray = content_vectorized.toarray()\n",
    "\n",
    "\n",
    "    # convert to dataframe\n",
    "    content_df = pd.DataFrame(content_Varray, \n",
    "                         columns=countVectorizer.get_feature_names()).add_prefix('Channel_')\n",
    "\n",
    "    # concat the dataframes\n",
    "    vectdata = pd.concat([datap, content_df], axis=1)\n",
    "    \n",
    "\n",
    "    # drop channels and ch columns\n",
    "    vectdata.drop(columns=['channels', 'ch'], inplace=True)\n",
    "    \n",
    "    return vectdata\n"
   ]
  },
  {
   "cell_type": "markdown",
   "metadata": {},
   "source": [
    "## 2b.  Join datasets"
   ]
  },
  {
   "cell_type": "code",
   "execution_count": 15,
   "metadata": {},
   "outputs": [],
   "source": [
    "def data_merger(data1, data22, data33):\n",
    "    \"\"\"The data_merger function will merge the datasets\n",
    "    \n",
    "    Inputs:\n",
    "        data1 (DataFrame)\n",
    "        data22 (DataFrame)\n",
    "        data33 (DataFrame)\n",
    "        \n",
    "    \n",
    "    Output:\n",
    "        data4 (DataFrame) : Merged dataset\n",
    "        \n",
    "    \n",
    "    \"\"\"\n",
    "    \n",
    "    # clean raw  datasets\n",
    "    # clean transcripts dataset\n",
    "    data1_clean = clean_transact(data1)\n",
    "    \n",
    "    # clean profile dataset\n",
    "    data2 = profile_cleaner(data22)\n",
    "    \n",
    "    #     # clean portfolio dataset\n",
    "    data3 = clean_portfolio(data33)\n",
    "   \n",
    "    # update the id column name to p_id\n",
    "    # profile had a column named id\n",
    "    # this will give error on merging the datasets\n",
    "    data3.rename(columns = {'id':'p_id'}, inplace = True) \n",
    "    \n",
    "    \n",
    "    # merge cleaned trascript and profile datasets\n",
    "    data4 = pd.merge(data1_clean, data2, how=\"outer\", left_on =\"person\", right_on=\"id\")\n",
    "    \n",
    "    # merge data4 with cleaned portfolio dataset\n",
    "    data5 = pd.merge(data4, data3, how=\"outer\", left_on =\"offer_id\", right_on=\"p_id\")\n",
    "    \n",
    "    \n",
    "    # drop duplicate columns\n",
    "    data5.drop(columns=[\"offer_id_values\", \"id\", \"p_id\"], inplace=True)\n",
    "    \n",
    "    return data5\n"
   ]
  },
  {
   "cell_type": "code",
   "execution_count": null,
   "metadata": {},
   "outputs": [],
   "source": []
  },
  {
   "cell_type": "code",
   "execution_count": 16,
   "metadata": {},
   "outputs": [],
   "source": [
    "clean_data = data_merger(transcript, profile, portfolio)"
   ]
  },
  {
   "cell_type": "code",
   "execution_count": 17,
   "metadata": {},
   "outputs": [
    {
     "data": {
      "text/html": [
       "<div>\n",
       "<style scoped>\n",
       "    .dataframe tbody tr th:only-of-type {\n",
       "        vertical-align: middle;\n",
       "    }\n",
       "\n",
       "    .dataframe tbody tr th {\n",
       "        vertical-align: top;\n",
       "    }\n",
       "\n",
       "    .dataframe thead th {\n",
       "        text-align: right;\n",
       "    }\n",
       "</style>\n",
       "<table border=\"1\" class=\"dataframe\">\n",
       "  <thead>\n",
       "    <tr style=\"text-align: right;\">\n",
       "      <th></th>\n",
       "      <th>person</th>\n",
       "      <th>event</th>\n",
       "      <th>time</th>\n",
       "      <th>offer_id_rewards</th>\n",
       "      <th>offer_id</th>\n",
       "      <th>reward_amt</th>\n",
       "      <th>gender</th>\n",
       "      <th>age</th>\n",
       "      <th>income</th>\n",
       "      <th>membershipDate</th>\n",
       "      <th>...</th>\n",
       "      <th>reward</th>\n",
       "      <th>difficulty</th>\n",
       "      <th>duration</th>\n",
       "      <th>offer_type</th>\n",
       "      <th>offer_id_short</th>\n",
       "      <th>offerType2</th>\n",
       "      <th>Channel_email</th>\n",
       "      <th>Channel_mobile</th>\n",
       "      <th>Channel_social</th>\n",
       "      <th>Channel_web</th>\n",
       "    </tr>\n",
       "  </thead>\n",
       "  <tbody>\n",
       "    <tr>\n",
       "      <th>0</th>\n",
       "      <td>78afa995795e4d85b5d9ceeca43f5fef</td>\n",
       "      <td>offer received</td>\n",
       "      <td>0</td>\n",
       "      <td>99999</td>\n",
       "      <td>9b98b8c7a33c4b65b9aebfe6a799e6d9</td>\n",
       "      <td>9999.0</td>\n",
       "      <td>F</td>\n",
       "      <td>75</td>\n",
       "      <td>100000.0</td>\n",
       "      <td>2017-05-09</td>\n",
       "      <td>...</td>\n",
       "      <td>5.0</td>\n",
       "      <td>5.0</td>\n",
       "      <td>7.0</td>\n",
       "      <td>bogo</td>\n",
       "      <td>e6d9</td>\n",
       "      <td>bogo-e6d9</td>\n",
       "      <td>1.0</td>\n",
       "      <td>1.0</td>\n",
       "      <td>0.0</td>\n",
       "      <td>1.0</td>\n",
       "    </tr>\n",
       "    <tr>\n",
       "      <th>1</th>\n",
       "      <td>78afa995795e4d85b5d9ceeca43f5fef</td>\n",
       "      <td>offer viewed</td>\n",
       "      <td>6</td>\n",
       "      <td>99999</td>\n",
       "      <td>9b98b8c7a33c4b65b9aebfe6a799e6d9</td>\n",
       "      <td>9999.0</td>\n",
       "      <td>F</td>\n",
       "      <td>75</td>\n",
       "      <td>100000.0</td>\n",
       "      <td>2017-05-09</td>\n",
       "      <td>...</td>\n",
       "      <td>5.0</td>\n",
       "      <td>5.0</td>\n",
       "      <td>7.0</td>\n",
       "      <td>bogo</td>\n",
       "      <td>e6d9</td>\n",
       "      <td>bogo-e6d9</td>\n",
       "      <td>1.0</td>\n",
       "      <td>1.0</td>\n",
       "      <td>0.0</td>\n",
       "      <td>1.0</td>\n",
       "    </tr>\n",
       "    <tr>\n",
       "      <th>2</th>\n",
       "      <td>78afa995795e4d85b5d9ceeca43f5fef</td>\n",
       "      <td>offer completed</td>\n",
       "      <td>132</td>\n",
       "      <td>5</td>\n",
       "      <td>9b98b8c7a33c4b65b9aebfe6a799e6d9</td>\n",
       "      <td>9999.0</td>\n",
       "      <td>F</td>\n",
       "      <td>75</td>\n",
       "      <td>100000.0</td>\n",
       "      <td>2017-05-09</td>\n",
       "      <td>...</td>\n",
       "      <td>5.0</td>\n",
       "      <td>5.0</td>\n",
       "      <td>7.0</td>\n",
       "      <td>bogo</td>\n",
       "      <td>e6d9</td>\n",
       "      <td>bogo-e6d9</td>\n",
       "      <td>1.0</td>\n",
       "      <td>1.0</td>\n",
       "      <td>0.0</td>\n",
       "      <td>1.0</td>\n",
       "    </tr>\n",
       "    <tr>\n",
       "      <th>3</th>\n",
       "      <td>e2127556f4f64592b11af22de27a7932</td>\n",
       "      <td>offer received</td>\n",
       "      <td>408</td>\n",
       "      <td>99999</td>\n",
       "      <td>9b98b8c7a33c4b65b9aebfe6a799e6d9</td>\n",
       "      <td>9999.0</td>\n",
       "      <td>M</td>\n",
       "      <td>68</td>\n",
       "      <td>70000.0</td>\n",
       "      <td>2018-04-26</td>\n",
       "      <td>...</td>\n",
       "      <td>5.0</td>\n",
       "      <td>5.0</td>\n",
       "      <td>7.0</td>\n",
       "      <td>bogo</td>\n",
       "      <td>e6d9</td>\n",
       "      <td>bogo-e6d9</td>\n",
       "      <td>1.0</td>\n",
       "      <td>1.0</td>\n",
       "      <td>0.0</td>\n",
       "      <td>1.0</td>\n",
       "    </tr>\n",
       "    <tr>\n",
       "      <th>4</th>\n",
       "      <td>e2127556f4f64592b11af22de27a7932</td>\n",
       "      <td>offer viewed</td>\n",
       "      <td>420</td>\n",
       "      <td>99999</td>\n",
       "      <td>9b98b8c7a33c4b65b9aebfe6a799e6d9</td>\n",
       "      <td>9999.0</td>\n",
       "      <td>M</td>\n",
       "      <td>68</td>\n",
       "      <td>70000.0</td>\n",
       "      <td>2018-04-26</td>\n",
       "      <td>...</td>\n",
       "      <td>5.0</td>\n",
       "      <td>5.0</td>\n",
       "      <td>7.0</td>\n",
       "      <td>bogo</td>\n",
       "      <td>e6d9</td>\n",
       "      <td>bogo-e6d9</td>\n",
       "      <td>1.0</td>\n",
       "      <td>1.0</td>\n",
       "      <td>0.0</td>\n",
       "      <td>1.0</td>\n",
       "    </tr>\n",
       "  </tbody>\n",
       "</table>\n",
       "<p>5 rows × 23 columns</p>\n",
       "</div>"
      ],
      "text/plain": [
       "                             person            event  time  offer_id_rewards  \\\n",
       "0  78afa995795e4d85b5d9ceeca43f5fef   offer received     0             99999   \n",
       "1  78afa995795e4d85b5d9ceeca43f5fef     offer viewed     6             99999   \n",
       "2  78afa995795e4d85b5d9ceeca43f5fef  offer completed   132                 5   \n",
       "3  e2127556f4f64592b11af22de27a7932   offer received   408             99999   \n",
       "4  e2127556f4f64592b11af22de27a7932     offer viewed   420             99999   \n",
       "\n",
       "                           offer_id  reward_amt gender  age    income  \\\n",
       "0  9b98b8c7a33c4b65b9aebfe6a799e6d9      9999.0      F   75  100000.0   \n",
       "1  9b98b8c7a33c4b65b9aebfe6a799e6d9      9999.0      F   75  100000.0   \n",
       "2  9b98b8c7a33c4b65b9aebfe6a799e6d9      9999.0      F   75  100000.0   \n",
       "3  9b98b8c7a33c4b65b9aebfe6a799e6d9      9999.0      M   68   70000.0   \n",
       "4  9b98b8c7a33c4b65b9aebfe6a799e6d9      9999.0      M   68   70000.0   \n",
       "\n",
       "  membershipDate  ...  reward difficulty duration  offer_type  offer_id_short  \\\n",
       "0     2017-05-09  ...     5.0        5.0      7.0        bogo            e6d9   \n",
       "1     2017-05-09  ...     5.0        5.0      7.0        bogo            e6d9   \n",
       "2     2017-05-09  ...     5.0        5.0      7.0        bogo            e6d9   \n",
       "3     2018-04-26  ...     5.0        5.0      7.0        bogo            e6d9   \n",
       "4     2018-04-26  ...     5.0        5.0      7.0        bogo            e6d9   \n",
       "\n",
       "   offerType2 Channel_email Channel_mobile Channel_social  Channel_web  \n",
       "0   bogo-e6d9           1.0            1.0            0.0          1.0  \n",
       "1   bogo-e6d9           1.0            1.0            0.0          1.0  \n",
       "2   bogo-e6d9           1.0            1.0            0.0          1.0  \n",
       "3   bogo-e6d9           1.0            1.0            0.0          1.0  \n",
       "4   bogo-e6d9           1.0            1.0            0.0          1.0  \n",
       "\n",
       "[5 rows x 23 columns]"
      ]
     },
     "execution_count": 17,
     "metadata": {},
     "output_type": "execute_result"
    }
   ],
   "source": [
    "clean_data.head()"
   ]
  },
  {
   "cell_type": "code",
   "execution_count": 18,
   "metadata": {},
   "outputs": [
    {
     "name": "stdout",
     "output_type": "stream",
     "text": [
      "                time  offer_id_rewards     reward_amt            age  \\\n",
      "count  306534.000000     306534.000000  306534.000000  306534.000000   \n",
      "mean      366.382940      89045.233876    5472.208208      60.909367   \n",
      "std       200.326314      31230.275860    4971.338070      26.032030   \n",
      "min         0.000000          2.000000       0.050000      18.000000   \n",
      "25%       186.000000      99999.000000      10.770000      43.000000   \n",
      "50%       408.000000      99999.000000    9999.000000      57.000000   \n",
      "75%       528.000000      99999.000000    9999.000000      72.000000   \n",
      "max       714.000000      99999.000000    9999.000000     118.000000   \n",
      "\n",
      "              income  membershipDays        reward     difficulty  \\\n",
      "count  272762.000000   306534.000000  167581.00000  167581.000000   \n",
      "mean    64337.000755      575.943011       4.41991       7.850401   \n",
      "std     21243.762941      421.482784       3.37336       5.048944   \n",
      "min     30000.000000        1.000000       0.00000       0.000000   \n",
      "25%     48000.000000      243.000000       2.00000       5.000000   \n",
      "50%     62000.000000      470.000000       5.00000      10.000000   \n",
      "75%     78000.000000      857.000000       5.00000      10.000000   \n",
      "max    120000.000000     1824.000000      10.00000      20.000000   \n",
      "\n",
      "            duration  Channel_email  Channel_mobile  Channel_social  \\\n",
      "count  167581.000000       167581.0   167581.000000   167581.000000   \n",
      "mean        6.610737            1.0        0.917944        0.656996   \n",
      "std         2.136130            0.0        0.274451        0.474714   \n",
      "min         3.000000            1.0        0.000000        0.000000   \n",
      "25%         5.000000            1.0        1.000000        0.000000   \n",
      "50%         7.000000            1.0        1.000000        1.000000   \n",
      "75%         7.000000            1.0        1.000000        1.000000   \n",
      "max        10.000000            1.0        1.000000        1.000000   \n",
      "\n",
      "         Channel_web  \n",
      "count  167581.000000  \n",
      "mean        0.806858  \n",
      "std         0.394765  \n",
      "min         0.000000  \n",
      "25%         1.000000  \n",
      "50%         1.000000  \n",
      "75%         1.000000  \n",
      "max         1.000000  \n",
      "\n",
      "\n",
      " \n",
      "\n",
      "\n",
      "<class 'pandas.core.frame.DataFrame'>\n",
      "Int64Index: 306534 entries, 0 to 306533\n",
      "Data columns (total 23 columns):\n",
      " #   Column            Non-Null Count   Dtype         \n",
      "---  ------            --------------   -----         \n",
      " 0   person            306534 non-null  object        \n",
      " 1   event             306534 non-null  object        \n",
      " 2   time              306534 non-null  int64         \n",
      " 3   offer_id_rewards  306534 non-null  int64         \n",
      " 4   offer_id          306534 non-null  object        \n",
      " 5   reward_amt        306534 non-null  float64       \n",
      " 6   gender            272762 non-null  object        \n",
      " 7   age               306534 non-null  int64         \n",
      " 8   income            272762 non-null  float64       \n",
      " 9   membershipDate    306534 non-null  datetime64[ns]\n",
      " 10  membershipDays    306534 non-null  int64         \n",
      " 11  incomegroups      272762 non-null  category      \n",
      " 12  agegroups         306534 non-null  category      \n",
      " 13  reward            167581 non-null  float64       \n",
      " 14  difficulty        167581 non-null  float64       \n",
      " 15  duration          167581 non-null  float64       \n",
      " 16  offer_type        167581 non-null  object        \n",
      " 17  offer_id_short    167581 non-null  object        \n",
      " 18  offerType2        167581 non-null  object        \n",
      " 19  Channel_email     167581 non-null  float64       \n",
      " 20  Channel_mobile    167581 non-null  float64       \n",
      " 21  Channel_social    167581 non-null  float64       \n",
      " 22  Channel_web       167581 non-null  float64       \n",
      "dtypes: category(2), datetime64[ns](1), float64(9), int64(4), object(7)\n",
      "memory usage: 52.0+ MB\n",
      "None\n",
      "\n",
      "\n",
      "(306534, 23)\n",
      "\n",
      "\n"
     ]
    }
   ],
   "source": [
    "exam_understand(clean_data)"
   ]
  },
  {
   "cell_type": "code",
   "execution_count": null,
   "metadata": {},
   "outputs": [],
   "source": []
  },
  {
   "cell_type": "code",
   "execution_count": 19,
   "metadata": {},
   "outputs": [
    {
     "data": {
      "text/plain": [
       "(306534, 23)"
      ]
     },
     "execution_count": 19,
     "metadata": {},
     "output_type": "execute_result"
    }
   ],
   "source": [
    "clean_data.shape"
   ]
  },
  {
   "cell_type": "code",
   "execution_count": 20,
   "metadata": {},
   "outputs": [
    {
     "data": {
      "text/plain": [
       "babyboomer      117015\n",
       "elderlyadult     80795\n",
       "genX             64408\n",
       "millennials      44316\n",
       "Name: agegroups, dtype: int64"
      ]
     },
     "execution_count": 20,
     "metadata": {},
     "output_type": "execute_result"
    }
   ],
   "source": [
    "clean_data.agegroups.value_counts()"
   ]
  },
  {
   "cell_type": "markdown",
   "metadata": {},
   "source": [
    "\n",
    "**profile.json**\n",
    "* age (int) - age of the customer \n",
    "* became_member_on (int) - date when customer created an app account\n",
    "* gender (str) - gender of the customer (note some entries contain 'O' for other rather than M or F)\n",
    "* id (str) - customer id\n",
    "* income (float) - customer's income\n",
    "\n",
    "**transcript.json**\n",
    "* event (str) - record description (ie transaction, offer received, offer viewed, etc.)\n",
    "* person (str) - customer id\n",
    "* time (int) - time in hours since start of test. The data begins at time t=0\n",
    "* value - (dict of strings) - either an offer id or transaction amount depending on the record"
   ]
  },
  {
   "cell_type": "markdown",
   "metadata": {},
   "source": [
    "# 3. Exploratory and explanatory data analysis"
   ]
  },
  {
   "cell_type": "markdown",
   "metadata": {},
   "source": [
    "## 3a.  Missing data analysis"
   ]
  },
  {
   "cell_type": "code",
   "execution_count": 21,
   "metadata": {},
   "outputs": [
    {
     "data": {
      "text/plain": [
       "transaction        14996\n",
       "offer received      9776\n",
       "offer viewed        7865\n",
       "offer completed     1135\n",
       "Name: event, dtype: int64"
      ]
     },
     "execution_count": 21,
     "metadata": {},
     "output_type": "execute_result"
    }
   ],
   "source": [
    "# analyse missing gender\n",
    "missing_gender = clean_data[clean_data['gender'].isna()]\n",
    "missing_gender.event.value_counts()"
   ]
  },
  {
   "cell_type": "code",
   "execution_count": 22,
   "metadata": {},
   "outputs": [
    {
     "data": {
      "text/html": [
       "<div>\n",
       "<style scoped>\n",
       "    .dataframe tbody tr th:only-of-type {\n",
       "        vertical-align: middle;\n",
       "    }\n",
       "\n",
       "    .dataframe tbody tr th {\n",
       "        vertical-align: top;\n",
       "    }\n",
       "\n",
       "    .dataframe thead th {\n",
       "        text-align: right;\n",
       "    }\n",
       "</style>\n",
       "<table border=\"1\" class=\"dataframe\">\n",
       "  <thead>\n",
       "    <tr style=\"text-align: right;\">\n",
       "      <th></th>\n",
       "      <th>person</th>\n",
       "      <th>event</th>\n",
       "      <th>time</th>\n",
       "      <th>offer_id_rewards</th>\n",
       "      <th>offer_id</th>\n",
       "      <th>reward_amt</th>\n",
       "      <th>gender</th>\n",
       "      <th>age</th>\n",
       "      <th>income</th>\n",
       "      <th>membershipDate</th>\n",
       "      <th>...</th>\n",
       "      <th>reward</th>\n",
       "      <th>difficulty</th>\n",
       "      <th>duration</th>\n",
       "      <th>offer_type</th>\n",
       "      <th>offer_id_short</th>\n",
       "      <th>offerType2</th>\n",
       "      <th>Channel_email</th>\n",
       "      <th>Channel_mobile</th>\n",
       "      <th>Channel_social</th>\n",
       "      <th>Channel_web</th>\n",
       "    </tr>\n",
       "  </thead>\n",
       "  <tbody>\n",
       "    <tr>\n",
       "      <th>6</th>\n",
       "      <td>68617ca6246f4fbc85e91a2a49552598</td>\n",
       "      <td>offer received</td>\n",
       "      <td>504</td>\n",
       "      <td>99999</td>\n",
       "      <td>9b98b8c7a33c4b65b9aebfe6a799e6d9</td>\n",
       "      <td>9999.0</td>\n",
       "      <td>None</td>\n",
       "      <td>118</td>\n",
       "      <td>NaN</td>\n",
       "      <td>2017-10-02</td>\n",
       "      <td>...</td>\n",
       "      <td>5.0</td>\n",
       "      <td>5.0</td>\n",
       "      <td>7.0</td>\n",
       "      <td>bogo</td>\n",
       "      <td>e6d9</td>\n",
       "      <td>bogo-e6d9</td>\n",
       "      <td>1.0</td>\n",
       "      <td>1.0</td>\n",
       "      <td>0.0</td>\n",
       "      <td>1.0</td>\n",
       "    </tr>\n",
       "    <tr>\n",
       "      <th>7</th>\n",
       "      <td>68617ca6246f4fbc85e91a2a49552598</td>\n",
       "      <td>offer viewed</td>\n",
       "      <td>648</td>\n",
       "      <td>99999</td>\n",
       "      <td>9b98b8c7a33c4b65b9aebfe6a799e6d9</td>\n",
       "      <td>9999.0</td>\n",
       "      <td>None</td>\n",
       "      <td>118</td>\n",
       "      <td>NaN</td>\n",
       "      <td>2017-10-02</td>\n",
       "      <td>...</td>\n",
       "      <td>5.0</td>\n",
       "      <td>5.0</td>\n",
       "      <td>7.0</td>\n",
       "      <td>bogo</td>\n",
       "      <td>e6d9</td>\n",
       "      <td>bogo-e6d9</td>\n",
       "      <td>1.0</td>\n",
       "      <td>1.0</td>\n",
       "      <td>0.0</td>\n",
       "      <td>1.0</td>\n",
       "    </tr>\n",
       "    <tr>\n",
       "      <th>17</th>\n",
       "      <td>65aba5c617294649aeb624da249e1ee5</td>\n",
       "      <td>offer received</td>\n",
       "      <td>168</td>\n",
       "      <td>99999</td>\n",
       "      <td>9b98b8c7a33c4b65b9aebfe6a799e6d9</td>\n",
       "      <td>9999.0</td>\n",
       "      <td>None</td>\n",
       "      <td>118</td>\n",
       "      <td>NaN</td>\n",
       "      <td>2017-03-30</td>\n",
       "      <td>...</td>\n",
       "      <td>5.0</td>\n",
       "      <td>5.0</td>\n",
       "      <td>7.0</td>\n",
       "      <td>bogo</td>\n",
       "      <td>e6d9</td>\n",
       "      <td>bogo-e6d9</td>\n",
       "      <td>1.0</td>\n",
       "      <td>1.0</td>\n",
       "      <td>0.0</td>\n",
       "      <td>1.0</td>\n",
       "    </tr>\n",
       "    <tr>\n",
       "      <th>18</th>\n",
       "      <td>65aba5c617294649aeb624da249e1ee5</td>\n",
       "      <td>offer viewed</td>\n",
       "      <td>174</td>\n",
       "      <td>99999</td>\n",
       "      <td>9b98b8c7a33c4b65b9aebfe6a799e6d9</td>\n",
       "      <td>9999.0</td>\n",
       "      <td>None</td>\n",
       "      <td>118</td>\n",
       "      <td>NaN</td>\n",
       "      <td>2017-03-30</td>\n",
       "      <td>...</td>\n",
       "      <td>5.0</td>\n",
       "      <td>5.0</td>\n",
       "      <td>7.0</td>\n",
       "      <td>bogo</td>\n",
       "      <td>e6d9</td>\n",
       "      <td>bogo-e6d9</td>\n",
       "      <td>1.0</td>\n",
       "      <td>1.0</td>\n",
       "      <td>0.0</td>\n",
       "      <td>1.0</td>\n",
       "    </tr>\n",
       "    <tr>\n",
       "      <th>75</th>\n",
       "      <td>5e9c83e8ab4d4e9ca83f3256d83ca756</td>\n",
       "      <td>offer received</td>\n",
       "      <td>504</td>\n",
       "      <td>99999</td>\n",
       "      <td>9b98b8c7a33c4b65b9aebfe6a799e6d9</td>\n",
       "      <td>9999.0</td>\n",
       "      <td>None</td>\n",
       "      <td>118</td>\n",
       "      <td>NaN</td>\n",
       "      <td>2016-01-30</td>\n",
       "      <td>...</td>\n",
       "      <td>5.0</td>\n",
       "      <td>5.0</td>\n",
       "      <td>7.0</td>\n",
       "      <td>bogo</td>\n",
       "      <td>e6d9</td>\n",
       "      <td>bogo-e6d9</td>\n",
       "      <td>1.0</td>\n",
       "      <td>1.0</td>\n",
       "      <td>0.0</td>\n",
       "      <td>1.0</td>\n",
       "    </tr>\n",
       "  </tbody>\n",
       "</table>\n",
       "<p>5 rows × 23 columns</p>\n",
       "</div>"
      ],
      "text/plain": [
       "                              person           event  time  offer_id_rewards  \\\n",
       "6   68617ca6246f4fbc85e91a2a49552598  offer received   504             99999   \n",
       "7   68617ca6246f4fbc85e91a2a49552598    offer viewed   648             99999   \n",
       "17  65aba5c617294649aeb624da249e1ee5  offer received   168             99999   \n",
       "18  65aba5c617294649aeb624da249e1ee5    offer viewed   174             99999   \n",
       "75  5e9c83e8ab4d4e9ca83f3256d83ca756  offer received   504             99999   \n",
       "\n",
       "                            offer_id  reward_amt gender  age  income  \\\n",
       "6   9b98b8c7a33c4b65b9aebfe6a799e6d9      9999.0   None  118     NaN   \n",
       "7   9b98b8c7a33c4b65b9aebfe6a799e6d9      9999.0   None  118     NaN   \n",
       "17  9b98b8c7a33c4b65b9aebfe6a799e6d9      9999.0   None  118     NaN   \n",
       "18  9b98b8c7a33c4b65b9aebfe6a799e6d9      9999.0   None  118     NaN   \n",
       "75  9b98b8c7a33c4b65b9aebfe6a799e6d9      9999.0   None  118     NaN   \n",
       "\n",
       "   membershipDate  ...  reward difficulty duration  offer_type  \\\n",
       "6      2017-10-02  ...     5.0        5.0      7.0        bogo   \n",
       "7      2017-10-02  ...     5.0        5.0      7.0        bogo   \n",
       "17     2017-03-30  ...     5.0        5.0      7.0        bogo   \n",
       "18     2017-03-30  ...     5.0        5.0      7.0        bogo   \n",
       "75     2016-01-30  ...     5.0        5.0      7.0        bogo   \n",
       "\n",
       "    offer_id_short  offerType2 Channel_email Channel_mobile Channel_social  \\\n",
       "6             e6d9   bogo-e6d9           1.0            1.0            0.0   \n",
       "7             e6d9   bogo-e6d9           1.0            1.0            0.0   \n",
       "17            e6d9   bogo-e6d9           1.0            1.0            0.0   \n",
       "18            e6d9   bogo-e6d9           1.0            1.0            0.0   \n",
       "75            e6d9   bogo-e6d9           1.0            1.0            0.0   \n",
       "\n",
       "    Channel_web  \n",
       "6           1.0  \n",
       "7           1.0  \n",
       "17          1.0  \n",
       "18          1.0  \n",
       "75          1.0  \n",
       "\n",
       "[5 rows x 23 columns]"
      ]
     },
     "execution_count": 22,
     "metadata": {},
     "output_type": "execute_result"
    }
   ],
   "source": [
    "missing_gender.head()"
   ]
  },
  {
   "cell_type": "code",
   "execution_count": 23,
   "metadata": {},
   "outputs": [
    {
     "data": {
      "text/plain": [
       "((33772, 23), 2175)"
      ]
     },
     "execution_count": 23,
     "metadata": {},
     "output_type": "execute_result"
    }
   ],
   "source": [
    "missing_gender.shape, missing_gender.person.nunique()"
   ]
  },
  {
   "cell_type": "code",
   "execution_count": 24,
   "metadata": {},
   "outputs": [
    {
     "data": {
      "text/plain": [
       "transaction        14996\n",
       "offer received      9776\n",
       "offer viewed        7865\n",
       "offer completed     1135\n",
       "Name: event, dtype: int64"
      ]
     },
     "execution_count": 24,
     "metadata": {},
     "output_type": "execute_result"
    }
   ],
   "source": [
    "# analyse missing income\n",
    "missing_income = clean_data[clean_data['income'].isna()]\n",
    "missing_income.event.value_counts()"
   ]
  },
  {
   "cell_type": "code",
   "execution_count": 25,
   "metadata": {},
   "outputs": [
    {
     "data": {
      "text/plain": [
       "((33772, 23), 2175)"
      ]
     },
     "execution_count": 25,
     "metadata": {},
     "output_type": "execute_result"
    }
   ],
   "source": [
    "missing_income.shape, missing_income.person.nunique()"
   ]
  },
  {
   "cell_type": "code",
   "execution_count": 26,
   "metadata": {},
   "outputs": [
    {
     "data": {
      "text/plain": [
       "transaction        14996\n",
       "offer received      9776\n",
       "offer viewed        7865\n",
       "offer completed     1135\n",
       "Name: event, dtype: int64"
      ]
     },
     "execution_count": 26,
     "metadata": {},
     "output_type": "execute_result"
    }
   ],
   "source": [
    "# analyse missing gender among those missing income\n",
    "missing_income_gender = missing_income[missing_income['gender'].isna()]\n",
    "missing_income_gender.event.value_counts()"
   ]
  },
  {
   "cell_type": "code",
   "execution_count": 27,
   "metadata": {},
   "outputs": [
    {
     "data": {
      "text/plain": [
       "(2175, 23)"
      ]
     },
     "execution_count": 27,
     "metadata": {},
     "output_type": "execute_result"
    }
   ],
   "source": [
    "missing_income_nodup = missing_income.drop_duplicates(subset=['person'])\n",
    "missing_income_nodup.shape"
   ]
  },
  {
   "cell_type": "code",
   "execution_count": 28,
   "metadata": {},
   "outputs": [
    {
     "data": {
      "text/plain": [
       "transaction       1303\n",
       "offer received     872\n",
       "Name: event, dtype: int64"
      ]
     },
     "execution_count": 28,
     "metadata": {},
     "output_type": "execute_result"
    }
   ],
   "source": [
    "missing_income_nodup.event.value_counts()"
   ]
  },
  {
   "cell_type": "code",
   "execution_count": 29,
   "metadata": {},
   "outputs": [
    {
     "data": {
      "text/plain": [
       "(0, 23)"
      ]
     },
     "execution_count": 29,
     "metadata": {},
     "output_type": "execute_result"
    }
   ],
   "source": [
    "# analyse none missing gender among those missing income\n",
    "missing_income_gender_npg = missing_income[~missing_income['gender'].isna()]\n",
    "missing_income_gender_npg.shape"
   ]
  },
  {
   "cell_type": "code",
   "execution_count": null,
   "metadata": {},
   "outputs": [],
   "source": []
  },
  {
   "cell_type": "code",
   "execution_count": 30,
   "metadata": {},
   "outputs": [
    {
     "data": {
      "text/plain": [
       "count    33772.0\n",
       "mean       118.0\n",
       "std          0.0\n",
       "min        118.0\n",
       "25%        118.0\n",
       "50%        118.0\n",
       "75%        118.0\n",
       "max        118.0\n",
       "Name: age, dtype: float64"
      ]
     },
     "execution_count": 30,
     "metadata": {},
     "output_type": "execute_result"
    }
   ],
   "source": [
    "# analyse age amongst those missing gender and income\n",
    "missing_income.age.describe()"
   ]
  },
  {
   "cell_type": "code",
   "execution_count": 31,
   "metadata": {},
   "outputs": [
    {
     "data": {
      "text/html": [
       "<div>\n",
       "<style scoped>\n",
       "    .dataframe tbody tr th:only-of-type {\n",
       "        vertical-align: middle;\n",
       "    }\n",
       "\n",
       "    .dataframe tbody tr th {\n",
       "        vertical-align: top;\n",
       "    }\n",
       "\n",
       "    .dataframe thead th {\n",
       "        text-align: right;\n",
       "    }\n",
       "</style>\n",
       "<table border=\"1\" class=\"dataframe\">\n",
       "  <thead>\n",
       "    <tr style=\"text-align: right;\">\n",
       "      <th></th>\n",
       "      <th>person</th>\n",
       "      <th>event</th>\n",
       "      <th>time</th>\n",
       "      <th>offer_id_rewards</th>\n",
       "      <th>offer_id</th>\n",
       "      <th>reward_amt</th>\n",
       "      <th>gender</th>\n",
       "      <th>age</th>\n",
       "      <th>income</th>\n",
       "      <th>membershipDate</th>\n",
       "      <th>...</th>\n",
       "      <th>reward</th>\n",
       "      <th>difficulty</th>\n",
       "      <th>duration</th>\n",
       "      <th>offer_type</th>\n",
       "      <th>offer_id_short</th>\n",
       "      <th>offerType2</th>\n",
       "      <th>Channel_email</th>\n",
       "      <th>Channel_mobile</th>\n",
       "      <th>Channel_social</th>\n",
       "      <th>Channel_web</th>\n",
       "    </tr>\n",
       "  </thead>\n",
       "  <tbody>\n",
       "    <tr>\n",
       "      <th>16202</th>\n",
       "      <td>78afa995795e4d85b5d9ceeca43f5fef</td>\n",
       "      <td>transaction</td>\n",
       "      <td>132</td>\n",
       "      <td>99999</td>\n",
       "      <td>no_offer</td>\n",
       "      <td>19.89</td>\n",
       "      <td>F</td>\n",
       "      <td>75</td>\n",
       "      <td>100000.0</td>\n",
       "      <td>2017-05-09</td>\n",
       "      <td>...</td>\n",
       "      <td>NaN</td>\n",
       "      <td>NaN</td>\n",
       "      <td>NaN</td>\n",
       "      <td>NaN</td>\n",
       "      <td>NaN</td>\n",
       "      <td>NaN</td>\n",
       "      <td>NaN</td>\n",
       "      <td>NaN</td>\n",
       "      <td>NaN</td>\n",
       "      <td>NaN</td>\n",
       "    </tr>\n",
       "    <tr>\n",
       "      <th>16203</th>\n",
       "      <td>78afa995795e4d85b5d9ceeca43f5fef</td>\n",
       "      <td>transaction</td>\n",
       "      <td>144</td>\n",
       "      <td>99999</td>\n",
       "      <td>no_offer</td>\n",
       "      <td>17.78</td>\n",
       "      <td>F</td>\n",
       "      <td>75</td>\n",
       "      <td>100000.0</td>\n",
       "      <td>2017-05-09</td>\n",
       "      <td>...</td>\n",
       "      <td>NaN</td>\n",
       "      <td>NaN</td>\n",
       "      <td>NaN</td>\n",
       "      <td>NaN</td>\n",
       "      <td>NaN</td>\n",
       "      <td>NaN</td>\n",
       "      <td>NaN</td>\n",
       "      <td>NaN</td>\n",
       "      <td>NaN</td>\n",
       "      <td>NaN</td>\n",
       "    </tr>\n",
       "    <tr>\n",
       "      <th>16204</th>\n",
       "      <td>78afa995795e4d85b5d9ceeca43f5fef</td>\n",
       "      <td>transaction</td>\n",
       "      <td>222</td>\n",
       "      <td>99999</td>\n",
       "      <td>no_offer</td>\n",
       "      <td>19.67</td>\n",
       "      <td>F</td>\n",
       "      <td>75</td>\n",
       "      <td>100000.0</td>\n",
       "      <td>2017-05-09</td>\n",
       "      <td>...</td>\n",
       "      <td>NaN</td>\n",
       "      <td>NaN</td>\n",
       "      <td>NaN</td>\n",
       "      <td>NaN</td>\n",
       "      <td>NaN</td>\n",
       "      <td>NaN</td>\n",
       "      <td>NaN</td>\n",
       "      <td>NaN</td>\n",
       "      <td>NaN</td>\n",
       "      <td>NaN</td>\n",
       "    </tr>\n",
       "    <tr>\n",
       "      <th>16205</th>\n",
       "      <td>78afa995795e4d85b5d9ceeca43f5fef</td>\n",
       "      <td>transaction</td>\n",
       "      <td>240</td>\n",
       "      <td>99999</td>\n",
       "      <td>no_offer</td>\n",
       "      <td>29.72</td>\n",
       "      <td>F</td>\n",
       "      <td>75</td>\n",
       "      <td>100000.0</td>\n",
       "      <td>2017-05-09</td>\n",
       "      <td>...</td>\n",
       "      <td>NaN</td>\n",
       "      <td>NaN</td>\n",
       "      <td>NaN</td>\n",
       "      <td>NaN</td>\n",
       "      <td>NaN</td>\n",
       "      <td>NaN</td>\n",
       "      <td>NaN</td>\n",
       "      <td>NaN</td>\n",
       "      <td>NaN</td>\n",
       "      <td>NaN</td>\n",
       "    </tr>\n",
       "    <tr>\n",
       "      <th>16206</th>\n",
       "      <td>78afa995795e4d85b5d9ceeca43f5fef</td>\n",
       "      <td>transaction</td>\n",
       "      <td>378</td>\n",
       "      <td>99999</td>\n",
       "      <td>no_offer</td>\n",
       "      <td>23.93</td>\n",
       "      <td>F</td>\n",
       "      <td>75</td>\n",
       "      <td>100000.0</td>\n",
       "      <td>2017-05-09</td>\n",
       "      <td>...</td>\n",
       "      <td>NaN</td>\n",
       "      <td>NaN</td>\n",
       "      <td>NaN</td>\n",
       "      <td>NaN</td>\n",
       "      <td>NaN</td>\n",
       "      <td>NaN</td>\n",
       "      <td>NaN</td>\n",
       "      <td>NaN</td>\n",
       "      <td>NaN</td>\n",
       "      <td>NaN</td>\n",
       "    </tr>\n",
       "  </tbody>\n",
       "</table>\n",
       "<p>5 rows × 23 columns</p>\n",
       "</div>"
      ],
      "text/plain": [
       "                                 person        event  time  offer_id_rewards  \\\n",
       "16202  78afa995795e4d85b5d9ceeca43f5fef  transaction   132             99999   \n",
       "16203  78afa995795e4d85b5d9ceeca43f5fef  transaction   144             99999   \n",
       "16204  78afa995795e4d85b5d9ceeca43f5fef  transaction   222             99999   \n",
       "16205  78afa995795e4d85b5d9ceeca43f5fef  transaction   240             99999   \n",
       "16206  78afa995795e4d85b5d9ceeca43f5fef  transaction   378             99999   \n",
       "\n",
       "       offer_id  reward_amt gender  age    income membershipDate  ...  reward  \\\n",
       "16202  no_offer       19.89      F   75  100000.0     2017-05-09  ...     NaN   \n",
       "16203  no_offer       17.78      F   75  100000.0     2017-05-09  ...     NaN   \n",
       "16204  no_offer       19.67      F   75  100000.0     2017-05-09  ...     NaN   \n",
       "16205  no_offer       29.72      F   75  100000.0     2017-05-09  ...     NaN   \n",
       "16206  no_offer       23.93      F   75  100000.0     2017-05-09  ...     NaN   \n",
       "\n",
       "      difficulty duration  offer_type  offer_id_short  offerType2  \\\n",
       "16202        NaN      NaN         NaN             NaN         NaN   \n",
       "16203        NaN      NaN         NaN             NaN         NaN   \n",
       "16204        NaN      NaN         NaN             NaN         NaN   \n",
       "16205        NaN      NaN         NaN             NaN         NaN   \n",
       "16206        NaN      NaN         NaN             NaN         NaN   \n",
       "\n",
       "      Channel_email Channel_mobile Channel_social  Channel_web  \n",
       "16202           NaN            NaN            NaN          NaN  \n",
       "16203           NaN            NaN            NaN          NaN  \n",
       "16204           NaN            NaN            NaN          NaN  \n",
       "16205           NaN            NaN            NaN          NaN  \n",
       "16206           NaN            NaN            NaN          NaN  \n",
       "\n",
       "[5 rows x 23 columns]"
      ]
     },
     "execution_count": 31,
     "metadata": {},
     "output_type": "execute_result"
    }
   ],
   "source": [
    "nullreward = clean_data[clean_data.reward.isnull()]\n",
    "nullreward.head()"
   ]
  },
  {
   "cell_type": "code",
   "execution_count": 32,
   "metadata": {},
   "outputs": [
    {
     "name": "stdout",
     "output_type": "stream",
     "text": [
      "<class 'pandas.core.frame.DataFrame'>\n",
      "Int64Index: 138953 entries, 16202 to 155154\n",
      "Data columns (total 23 columns):\n",
      " #   Column            Non-Null Count   Dtype         \n",
      "---  ------            --------------   -----         \n",
      " 0   person            138953 non-null  object        \n",
      " 1   event             138953 non-null  object        \n",
      " 2   time              138953 non-null  int64         \n",
      " 3   offer_id_rewards  138953 non-null  int64         \n",
      " 4   offer_id          138953 non-null  object        \n",
      " 5   reward_amt        138953 non-null  float64       \n",
      " 6   gender            123957 non-null  object        \n",
      " 7   age               138953 non-null  int64         \n",
      " 8   income            123957 non-null  float64       \n",
      " 9   membershipDate    138953 non-null  datetime64[ns]\n",
      " 10  membershipDays    138953 non-null  int64         \n",
      " 11  incomegroups      123957 non-null  category      \n",
      " 12  agegroups         138953 non-null  category      \n",
      " 13  reward            0 non-null       float64       \n",
      " 14  difficulty        0 non-null       float64       \n",
      " 15  duration          0 non-null       float64       \n",
      " 16  offer_type        0 non-null       object        \n",
      " 17  offer_id_short    0 non-null       object        \n",
      " 18  offerType2        0 non-null       object        \n",
      " 19  Channel_email     0 non-null       float64       \n",
      " 20  Channel_mobile    0 non-null       float64       \n",
      " 21  Channel_social    0 non-null       float64       \n",
      " 22  Channel_web       0 non-null       float64       \n",
      "dtypes: category(2), datetime64[ns](1), float64(9), int64(4), object(7)\n",
      "memory usage: 23.6+ MB\n"
     ]
    }
   ],
   "source": [
    "nullreward.info()"
   ]
  },
  {
   "cell_type": "code",
   "execution_count": 33,
   "metadata": {},
   "outputs": [
    {
     "data": {
      "text/plain": [
       "transaction    138953\n",
       "Name: event, dtype: int64"
      ]
     },
     "execution_count": 33,
     "metadata": {},
     "output_type": "execute_result"
    }
   ],
   "source": [
    "nullreward.event.value_counts()"
   ]
  },
  {
   "cell_type": "markdown",
   "metadata": {},
   "source": [
    "## insights\n",
    "\n",
    "- From the analysis above, members missing gender data also had missing income data.\n",
    "- Looking carefully at the age for members with missing gender and income data, the mean, max, median, 25% and 75% percentiles are the same, 118 years with standard deviation of 0.0. Therefore,\n",
    "     - Apart from the age of 118 years being questionable; all 2172 user had the same age, 118 years.\n",
    "     - Also, many of those missing gender and income data were transaction (1303) with few receiving an offer (872) but none of them ever viewed or completed the offer.\n",
    "     - I can conclude that the missing entries in the data is not random.\n",
    "     - I can conclude that those missing income, age and gender data wouldn't contribute much information toward our analysis.\n",
    "- Missing reward, difficulty, duration, offer_type, offerType2, Channel_email, Channel_mobile, Channel_social, Channel_web are associated with features of offer. Therefore, they are missing if user didn't receive an offer. Also, for user with missing data on these variable, the event recorded is only transaction, confirming that those user didn't receive any offer.\n",
    "        \n",
    "- Based on the above analysis, it seem reasonable to drop missing gender and age data from further analysis"
   ]
  },
  {
   "cell_type": "markdown",
   "metadata": {},
   "source": [
    "## 3b. Working with complete, non-missing dataset"
   ]
  },
  {
   "cell_type": "code",
   "execution_count": 34,
   "metadata": {},
   "outputs": [
    {
     "data": {
      "text/plain": [
       "transaction        123957\n",
       "offer received      66501\n",
       "offer viewed        49860\n",
       "offer completed     32444\n",
       "Name: event, dtype: int64"
      ]
     },
     "execution_count": 34,
     "metadata": {},
     "output_type": "execute_result"
    }
   ],
   "source": [
    "data = clean_data[~clean_data['gender'].isna()]\n",
    "data.event.value_counts()"
   ]
  },
  {
   "cell_type": "code",
   "execution_count": 35,
   "metadata": {},
   "outputs": [
    {
     "name": "stdout",
     "output_type": "stream",
     "text": [
      "<class 'pandas.core.frame.DataFrame'>\n",
      "Int64Index: 272762 entries, 0 to 306533\n",
      "Data columns (total 23 columns):\n",
      " #   Column            Non-Null Count   Dtype         \n",
      "---  ------            --------------   -----         \n",
      " 0   person            272762 non-null  object        \n",
      " 1   event             272762 non-null  object        \n",
      " 2   time              272762 non-null  int64         \n",
      " 3   offer_id_rewards  272762 non-null  int64         \n",
      " 4   offer_id          272762 non-null  object        \n",
      " 5   reward_amt        272762 non-null  float64       \n",
      " 6   gender            272762 non-null  object        \n",
      " 7   age               272762 non-null  int64         \n",
      " 8   income            272762 non-null  float64       \n",
      " 9   membershipDate    272762 non-null  datetime64[ns]\n",
      " 10  membershipDays    272762 non-null  int64         \n",
      " 11  incomegroups      272762 non-null  category      \n",
      " 12  agegroups         272762 non-null  category      \n",
      " 13  reward            148805 non-null  float64       \n",
      " 14  difficulty        148805 non-null  float64       \n",
      " 15  duration          148805 non-null  float64       \n",
      " 16  offer_type        148805 non-null  object        \n",
      " 17  offer_id_short    148805 non-null  object        \n",
      " 18  offerType2        148805 non-null  object        \n",
      " 19  Channel_email     148805 non-null  float64       \n",
      " 20  Channel_mobile    148805 non-null  float64       \n",
      " 21  Channel_social    148805 non-null  float64       \n",
      " 22  Channel_web       148805 non-null  float64       \n",
      "dtypes: category(2), datetime64[ns](1), float64(9), int64(4), object(7)\n",
      "memory usage: 46.3+ MB\n"
     ]
    }
   ],
   "source": [
    "data.info()"
   ]
  },
  {
   "cell_type": "code",
   "execution_count": 36,
   "metadata": {},
   "outputs": [
    {
     "data": {
      "text/plain": [
       "14825"
      ]
     },
     "execution_count": 36,
     "metadata": {},
     "output_type": "execute_result"
    }
   ],
   "source": [
    "data.person.nunique()"
   ]
  },
  {
   "cell_type": "code",
   "execution_count": 37,
   "metadata": {},
   "outputs": [],
   "source": [
    "data = data.fillna({'reward': 99 ,'difficulty':99, 'offer_type':'No_offer', \n",
    "                    'offerType2':'No_offer','duration':0, 'Channel_web':0,\n",
    "                    'Channel_email':0, 'Channel_mobile':0, 'Channel_social':0})\n",
    "\n",
    "# data = data.fillna(0, inplace = True)"
   ]
  },
  {
   "cell_type": "code",
   "execution_count": 38,
   "metadata": {},
   "outputs": [
    {
     "name": "stdout",
     "output_type": "stream",
     "text": [
      "<class 'pandas.core.frame.DataFrame'>\n",
      "Int64Index: 272762 entries, 0 to 306533\n",
      "Data columns (total 23 columns):\n",
      " #   Column            Non-Null Count   Dtype         \n",
      "---  ------            --------------   -----         \n",
      " 0   person            272762 non-null  object        \n",
      " 1   event             272762 non-null  object        \n",
      " 2   time              272762 non-null  int64         \n",
      " 3   offer_id_rewards  272762 non-null  int64         \n",
      " 4   offer_id          272762 non-null  object        \n",
      " 5   reward_amt        272762 non-null  float64       \n",
      " 6   gender            272762 non-null  object        \n",
      " 7   age               272762 non-null  int64         \n",
      " 8   income            272762 non-null  float64       \n",
      " 9   membershipDate    272762 non-null  datetime64[ns]\n",
      " 10  membershipDays    272762 non-null  int64         \n",
      " 11  incomegroups      272762 non-null  category      \n",
      " 12  agegroups         272762 non-null  category      \n",
      " 13  reward            272762 non-null  float64       \n",
      " 14  difficulty        272762 non-null  float64       \n",
      " 15  duration          272762 non-null  float64       \n",
      " 16  offer_type        272762 non-null  object        \n",
      " 17  offer_id_short    148805 non-null  object        \n",
      " 18  offerType2        272762 non-null  object        \n",
      " 19  Channel_email     272762 non-null  float64       \n",
      " 20  Channel_mobile    272762 non-null  float64       \n",
      " 21  Channel_social    272762 non-null  float64       \n",
      " 22  Channel_web       272762 non-null  float64       \n",
      "dtypes: category(2), datetime64[ns](1), float64(9), int64(4), object(7)\n",
      "memory usage: 46.3+ MB\n"
     ]
    }
   ],
   "source": [
    "data.info()\n"
   ]
  },
  {
   "cell_type": "code",
   "execution_count": 39,
   "metadata": {},
   "outputs": [
    {
     "data": {
      "text/html": [
       "<div>\n",
       "<style scoped>\n",
       "    .dataframe tbody tr th:only-of-type {\n",
       "        vertical-align: middle;\n",
       "    }\n",
       "\n",
       "    .dataframe tbody tr th {\n",
       "        vertical-align: top;\n",
       "    }\n",
       "\n",
       "    .dataframe thead th {\n",
       "        text-align: right;\n",
       "    }\n",
       "</style>\n",
       "<table border=\"1\" class=\"dataframe\">\n",
       "  <thead>\n",
       "    <tr style=\"text-align: right;\">\n",
       "      <th></th>\n",
       "      <th>person</th>\n",
       "      <th>event</th>\n",
       "      <th>time</th>\n",
       "      <th>offer_id_rewards</th>\n",
       "      <th>offer_id</th>\n",
       "      <th>reward_amt</th>\n",
       "      <th>gender</th>\n",
       "      <th>age</th>\n",
       "      <th>income</th>\n",
       "      <th>membershipDate</th>\n",
       "      <th>...</th>\n",
       "      <th>reward</th>\n",
       "      <th>difficulty</th>\n",
       "      <th>duration</th>\n",
       "      <th>offer_type</th>\n",
       "      <th>offer_id_short</th>\n",
       "      <th>offerType2</th>\n",
       "      <th>Channel_email</th>\n",
       "      <th>Channel_mobile</th>\n",
       "      <th>Channel_social</th>\n",
       "      <th>Channel_web</th>\n",
       "    </tr>\n",
       "  </thead>\n",
       "  <tbody>\n",
       "    <tr>\n",
       "      <th>0</th>\n",
       "      <td>78afa995795e4d85b5d9ceeca43f5fef</td>\n",
       "      <td>offer received</td>\n",
       "      <td>0</td>\n",
       "      <td>99999</td>\n",
       "      <td>9b98b8c7a33c4b65b9aebfe6a799e6d9</td>\n",
       "      <td>9999.0</td>\n",
       "      <td>F</td>\n",
       "      <td>75</td>\n",
       "      <td>100000.0</td>\n",
       "      <td>2017-05-09</td>\n",
       "      <td>...</td>\n",
       "      <td>5.0</td>\n",
       "      <td>5.0</td>\n",
       "      <td>7.0</td>\n",
       "      <td>bogo</td>\n",
       "      <td>e6d9</td>\n",
       "      <td>bogo-e6d9</td>\n",
       "      <td>1.0</td>\n",
       "      <td>1.0</td>\n",
       "      <td>0.0</td>\n",
       "      <td>1.0</td>\n",
       "    </tr>\n",
       "    <tr>\n",
       "      <th>1</th>\n",
       "      <td>78afa995795e4d85b5d9ceeca43f5fef</td>\n",
       "      <td>offer viewed</td>\n",
       "      <td>6</td>\n",
       "      <td>99999</td>\n",
       "      <td>9b98b8c7a33c4b65b9aebfe6a799e6d9</td>\n",
       "      <td>9999.0</td>\n",
       "      <td>F</td>\n",
       "      <td>75</td>\n",
       "      <td>100000.0</td>\n",
       "      <td>2017-05-09</td>\n",
       "      <td>...</td>\n",
       "      <td>5.0</td>\n",
       "      <td>5.0</td>\n",
       "      <td>7.0</td>\n",
       "      <td>bogo</td>\n",
       "      <td>e6d9</td>\n",
       "      <td>bogo-e6d9</td>\n",
       "      <td>1.0</td>\n",
       "      <td>1.0</td>\n",
       "      <td>0.0</td>\n",
       "      <td>1.0</td>\n",
       "    </tr>\n",
       "    <tr>\n",
       "      <th>2</th>\n",
       "      <td>78afa995795e4d85b5d9ceeca43f5fef</td>\n",
       "      <td>offer completed</td>\n",
       "      <td>132</td>\n",
       "      <td>5</td>\n",
       "      <td>9b98b8c7a33c4b65b9aebfe6a799e6d9</td>\n",
       "      <td>9999.0</td>\n",
       "      <td>F</td>\n",
       "      <td>75</td>\n",
       "      <td>100000.0</td>\n",
       "      <td>2017-05-09</td>\n",
       "      <td>...</td>\n",
       "      <td>5.0</td>\n",
       "      <td>5.0</td>\n",
       "      <td>7.0</td>\n",
       "      <td>bogo</td>\n",
       "      <td>e6d9</td>\n",
       "      <td>bogo-e6d9</td>\n",
       "      <td>1.0</td>\n",
       "      <td>1.0</td>\n",
       "      <td>0.0</td>\n",
       "      <td>1.0</td>\n",
       "    </tr>\n",
       "    <tr>\n",
       "      <th>3</th>\n",
       "      <td>e2127556f4f64592b11af22de27a7932</td>\n",
       "      <td>offer received</td>\n",
       "      <td>408</td>\n",
       "      <td>99999</td>\n",
       "      <td>9b98b8c7a33c4b65b9aebfe6a799e6d9</td>\n",
       "      <td>9999.0</td>\n",
       "      <td>M</td>\n",
       "      <td>68</td>\n",
       "      <td>70000.0</td>\n",
       "      <td>2018-04-26</td>\n",
       "      <td>...</td>\n",
       "      <td>5.0</td>\n",
       "      <td>5.0</td>\n",
       "      <td>7.0</td>\n",
       "      <td>bogo</td>\n",
       "      <td>e6d9</td>\n",
       "      <td>bogo-e6d9</td>\n",
       "      <td>1.0</td>\n",
       "      <td>1.0</td>\n",
       "      <td>0.0</td>\n",
       "      <td>1.0</td>\n",
       "    </tr>\n",
       "    <tr>\n",
       "      <th>4</th>\n",
       "      <td>e2127556f4f64592b11af22de27a7932</td>\n",
       "      <td>offer viewed</td>\n",
       "      <td>420</td>\n",
       "      <td>99999</td>\n",
       "      <td>9b98b8c7a33c4b65b9aebfe6a799e6d9</td>\n",
       "      <td>9999.0</td>\n",
       "      <td>M</td>\n",
       "      <td>68</td>\n",
       "      <td>70000.0</td>\n",
       "      <td>2018-04-26</td>\n",
       "      <td>...</td>\n",
       "      <td>5.0</td>\n",
       "      <td>5.0</td>\n",
       "      <td>7.0</td>\n",
       "      <td>bogo</td>\n",
       "      <td>e6d9</td>\n",
       "      <td>bogo-e6d9</td>\n",
       "      <td>1.0</td>\n",
       "      <td>1.0</td>\n",
       "      <td>0.0</td>\n",
       "      <td>1.0</td>\n",
       "    </tr>\n",
       "  </tbody>\n",
       "</table>\n",
       "<p>5 rows × 23 columns</p>\n",
       "</div>"
      ],
      "text/plain": [
       "                             person            event  time  offer_id_rewards  \\\n",
       "0  78afa995795e4d85b5d9ceeca43f5fef   offer received     0             99999   \n",
       "1  78afa995795e4d85b5d9ceeca43f5fef     offer viewed     6             99999   \n",
       "2  78afa995795e4d85b5d9ceeca43f5fef  offer completed   132                 5   \n",
       "3  e2127556f4f64592b11af22de27a7932   offer received   408             99999   \n",
       "4  e2127556f4f64592b11af22de27a7932     offer viewed   420             99999   \n",
       "\n",
       "                           offer_id  reward_amt gender  age    income  \\\n",
       "0  9b98b8c7a33c4b65b9aebfe6a799e6d9      9999.0      F   75  100000.0   \n",
       "1  9b98b8c7a33c4b65b9aebfe6a799e6d9      9999.0      F   75  100000.0   \n",
       "2  9b98b8c7a33c4b65b9aebfe6a799e6d9      9999.0      F   75  100000.0   \n",
       "3  9b98b8c7a33c4b65b9aebfe6a799e6d9      9999.0      M   68   70000.0   \n",
       "4  9b98b8c7a33c4b65b9aebfe6a799e6d9      9999.0      M   68   70000.0   \n",
       "\n",
       "  membershipDate  ...  reward difficulty duration  offer_type  offer_id_short  \\\n",
       "0     2017-05-09  ...     5.0        5.0      7.0        bogo            e6d9   \n",
       "1     2017-05-09  ...     5.0        5.0      7.0        bogo            e6d9   \n",
       "2     2017-05-09  ...     5.0        5.0      7.0        bogo            e6d9   \n",
       "3     2018-04-26  ...     5.0        5.0      7.0        bogo            e6d9   \n",
       "4     2018-04-26  ...     5.0        5.0      7.0        bogo            e6d9   \n",
       "\n",
       "   offerType2 Channel_email Channel_mobile Channel_social  Channel_web  \n",
       "0   bogo-e6d9           1.0            1.0            0.0          1.0  \n",
       "1   bogo-e6d9           1.0            1.0            0.0          1.0  \n",
       "2   bogo-e6d9           1.0            1.0            0.0          1.0  \n",
       "3   bogo-e6d9           1.0            1.0            0.0          1.0  \n",
       "4   bogo-e6d9           1.0            1.0            0.0          1.0  \n",
       "\n",
       "[5 rows x 23 columns]"
      ]
     },
     "execution_count": 39,
     "metadata": {},
     "output_type": "execute_result"
    }
   ],
   "source": [
    "data.head()"
   ]
  },
  {
   "cell_type": "code",
   "execution_count": 40,
   "metadata": {},
   "outputs": [
    {
     "data": {
      "text/html": [
       "<div>\n",
       "<style scoped>\n",
       "    .dataframe tbody tr th:only-of-type {\n",
       "        vertical-align: middle;\n",
       "    }\n",
       "\n",
       "    .dataframe tbody tr th {\n",
       "        vertical-align: top;\n",
       "    }\n",
       "\n",
       "    .dataframe thead th {\n",
       "        text-align: right;\n",
       "    }\n",
       "</style>\n",
       "<table border=\"1\" class=\"dataframe\">\n",
       "  <thead>\n",
       "    <tr style=\"text-align: right;\">\n",
       "      <th></th>\n",
       "      <th>person</th>\n",
       "      <th>event</th>\n",
       "      <th>time</th>\n",
       "      <th>offer_id_rewards</th>\n",
       "      <th>offer_id</th>\n",
       "      <th>reward_amt</th>\n",
       "      <th>gender</th>\n",
       "      <th>age</th>\n",
       "      <th>income</th>\n",
       "      <th>membershipDate</th>\n",
       "      <th>...</th>\n",
       "      <th>reward</th>\n",
       "      <th>difficulty</th>\n",
       "      <th>duration</th>\n",
       "      <th>offer_type</th>\n",
       "      <th>offer_id_short</th>\n",
       "      <th>offerType2</th>\n",
       "      <th>Channel_email</th>\n",
       "      <th>Channel_mobile</th>\n",
       "      <th>Channel_social</th>\n",
       "      <th>Channel_web</th>\n",
       "    </tr>\n",
       "  </thead>\n",
       "  <tbody>\n",
       "    <tr>\n",
       "      <th>155147</th>\n",
       "      <td>47683732768a4f7db7abb710ca22e66e</td>\n",
       "      <td>transaction</td>\n",
       "      <td>684</td>\n",
       "      <td>99999</td>\n",
       "      <td>no_offer</td>\n",
       "      <td>7.10</td>\n",
       "      <td>M</td>\n",
       "      <td>24</td>\n",
       "      <td>56000.0</td>\n",
       "      <td>2017-11-08</td>\n",
       "      <td>...</td>\n",
       "      <td>99.0</td>\n",
       "      <td>99.0</td>\n",
       "      <td>0.0</td>\n",
       "      <td>No_offer</td>\n",
       "      <td>NaN</td>\n",
       "      <td>No_offer</td>\n",
       "      <td>0.0</td>\n",
       "      <td>0.0</td>\n",
       "      <td>0.0</td>\n",
       "      <td>0.0</td>\n",
       "    </tr>\n",
       "    <tr>\n",
       "      <th>155148</th>\n",
       "      <td>3873fe915496482eb589fa316ae7b0db</td>\n",
       "      <td>transaction</td>\n",
       "      <td>510</td>\n",
       "      <td>99999</td>\n",
       "      <td>no_offer</td>\n",
       "      <td>1.57</td>\n",
       "      <td>M</td>\n",
       "      <td>58</td>\n",
       "      <td>57000.0</td>\n",
       "      <td>2017-09-05</td>\n",
       "      <td>...</td>\n",
       "      <td>99.0</td>\n",
       "      <td>99.0</td>\n",
       "      <td>0.0</td>\n",
       "      <td>No_offer</td>\n",
       "      <td>NaN</td>\n",
       "      <td>No_offer</td>\n",
       "      <td>0.0</td>\n",
       "      <td>0.0</td>\n",
       "      <td>0.0</td>\n",
       "      <td>0.0</td>\n",
       "    </tr>\n",
       "    <tr>\n",
       "      <th>155149</th>\n",
       "      <td>3873fe915496482eb589fa316ae7b0db</td>\n",
       "      <td>transaction</td>\n",
       "      <td>588</td>\n",
       "      <td>99999</td>\n",
       "      <td>no_offer</td>\n",
       "      <td>1.21</td>\n",
       "      <td>M</td>\n",
       "      <td>58</td>\n",
       "      <td>57000.0</td>\n",
       "      <td>2017-09-05</td>\n",
       "      <td>...</td>\n",
       "      <td>99.0</td>\n",
       "      <td>99.0</td>\n",
       "      <td>0.0</td>\n",
       "      <td>No_offer</td>\n",
       "      <td>NaN</td>\n",
       "      <td>No_offer</td>\n",
       "      <td>0.0</td>\n",
       "      <td>0.0</td>\n",
       "      <td>0.0</td>\n",
       "      <td>0.0</td>\n",
       "    </tr>\n",
       "    <tr>\n",
       "      <th>155150</th>\n",
       "      <td>3873fe915496482eb589fa316ae7b0db</td>\n",
       "      <td>transaction</td>\n",
       "      <td>612</td>\n",
       "      <td>99999</td>\n",
       "      <td>no_offer</td>\n",
       "      <td>2.65</td>\n",
       "      <td>M</td>\n",
       "      <td>58</td>\n",
       "      <td>57000.0</td>\n",
       "      <td>2017-09-05</td>\n",
       "      <td>...</td>\n",
       "      <td>99.0</td>\n",
       "      <td>99.0</td>\n",
       "      <td>0.0</td>\n",
       "      <td>No_offer</td>\n",
       "      <td>NaN</td>\n",
       "      <td>No_offer</td>\n",
       "      <td>0.0</td>\n",
       "      <td>0.0</td>\n",
       "      <td>0.0</td>\n",
       "      <td>0.0</td>\n",
       "    </tr>\n",
       "    <tr>\n",
       "      <th>155151</th>\n",
       "      <td>8578196a074a4f328976e334fa9383a3</td>\n",
       "      <td>transaction</td>\n",
       "      <td>702</td>\n",
       "      <td>99999</td>\n",
       "      <td>no_offer</td>\n",
       "      <td>4.62</td>\n",
       "      <td>M</td>\n",
       "      <td>48</td>\n",
       "      <td>58000.0</td>\n",
       "      <td>2018-06-10</td>\n",
       "      <td>...</td>\n",
       "      <td>99.0</td>\n",
       "      <td>99.0</td>\n",
       "      <td>0.0</td>\n",
       "      <td>No_offer</td>\n",
       "      <td>NaN</td>\n",
       "      <td>No_offer</td>\n",
       "      <td>0.0</td>\n",
       "      <td>0.0</td>\n",
       "      <td>0.0</td>\n",
       "      <td>0.0</td>\n",
       "    </tr>\n",
       "  </tbody>\n",
       "</table>\n",
       "<p>5 rows × 23 columns</p>\n",
       "</div>"
      ],
      "text/plain": [
       "                                  person        event  time  offer_id_rewards  \\\n",
       "155147  47683732768a4f7db7abb710ca22e66e  transaction   684             99999   \n",
       "155148  3873fe915496482eb589fa316ae7b0db  transaction   510             99999   \n",
       "155149  3873fe915496482eb589fa316ae7b0db  transaction   588             99999   \n",
       "155150  3873fe915496482eb589fa316ae7b0db  transaction   612             99999   \n",
       "155151  8578196a074a4f328976e334fa9383a3  transaction   702             99999   \n",
       "\n",
       "        offer_id  reward_amt gender  age   income membershipDate  ...  reward  \\\n",
       "155147  no_offer        7.10      M   24  56000.0     2017-11-08  ...    99.0   \n",
       "155148  no_offer        1.57      M   58  57000.0     2017-09-05  ...    99.0   \n",
       "155149  no_offer        1.21      M   58  57000.0     2017-09-05  ...    99.0   \n",
       "155150  no_offer        2.65      M   58  57000.0     2017-09-05  ...    99.0   \n",
       "155151  no_offer        4.62      M   48  58000.0     2018-06-10  ...    99.0   \n",
       "\n",
       "       difficulty duration  offer_type  offer_id_short  offerType2  \\\n",
       "155147       99.0      0.0    No_offer             NaN    No_offer   \n",
       "155148       99.0      0.0    No_offer             NaN    No_offer   \n",
       "155149       99.0      0.0    No_offer             NaN    No_offer   \n",
       "155150       99.0      0.0    No_offer             NaN    No_offer   \n",
       "155151       99.0      0.0    No_offer             NaN    No_offer   \n",
       "\n",
       "       Channel_email Channel_mobile Channel_social  Channel_web  \n",
       "155147           0.0            0.0            0.0          0.0  \n",
       "155148           0.0            0.0            0.0          0.0  \n",
       "155149           0.0            0.0            0.0          0.0  \n",
       "155150           0.0            0.0            0.0          0.0  \n",
       "155151           0.0            0.0            0.0          0.0  \n",
       "\n",
       "[5 rows x 23 columns]"
      ]
     },
     "execution_count": 40,
     "metadata": {},
     "output_type": "execute_result"
    }
   ],
   "source": [
    "data[data.event == \"transaction\"].tail()"
   ]
  },
  {
   "cell_type": "code",
   "execution_count": 41,
   "metadata": {},
   "outputs": [
    {
     "data": {
      "text/plain": [
       "((272762, 23), 14825)"
      ]
     },
     "execution_count": 41,
     "metadata": {},
     "output_type": "execute_result"
    }
   ],
   "source": [
    "data.shape, data.person.nunique()"
   ]
  },
  {
   "cell_type": "code",
   "execution_count": 42,
   "metadata": {},
   "outputs": [
    {
     "data": {
      "text/plain": [
       "M    155690\n",
       "F    113101\n",
       "O      3971\n",
       "Name: gender, dtype: int64"
      ]
     },
     "execution_count": 42,
     "metadata": {},
     "output_type": "execute_result"
    }
   ],
   "source": [
    "data['gender'].value_counts()"
   ]
  },
  {
   "cell_type": "code",
   "execution_count": null,
   "metadata": {},
   "outputs": [],
   "source": []
  },
  {
   "cell_type": "code",
   "execution_count": 43,
   "metadata": {},
   "outputs": [
    {
     "data": {
      "text/html": [
       "<div>\n",
       "<style scoped>\n",
       "    .dataframe tbody tr th:only-of-type {\n",
       "        vertical-align: middle;\n",
       "    }\n",
       "\n",
       "    .dataframe tbody tr th {\n",
       "        vertical-align: top;\n",
       "    }\n",
       "\n",
       "    .dataframe thead th {\n",
       "        text-align: right;\n",
       "    }\n",
       "</style>\n",
       "<table border=\"1\" class=\"dataframe\">\n",
       "  <thead>\n",
       "    <tr style=\"text-align: right;\">\n",
       "      <th></th>\n",
       "      <th>person</th>\n",
       "      <th>user_id</th>\n",
       "      <th>event</th>\n",
       "      <th>offer_id2</th>\n",
       "      <th>time</th>\n",
       "      <th>offer_id_rewards</th>\n",
       "      <th>offer_id</th>\n",
       "      <th>reward_amt</th>\n",
       "      <th>gender</th>\n",
       "      <th>age</th>\n",
       "      <th>...</th>\n",
       "      <th>reward</th>\n",
       "      <th>difficulty</th>\n",
       "      <th>duration</th>\n",
       "      <th>offer_type</th>\n",
       "      <th>offer_id_short</th>\n",
       "      <th>offerType2</th>\n",
       "      <th>Channel_email</th>\n",
       "      <th>Channel_mobile</th>\n",
       "      <th>Channel_social</th>\n",
       "      <th>Channel_web</th>\n",
       "    </tr>\n",
       "  </thead>\n",
       "  <tbody>\n",
       "    <tr>\n",
       "      <th>0</th>\n",
       "      <td>78afa995795e4d85b5d9ceeca43f5fef</td>\n",
       "      <td>1</td>\n",
       "      <td>offer received</td>\n",
       "      <td>1</td>\n",
       "      <td>0</td>\n",
       "      <td>99999</td>\n",
       "      <td>9b98b8c7a33c4b65b9aebfe6a799e6d9</td>\n",
       "      <td>9999.0</td>\n",
       "      <td>F</td>\n",
       "      <td>75</td>\n",
       "      <td>...</td>\n",
       "      <td>5.0</td>\n",
       "      <td>5.0</td>\n",
       "      <td>7.0</td>\n",
       "      <td>bogo</td>\n",
       "      <td>e6d9</td>\n",
       "      <td>bogo-e6d9</td>\n",
       "      <td>1.0</td>\n",
       "      <td>1.0</td>\n",
       "      <td>0.0</td>\n",
       "      <td>1.0</td>\n",
       "    </tr>\n",
       "    <tr>\n",
       "      <th>1</th>\n",
       "      <td>78afa995795e4d85b5d9ceeca43f5fef</td>\n",
       "      <td>1</td>\n",
       "      <td>offer viewed</td>\n",
       "      <td>1</td>\n",
       "      <td>6</td>\n",
       "      <td>99999</td>\n",
       "      <td>9b98b8c7a33c4b65b9aebfe6a799e6d9</td>\n",
       "      <td>9999.0</td>\n",
       "      <td>F</td>\n",
       "      <td>75</td>\n",
       "      <td>...</td>\n",
       "      <td>5.0</td>\n",
       "      <td>5.0</td>\n",
       "      <td>7.0</td>\n",
       "      <td>bogo</td>\n",
       "      <td>e6d9</td>\n",
       "      <td>bogo-e6d9</td>\n",
       "      <td>1.0</td>\n",
       "      <td>1.0</td>\n",
       "      <td>0.0</td>\n",
       "      <td>1.0</td>\n",
       "    </tr>\n",
       "    <tr>\n",
       "      <th>2</th>\n",
       "      <td>78afa995795e4d85b5d9ceeca43f5fef</td>\n",
       "      <td>1</td>\n",
       "      <td>offer completed</td>\n",
       "      <td>1</td>\n",
       "      <td>132</td>\n",
       "      <td>5</td>\n",
       "      <td>9b98b8c7a33c4b65b9aebfe6a799e6d9</td>\n",
       "      <td>9999.0</td>\n",
       "      <td>F</td>\n",
       "      <td>75</td>\n",
       "      <td>...</td>\n",
       "      <td>5.0</td>\n",
       "      <td>5.0</td>\n",
       "      <td>7.0</td>\n",
       "      <td>bogo</td>\n",
       "      <td>e6d9</td>\n",
       "      <td>bogo-e6d9</td>\n",
       "      <td>1.0</td>\n",
       "      <td>1.0</td>\n",
       "      <td>0.0</td>\n",
       "      <td>1.0</td>\n",
       "    </tr>\n",
       "    <tr>\n",
       "      <th>3</th>\n",
       "      <td>e2127556f4f64592b11af22de27a7932</td>\n",
       "      <td>2</td>\n",
       "      <td>offer received</td>\n",
       "      <td>1</td>\n",
       "      <td>408</td>\n",
       "      <td>99999</td>\n",
       "      <td>9b98b8c7a33c4b65b9aebfe6a799e6d9</td>\n",
       "      <td>9999.0</td>\n",
       "      <td>M</td>\n",
       "      <td>68</td>\n",
       "      <td>...</td>\n",
       "      <td>5.0</td>\n",
       "      <td>5.0</td>\n",
       "      <td>7.0</td>\n",
       "      <td>bogo</td>\n",
       "      <td>e6d9</td>\n",
       "      <td>bogo-e6d9</td>\n",
       "      <td>1.0</td>\n",
       "      <td>1.0</td>\n",
       "      <td>0.0</td>\n",
       "      <td>1.0</td>\n",
       "    </tr>\n",
       "    <tr>\n",
       "      <th>4</th>\n",
       "      <td>e2127556f4f64592b11af22de27a7932</td>\n",
       "      <td>2</td>\n",
       "      <td>offer viewed</td>\n",
       "      <td>1</td>\n",
       "      <td>420</td>\n",
       "      <td>99999</td>\n",
       "      <td>9b98b8c7a33c4b65b9aebfe6a799e6d9</td>\n",
       "      <td>9999.0</td>\n",
       "      <td>M</td>\n",
       "      <td>68</td>\n",
       "      <td>...</td>\n",
       "      <td>5.0</td>\n",
       "      <td>5.0</td>\n",
       "      <td>7.0</td>\n",
       "      <td>bogo</td>\n",
       "      <td>e6d9</td>\n",
       "      <td>bogo-e6d9</td>\n",
       "      <td>1.0</td>\n",
       "      <td>1.0</td>\n",
       "      <td>0.0</td>\n",
       "      <td>1.0</td>\n",
       "    </tr>\n",
       "  </tbody>\n",
       "</table>\n",
       "<p>5 rows × 25 columns</p>\n",
       "</div>"
      ],
      "text/plain": [
       "                             person  user_id            event  offer_id2  \\\n",
       "0  78afa995795e4d85b5d9ceeca43f5fef        1   offer received          1   \n",
       "1  78afa995795e4d85b5d9ceeca43f5fef        1     offer viewed          1   \n",
       "2  78afa995795e4d85b5d9ceeca43f5fef        1  offer completed          1   \n",
       "3  e2127556f4f64592b11af22de27a7932        2   offer received          1   \n",
       "4  e2127556f4f64592b11af22de27a7932        2     offer viewed          1   \n",
       "\n",
       "   time  offer_id_rewards                          offer_id  reward_amt  \\\n",
       "0     0             99999  9b98b8c7a33c4b65b9aebfe6a799e6d9      9999.0   \n",
       "1     6             99999  9b98b8c7a33c4b65b9aebfe6a799e6d9      9999.0   \n",
       "2   132                 5  9b98b8c7a33c4b65b9aebfe6a799e6d9      9999.0   \n",
       "3   408             99999  9b98b8c7a33c4b65b9aebfe6a799e6d9      9999.0   \n",
       "4   420             99999  9b98b8c7a33c4b65b9aebfe6a799e6d9      9999.0   \n",
       "\n",
       "  gender  age  ...  reward difficulty  duration offer_type offer_id_short  \\\n",
       "0      F   75  ...     5.0        5.0       7.0       bogo           e6d9   \n",
       "1      F   75  ...     5.0        5.0       7.0       bogo           e6d9   \n",
       "2      F   75  ...     5.0        5.0       7.0       bogo           e6d9   \n",
       "3      M   68  ...     5.0        5.0       7.0       bogo           e6d9   \n",
       "4      M   68  ...     5.0        5.0       7.0       bogo           e6d9   \n",
       "\n",
       "   offerType2  Channel_email  Channel_mobile Channel_social Channel_web  \n",
       "0   bogo-e6d9            1.0             1.0            0.0         1.0  \n",
       "1   bogo-e6d9            1.0             1.0            0.0         1.0  \n",
       "2   bogo-e6d9            1.0             1.0            0.0         1.0  \n",
       "3   bogo-e6d9            1.0             1.0            0.0         1.0  \n",
       "4   bogo-e6d9            1.0             1.0            0.0         1.0  \n",
       "\n",
       "[5 rows x 25 columns]"
      ]
     },
     "execution_count": 43,
     "metadata": {},
     "output_type": "execute_result"
    }
   ],
   "source": [
    "def col_encoder(data, x):\n",
    "    \"\"\"The col_encoder function maps the long string column values to simple number string\n",
    "    \n",
    "    Input:\n",
    "        data (DataFrame): the dataframe to encode\n",
    "        x (string): column to recode\n",
    "        \n",
    "        \n",
    "    Output:\n",
    "        person_encoded (list) : list of encoded number string\n",
    "        \n",
    "    \"\"\"\n",
    "    \n",
    "    # instantiate dictionary lookup \n",
    "    codedict = dict()\n",
    "    \n",
    "    # instantiate numeric counter\n",
    "    counter = 1\n",
    "    \n",
    "    # instantiate a holding list\n",
    "    col_encoded = []\n",
    "    \n",
    "    \n",
    "    # loop through the data column\n",
    "    for val in data[x]:\n",
    "        if val not in codedict:\n",
    "            codedict[val] = counter\n",
    "            col_encoded.append(codedict[val])\n",
    "            counter+=1\n",
    "        else:\n",
    "            col_encoded.append(codedict[val]) \n",
    "            \n",
    "       \n",
    "    return col_encoded\n",
    "\n",
    "person_encoded = col_encoder(data, \"person\")\n",
    "offer_encoded = col_encoder(data, \"offer_id\")\n",
    "\n",
    "\n",
    "data.insert(1, 'user_id', person_encoded)\n",
    "\n",
    "data.insert(3 , 'offer_id2', offer_encoded)\n",
    "\n",
    "# show header\n",
    "data.head()  "
   ]
  },
  {
   "cell_type": "code",
   "execution_count": null,
   "metadata": {},
   "outputs": [],
   "source": []
  },
  {
   "cell_type": "code",
   "execution_count": 44,
   "metadata": {},
   "outputs": [
    {
     "data": {
      "text/plain": [
       "((272762, 25), 14825)"
      ]
     },
     "execution_count": 44,
     "metadata": {},
     "output_type": "execute_result"
    }
   ],
   "source": [
    "# calcuate number of unique members\n",
    "data.shape, data.person.nunique()"
   ]
  },
  {
   "cell_type": "code",
   "execution_count": 45,
   "metadata": {},
   "outputs": [],
   "source": [
    "# data[\"cust_id\"] = data['person'].progress_apply(lambda x: person_id(x))"
   ]
  },
  {
   "cell_type": "code",
   "execution_count": 46,
   "metadata": {},
   "outputs": [
    {
     "data": {
      "text/plain": [
       "transaction        123957\n",
       "offer received      66501\n",
       "offer viewed        49860\n",
       "offer completed     32444\n",
       "Name: event, dtype: int64"
      ]
     },
     "execution_count": 46,
     "metadata": {},
     "output_type": "execute_result"
    }
   ],
   "source": [
    "# calcuate events\n",
    "data.event.value_counts()"
   ]
  },
  {
   "cell_type": "code",
   "execution_count": 47,
   "metadata": {},
   "outputs": [],
   "source": [
    "# Drop duplicates and get one record per user for further analysis\n",
    "data2 = data.drop_duplicates(subset=['person'])"
   ]
  },
  {
   "cell_type": "code",
   "execution_count": 48,
   "metadata": {},
   "outputs": [
    {
     "data": {
      "text/plain": [
       "(14825, 25)"
      ]
     },
     "execution_count": 48,
     "metadata": {},
     "output_type": "execute_result"
    }
   ],
   "source": [
    "data2.shape"
   ]
  },
  {
   "cell_type": "markdown",
   "metadata": {},
   "source": [
    "# 5. Data visualization"
   ]
  },
  {
   "cell_type": "code",
   "execution_count": 49,
   "metadata": {},
   "outputs": [
    {
     "name": "stdout",
     "output_type": "stream",
     "text": [
      "\n",
      "\n",
      "\n",
      "\n",
      "listing each gender Percentages :\n",
      "M    57.227656\n",
      "F    41.342327\n",
      "O     1.430017\n",
      "Name: gender, dtype: float64\n",
      "\n",
      "\n",
      "\n",
      "\n",
      "listing each gender Raw counts\n",
      "M    8484\n",
      "F    6129\n",
      "O     212\n",
      "Name: gender, dtype: int64\n"
     ]
    },
    {
     "data": {
      "image/png": "[encoded data removed]",
      "text/plain": [
       "<matplotlib.figure.Figure at 0x7f4cdec9c828>"
      ]
     },
     "metadata": {
      "needs_background": "light"
     },
     "output_type": "display_data"
    }
   ],
   "source": [
    "\n",
    "# # Get listing percentage for gender\n",
    "# Analyzing the distribution of members according to gender.\n",
    "genderclass_p = data2[\"gender\"].value_counts(normalize=True) * 100\n",
    "genderclass_count = data2[\"gender\"].value_counts() \n",
    "print(\"\\n\\n\\n\\nlisting each gender Percentages :\", genderclass_p, \"\\n\\n\\n\\nlisting each gender Raw counts\" , \n",
    "      genderclass_count, sep=\"\\n\" )\n",
    "\n",
    "\n",
    "\n",
    "# Plot the gender class distribution\n",
    "plt.figure(figsize=[10,8])\n",
    "sns.barplot(x= genderclass_p.index, y = genderclass_p.values, color = bcolor, edgecolor=\"#2b2b28\")\n",
    "# plt.bar( ddf['index'], ddf.gender,  edgecolor=\"#2b2b28\")\n",
    "plt.xlabel(\"Gender\")\n",
    "plt.xticks([0,1,2],['Male','Female', 'Other'])\n",
    "plt.ylabel(\"Percentage of members\")\n",
    "plt.title(\"Starbucks Membership by Gender\")\n",
    "plt.tight_layout()\n",
    "plt.show()\n",
    "    \n",
    "    "
   ]
  },
  {
   "cell_type": "code",
   "execution_count": 50,
   "metadata": {},
   "outputs": [
    {
     "name": "stdout",
     "output_type": "stream",
     "text": [
      "\n",
      "\n",
      "\n",
      "\n",
      "listing each event Percentages :\n",
      "transaction        45.445113\n",
      "offer received     24.380596\n",
      "offer viewed       18.279672\n",
      "offer completed    11.894619\n",
      "Name: event, dtype: float64\n",
      "\n",
      "\n",
      "\n",
      "\n",
      "listing each event Raw counts\n",
      "transaction        123957\n",
      "offer received      66501\n",
      "offer viewed        49860\n",
      "offer completed     32444\n",
      "Name: event, dtype: int64\n"
     ]
    },
    {
     "data": {
      "image/png": "[encoded data removed]",
      "text/plain": [
       "<matplotlib.figure.Figure at 0x7f4cdec9c630>"
      ]
     },
     "metadata": {
      "needs_background": "light"
     },
     "output_type": "display_data"
    }
   ],
   "source": [
    "# # Get listing percentage of events\n",
    "# Analyzing the distribution of events.\n",
    "event_p = data[\"event\"].value_counts(normalize=True) * 100\n",
    "event_counts = data[\"event\"].value_counts() \n",
    "print(\"\\n\\n\\n\\nlisting each event Percentages :\", event_p, \"\\n\\n\\n\\nlisting each event Raw counts\" , event_counts, sep=\"\\n\" )\n",
    "\n",
    "\n",
    "  \n",
    "# Plot the event distribution\n",
    "plt.figure(figsize=[10,8])\n",
    "sns.barplot(x = event_p.index, y= event_p.values,  color = bcolor,   edgecolor=\"#2b2b28\")\n",
    "plt.xlabel(\"Event\")\n",
    "plt.ylabel(\"Percentage of members\")\n",
    "plt.title(\"Starbucks Event Distribution\")\n",
    "plt.tight_layout()\n",
    "plt.show()\n",
    "    \n"
   ]
  },
  {
   "cell_type": "code",
   "execution_count": 51,
   "metadata": {},
   "outputs": [
    {
     "data": {
      "text/plain": [
       "offer received     66501\n",
       "offer viewed       49860\n",
       "offer completed    32444\n",
       "Name: event, dtype: int64"
      ]
     },
     "execution_count": 51,
     "metadata": {},
     "output_type": "execute_result"
    }
   ],
   "source": [
    "# get data for offer events\n",
    "devent = data[data['event']!=\"transaction\"].reset_index(drop=True)\n",
    "\n",
    "\n",
    "# sorted bar chart on ordinal categories\n",
    "# this method requires pandas v0.21 or later\n",
    "ordering_ = ['offer received', 'offer viewed', 'offer completed']\n",
    "t = pd.CategoricalDtype(categories= ordering_, ordered=True)\n",
    "\n",
    "devent[\"event\"] = devent[\"event\"].astype(t)\n",
    "devent.event.value_counts()"
   ]
  },
  {
   "cell_type": "code",
   "execution_count": null,
   "metadata": {},
   "outputs": [],
   "source": []
  },
  {
   "cell_type": "code",
   "execution_count": 52,
   "metadata": {},
   "outputs": [
    {
     "name": "stdout",
     "output_type": "stream",
     "text": [
      "\n",
      "\n",
      "\n",
      "\n",
      "Offer events Percentages :\n",
      "offer received     44.690031\n",
      "offer viewed       33.506939\n",
      "offer completed    21.803031\n",
      "Name: event, dtype: float64\n",
      "\n",
      "\n",
      "\n",
      "\n",
      "Offer events Raw counts\n",
      "offer received     66501\n",
      "offer viewed       49860\n",
      "offer completed    32444\n",
      "Name: event, dtype: int64\n"
     ]
    },
    {
     "data": {
      "image/png": "[encoded data removed]",
      "text/plain": [
       "<matplotlib.figure.Figure at 0x7f4cdec9c048>"
      ]
     },
     "metadata": {
      "needs_background": "light"
     },
     "output_type": "display_data"
    }
   ],
   "source": [
    "# # Get listing percentage of offer events\n",
    "# Analyzing the distribution of offer events.\n",
    "offerevents_p = devent[\"event\"].value_counts(normalize=True) * 100\n",
    "offerevents_count = devent[\"event\"].value_counts() \n",
    "print(\"\\n\\n\\n\\nOffer events Percentages :\", offerevents_p, \"\\n\\n\\n\\nOffer events Raw counts\" , \n",
    "      offerevents_count, sep=\"\\n\" )\n",
    "\n",
    "\n",
    "\n",
    "  \n",
    "# Plot the distribution of offer events\n",
    "plt.figure(figsize=[10,8])\n",
    "sns.barplot(x = offerevents_p.index, y= offerevents_p.values,  color = bcolor,   edgecolor=\"#2b2b28\")\n",
    "plt.xlabel(\"Event\")\n",
    "plt.ylabel(\"Percentage of members\")\n",
    "plt.title(\"Starbucks Offer Events Distribution\")\n",
    "plt.tight_layout()\n",
    "plt.show()"
   ]
  },
  {
   "cell_type": "code",
   "execution_count": 53,
   "metadata": {},
   "outputs": [
    {
     "name": "stdout",
     "output_type": "stream",
     "text": [
      "\n",
      "\n",
      "\n",
      "\n",
      "offer events across gender Percentages :\n",
      "gender                  F          M         O\n",
      "event                                         \n",
      "offer received  41.414668  57.003823  1.581509\n",
      "transaction     41.296439  57.369640  1.333921\n",
      "All             41.342327  57.227656  1.430017\n",
      " \n",
      "\n",
      "\n",
      "\n",
      "offer events across gender Raw counts\n",
      "gender             F     M    O    All\n",
      "event                                 \n",
      "offer received  2383  3280   91   5754\n",
      "transaction     3746  5204  121   9071\n",
      "All             6129  8484  212  14825\n",
      " \n",
      "\n",
      "\n",
      "\n",
      "room_types per bourough Raw counts\n",
      "gender                  F          M         O\n",
      "event                                         \n",
      "offer received  16.074199  22.124789  0.613828\n",
      "transaction     25.268128  35.102867  0.816189\n"
     ]
    },
    {
     "data": {
      "image/png": "[encoded data removed]",
      "text/plain": [
       "<matplotlib.figure.Figure at 0x7f4cdebdd0b8>"
      ]
     },
     "metadata": {
      "needs_background": "light"
     },
     "output_type": "display_data"
    },
    {
     "data": {
      "image/png": "[encoded data removed]",
      "text/plain": [
       "<matplotlib.figure.Figure at 0x7f4cdeb755c0>"
      ]
     },
     "metadata": {
      "needs_background": "light"
     },
     "output_type": "display_data"
    }
   ],
   "source": [
    "\n",
    "# # get the counts of offer events across  and within gender\n",
    "hh = pd.crosstab(data2[\"event\"], data2[\"gender\"], normalize=\"index\", margins = True).fillna(0) * 100\n",
    "hh2 = pd.crosstab(data2[\"event\"], data2[\"gender\"],  margins = True).fillna(0)\n",
    "hht = pd.crosstab(data2[\"event\"], data2[\"gender\"], normalize=\"all\").fillna(0) * 100\n",
    "print(\"\\n\\n\\n\\noffer events across gender Percentages :\", hh, \" \\n\\n\\n\\noffer events across gender Raw counts\" , hh2,\n",
    "        \" \\n\\n\\n\\nroom_types per bourough Raw counts\", hht , sep=\"\\n\")\n",
    "\n",
    "\n",
    "# # Plot the distribution of offer within gender\n",
    "hh.plot.bar(stacked=True, cmap='Blues_r', figsize=(10,7), edgecolor=[\"#2b2b28\", \"#2b2b28\", \"#2b2b28\"])\n",
    "plt.xticks(rotation=0)\n",
    "plt.xlabel(\"offer events within gender\")\n",
    "plt.ylabel(\"Percent\")\n",
    "plt.xticks([0,1,2],['offer received','No offer', 'All Users'])\n",
    "plt.title(\"  Starbucks Offer Events Distribution\")\n",
    "plt.tight_layout()\n",
    "plt.show()\n",
    "\n",
    "\n",
    "# RdBu_r, PuBu_r\n",
    "# # Plot the distribution of offer across gender\n",
    "hht.plot.bar(stacked=True, cmap='Blues', figsize=(10,7), edgecolor=[\"#2b2b28\", \"#2b2b28\", \"#2b2b28\"])\n",
    "plt.xticks(rotation=0)\n",
    "plt.xlabel(\"offer events across gender\")\n",
    "plt.ylabel(\"Percent\")\n",
    "plt.xticks([0,1],['offer received','No offer'])\n",
    "plt.title(\"  Starbucks Offer Events Distribution \")\n",
    "plt.tight_layout()\n",
    "plt.show()"
   ]
  },
  {
   "cell_type": "code",
   "execution_count": 54,
   "metadata": {},
   "outputs": [
    {
     "data": {
      "text/html": [
       "<div>\n",
       "<style scoped>\n",
       "    .dataframe tbody tr th:only-of-type {\n",
       "        vertical-align: middle;\n",
       "    }\n",
       "\n",
       "    .dataframe tbody tr th {\n",
       "        vertical-align: top;\n",
       "    }\n",
       "\n",
       "    .dataframe thead th {\n",
       "        text-align: right;\n",
       "    }\n",
       "</style>\n",
       "<table border=\"1\" class=\"dataframe\">\n",
       "  <thead>\n",
       "    <tr style=\"text-align: right;\">\n",
       "      <th></th>\n",
       "      <th>person</th>\n",
       "      <th>user_id</th>\n",
       "      <th>event</th>\n",
       "      <th>offer_id2</th>\n",
       "      <th>time</th>\n",
       "      <th>offer_id_rewards</th>\n",
       "      <th>offer_id</th>\n",
       "      <th>reward_amt</th>\n",
       "      <th>gender</th>\n",
       "      <th>age</th>\n",
       "      <th>...</th>\n",
       "      <th>reward</th>\n",
       "      <th>difficulty</th>\n",
       "      <th>duration</th>\n",
       "      <th>offer_type</th>\n",
       "      <th>offer_id_short</th>\n",
       "      <th>offerType2</th>\n",
       "      <th>Channel_email</th>\n",
       "      <th>Channel_mobile</th>\n",
       "      <th>Channel_social</th>\n",
       "      <th>Channel_web</th>\n",
       "    </tr>\n",
       "  </thead>\n",
       "  <tbody>\n",
       "    <tr>\n",
       "      <th>0</th>\n",
       "      <td>78afa995795e4d85b5d9ceeca43f5fef</td>\n",
       "      <td>1</td>\n",
       "      <td>offer received</td>\n",
       "      <td>1</td>\n",
       "      <td>0</td>\n",
       "      <td>99999</td>\n",
       "      <td>9b98b8c7a33c4b65b9aebfe6a799e6d9</td>\n",
       "      <td>9999.0</td>\n",
       "      <td>F</td>\n",
       "      <td>75</td>\n",
       "      <td>...</td>\n",
       "      <td>5.0</td>\n",
       "      <td>5.0</td>\n",
       "      <td>7.0</td>\n",
       "      <td>bogo</td>\n",
       "      <td>e6d9</td>\n",
       "      <td>bogo-e6d9</td>\n",
       "      <td>1.0</td>\n",
       "      <td>1.0</td>\n",
       "      <td>0.0</td>\n",
       "      <td>1.0</td>\n",
       "    </tr>\n",
       "    <tr>\n",
       "      <th>3</th>\n",
       "      <td>e2127556f4f64592b11af22de27a7932</td>\n",
       "      <td>2</td>\n",
       "      <td>offer received</td>\n",
       "      <td>1</td>\n",
       "      <td>408</td>\n",
       "      <td>99999</td>\n",
       "      <td>9b98b8c7a33c4b65b9aebfe6a799e6d9</td>\n",
       "      <td>9999.0</td>\n",
       "      <td>M</td>\n",
       "      <td>68</td>\n",
       "      <td>...</td>\n",
       "      <td>5.0</td>\n",
       "      <td>5.0</td>\n",
       "      <td>7.0</td>\n",
       "      <td>bogo</td>\n",
       "      <td>e6d9</td>\n",
       "      <td>bogo-e6d9</td>\n",
       "      <td>1.0</td>\n",
       "      <td>1.0</td>\n",
       "      <td>0.0</td>\n",
       "      <td>1.0</td>\n",
       "    </tr>\n",
       "    <tr>\n",
       "      <th>8</th>\n",
       "      <td>389bc3fa690240e798340f5a15918d5c</td>\n",
       "      <td>3</td>\n",
       "      <td>offer received</td>\n",
       "      <td>1</td>\n",
       "      <td>168</td>\n",
       "      <td>99999</td>\n",
       "      <td>9b98b8c7a33c4b65b9aebfe6a799e6d9</td>\n",
       "      <td>9999.0</td>\n",
       "      <td>M</td>\n",
       "      <td>65</td>\n",
       "      <td>...</td>\n",
       "      <td>5.0</td>\n",
       "      <td>5.0</td>\n",
       "      <td>7.0</td>\n",
       "      <td>bogo</td>\n",
       "      <td>e6d9</td>\n",
       "      <td>bogo-e6d9</td>\n",
       "      <td>1.0</td>\n",
       "      <td>1.0</td>\n",
       "      <td>0.0</td>\n",
       "      <td>1.0</td>\n",
       "    </tr>\n",
       "    <tr>\n",
       "      <th>13</th>\n",
       "      <td>d058f73bf8674a26a95227db098147b1</td>\n",
       "      <td>4</td>\n",
       "      <td>offer received</td>\n",
       "      <td>1</td>\n",
       "      <td>504</td>\n",
       "      <td>99999</td>\n",
       "      <td>9b98b8c7a33c4b65b9aebfe6a799e6d9</td>\n",
       "      <td>9999.0</td>\n",
       "      <td>F</td>\n",
       "      <td>56</td>\n",
       "      <td>...</td>\n",
       "      <td>5.0</td>\n",
       "      <td>5.0</td>\n",
       "      <td>7.0</td>\n",
       "      <td>bogo</td>\n",
       "      <td>e6d9</td>\n",
       "      <td>bogo-e6d9</td>\n",
       "      <td>1.0</td>\n",
       "      <td>1.0</td>\n",
       "      <td>0.0</td>\n",
       "      <td>1.0</td>\n",
       "    </tr>\n",
       "    <tr>\n",
       "      <th>19</th>\n",
       "      <td>ebe7ef46ea6f4963a7dd49f501b26779</td>\n",
       "      <td>5</td>\n",
       "      <td>offer received</td>\n",
       "      <td>1</td>\n",
       "      <td>0</td>\n",
       "      <td>99999</td>\n",
       "      <td>9b98b8c7a33c4b65b9aebfe6a799e6d9</td>\n",
       "      <td>9999.0</td>\n",
       "      <td>M</td>\n",
       "      <td>59</td>\n",
       "      <td>...</td>\n",
       "      <td>5.0</td>\n",
       "      <td>5.0</td>\n",
       "      <td>7.0</td>\n",
       "      <td>bogo</td>\n",
       "      <td>e6d9</td>\n",
       "      <td>bogo-e6d9</td>\n",
       "      <td>1.0</td>\n",
       "      <td>1.0</td>\n",
       "      <td>0.0</td>\n",
       "      <td>1.0</td>\n",
       "    </tr>\n",
       "  </tbody>\n",
       "</table>\n",
       "<p>5 rows × 25 columns</p>\n",
       "</div>"
      ],
      "text/plain": [
       "                              person  user_id           event  offer_id2  \\\n",
       "0   78afa995795e4d85b5d9ceeca43f5fef        1  offer received          1   \n",
       "3   e2127556f4f64592b11af22de27a7932        2  offer received          1   \n",
       "8   389bc3fa690240e798340f5a15918d5c        3  offer received          1   \n",
       "13  d058f73bf8674a26a95227db098147b1        4  offer received          1   \n",
       "19  ebe7ef46ea6f4963a7dd49f501b26779        5  offer received          1   \n",
       "\n",
       "    time  offer_id_rewards                          offer_id  reward_amt  \\\n",
       "0      0             99999  9b98b8c7a33c4b65b9aebfe6a799e6d9      9999.0   \n",
       "3    408             99999  9b98b8c7a33c4b65b9aebfe6a799e6d9      9999.0   \n",
       "8    168             99999  9b98b8c7a33c4b65b9aebfe6a799e6d9      9999.0   \n",
       "13   504             99999  9b98b8c7a33c4b65b9aebfe6a799e6d9      9999.0   \n",
       "19     0             99999  9b98b8c7a33c4b65b9aebfe6a799e6d9      9999.0   \n",
       "\n",
       "   gender  age  ...  reward difficulty  duration offer_type offer_id_short  \\\n",
       "0       F   75  ...     5.0        5.0       7.0       bogo           e6d9   \n",
       "3       M   68  ...     5.0        5.0       7.0       bogo           e6d9   \n",
       "8       M   65  ...     5.0        5.0       7.0       bogo           e6d9   \n",
       "13      F   56  ...     5.0        5.0       7.0       bogo           e6d9   \n",
       "19      M   59  ...     5.0        5.0       7.0       bogo           e6d9   \n",
       "\n",
       "    offerType2  Channel_email  Channel_mobile Channel_social Channel_web  \n",
       "0    bogo-e6d9            1.0             1.0            0.0         1.0  \n",
       "3    bogo-e6d9            1.0             1.0            0.0         1.0  \n",
       "8    bogo-e6d9            1.0             1.0            0.0         1.0  \n",
       "13   bogo-e6d9            1.0             1.0            0.0         1.0  \n",
       "19   bogo-e6d9            1.0             1.0            0.0         1.0  \n",
       "\n",
       "[5 rows x 25 columns]"
      ]
     },
     "execution_count": 54,
     "metadata": {},
     "output_type": "execute_result"
    }
   ],
   "source": [
    "data2.head()\n"
   ]
  },
  {
   "cell_type": "code",
   "execution_count": 55,
   "metadata": {},
   "outputs": [
    {
     "data": {
      "text/html": [
       "<div>\n",
       "<style scoped>\n",
       "    .dataframe tbody tr th:only-of-type {\n",
       "        vertical-align: middle;\n",
       "    }\n",
       "\n",
       "    .dataframe tbody tr th {\n",
       "        vertical-align: top;\n",
       "    }\n",
       "\n",
       "    .dataframe thead th {\n",
       "        text-align: right;\n",
       "    }\n",
       "</style>\n",
       "<table border=\"1\" class=\"dataframe\">\n",
       "  <thead>\n",
       "    <tr style=\"text-align: right;\">\n",
       "      <th></th>\n",
       "      <th>user_id</th>\n",
       "      <th>offer_id2</th>\n",
       "      <th>time</th>\n",
       "      <th>offer_id_rewards</th>\n",
       "      <th>reward_amt</th>\n",
       "      <th>age</th>\n",
       "      <th>income</th>\n",
       "      <th>membershipDays</th>\n",
       "      <th>reward</th>\n",
       "      <th>difficulty</th>\n",
       "      <th>duration</th>\n",
       "      <th>Channel_email</th>\n",
       "      <th>Channel_mobile</th>\n",
       "      <th>Channel_social</th>\n",
       "      <th>Channel_web</th>\n",
       "    </tr>\n",
       "  </thead>\n",
       "  <tbody>\n",
       "    <tr>\n",
       "      <th>count</th>\n",
       "      <td>14825.000000</td>\n",
       "      <td>14825.000000</td>\n",
       "      <td>14825.000000</td>\n",
       "      <td>14825.0</td>\n",
       "      <td>14825.000000</td>\n",
       "      <td>14825.000000</td>\n",
       "      <td>14825.000000</td>\n",
       "      <td>14825.000000</td>\n",
       "      <td>14825.000000</td>\n",
       "      <td>14825.00000</td>\n",
       "      <td>14825.000000</td>\n",
       "      <td>14825.000000</td>\n",
       "      <td>14825.000000</td>\n",
       "      <td>14825.000000</td>\n",
       "      <td>14825.000000</td>\n",
       "    </tr>\n",
       "    <tr>\n",
       "      <th>mean</th>\n",
       "      <td>7413.000000</td>\n",
       "      <td>1.661180</td>\n",
       "      <td>202.347521</td>\n",
       "      <td>99999.0</td>\n",
       "      <td>3890.089490</td>\n",
       "      <td>54.393524</td>\n",
       "      <td>65404.991568</td>\n",
       "      <td>523.478988</td>\n",
       "      <td>62.506442</td>\n",
       "      <td>62.53855</td>\n",
       "      <td>2.696391</td>\n",
       "      <td>0.388128</td>\n",
       "      <td>0.386239</td>\n",
       "      <td>0.011130</td>\n",
       "      <td>0.379494</td>\n",
       "    </tr>\n",
       "    <tr>\n",
       "      <th>std</th>\n",
       "      <td>4279.753206</td>\n",
       "      <td>0.612378</td>\n",
       "      <td>185.469679</td>\n",
       "      <td>0.0</td>\n",
       "      <td>4865.661278</td>\n",
       "      <td>17.383705</td>\n",
       "      <td>21598.299410</td>\n",
       "      <td>419.205158</td>\n",
       "      <td>45.824601</td>\n",
       "      <td>45.78900</td>\n",
       "      <td>3.401795</td>\n",
       "      <td>0.487340</td>\n",
       "      <td>0.486903</td>\n",
       "      <td>0.104913</td>\n",
       "      <td>0.485277</td>\n",
       "    </tr>\n",
       "    <tr>\n",
       "      <th>min</th>\n",
       "      <td>1.000000</td>\n",
       "      <td>1.000000</td>\n",
       "      <td>0.000000</td>\n",
       "      <td>99999.0</td>\n",
       "      <td>0.050000</td>\n",
       "      <td>18.000000</td>\n",
       "      <td>30000.000000</td>\n",
       "      <td>1.000000</td>\n",
       "      <td>0.000000</td>\n",
       "      <td>0.00000</td>\n",
       "      <td>0.000000</td>\n",
       "      <td>0.000000</td>\n",
       "      <td>0.000000</td>\n",
       "      <td>0.000000</td>\n",
       "      <td>0.000000</td>\n",
       "    </tr>\n",
       "    <tr>\n",
       "      <th>25%</th>\n",
       "      <td>3707.000000</td>\n",
       "      <td>1.000000</td>\n",
       "      <td>36.000000</td>\n",
       "      <td>99999.0</td>\n",
       "      <td>9.220000</td>\n",
       "      <td>42.000000</td>\n",
       "      <td>49000.000000</td>\n",
       "      <td>209.000000</td>\n",
       "      <td>5.000000</td>\n",
       "      <td>5.00000</td>\n",
       "      <td>0.000000</td>\n",
       "      <td>0.000000</td>\n",
       "      <td>0.000000</td>\n",
       "      <td>0.000000</td>\n",
       "      <td>0.000000</td>\n",
       "    </tr>\n",
       "    <tr>\n",
       "      <th>50%</th>\n",
       "      <td>7413.000000</td>\n",
       "      <td>2.000000</td>\n",
       "      <td>168.000000</td>\n",
       "      <td>99999.0</td>\n",
       "      <td>23.380000</td>\n",
       "      <td>55.000000</td>\n",
       "      <td>64000.000000</td>\n",
       "      <td>359.000000</td>\n",
       "      <td>99.000000</td>\n",
       "      <td>99.00000</td>\n",
       "      <td>0.000000</td>\n",
       "      <td>0.000000</td>\n",
       "      <td>0.000000</td>\n",
       "      <td>0.000000</td>\n",
       "      <td>0.000000</td>\n",
       "    </tr>\n",
       "    <tr>\n",
       "      <th>75%</th>\n",
       "      <td>11119.000000</td>\n",
       "      <td>2.000000</td>\n",
       "      <td>336.000000</td>\n",
       "      <td>99999.0</td>\n",
       "      <td>9999.000000</td>\n",
       "      <td>66.000000</td>\n",
       "      <td>80000.000000</td>\n",
       "      <td>798.000000</td>\n",
       "      <td>99.000000</td>\n",
       "      <td>99.00000</td>\n",
       "      <td>7.000000</td>\n",
       "      <td>1.000000</td>\n",
       "      <td>1.000000</td>\n",
       "      <td>0.000000</td>\n",
       "      <td>1.000000</td>\n",
       "    </tr>\n",
       "    <tr>\n",
       "      <th>max</th>\n",
       "      <td>14825.000000</td>\n",
       "      <td>10.000000</td>\n",
       "      <td>714.000000</td>\n",
       "      <td>99999.0</td>\n",
       "      <td>9999.000000</td>\n",
       "      <td>101.000000</td>\n",
       "      <td>120000.000000</td>\n",
       "      <td>1824.000000</td>\n",
       "      <td>99.000000</td>\n",
       "      <td>99.00000</td>\n",
       "      <td>10.000000</td>\n",
       "      <td>1.000000</td>\n",
       "      <td>1.000000</td>\n",
       "      <td>1.000000</td>\n",
       "      <td>1.000000</td>\n",
       "    </tr>\n",
       "  </tbody>\n",
       "</table>\n",
       "</div>"
      ],
      "text/plain": [
       "            user_id     offer_id2          time  offer_id_rewards  \\\n",
       "count  14825.000000  14825.000000  14825.000000           14825.0   \n",
       "mean    7413.000000      1.661180    202.347521           99999.0   \n",
       "std     4279.753206      0.612378    185.469679               0.0   \n",
       "min        1.000000      1.000000      0.000000           99999.0   \n",
       "25%     3707.000000      1.000000     36.000000           99999.0   \n",
       "50%     7413.000000      2.000000    168.000000           99999.0   \n",
       "75%    11119.000000      2.000000    336.000000           99999.0   \n",
       "max    14825.000000     10.000000    714.000000           99999.0   \n",
       "\n",
       "         reward_amt           age         income  membershipDays  \\\n",
       "count  14825.000000  14825.000000   14825.000000    14825.000000   \n",
       "mean    3890.089490     54.393524   65404.991568      523.478988   \n",
       "std     4865.661278     17.383705   21598.299410      419.205158   \n",
       "min        0.050000     18.000000   30000.000000        1.000000   \n",
       "25%        9.220000     42.000000   49000.000000      209.000000   \n",
       "50%       23.380000     55.000000   64000.000000      359.000000   \n",
       "75%     9999.000000     66.000000   80000.000000      798.000000   \n",
       "max     9999.000000    101.000000  120000.000000     1824.000000   \n",
       "\n",
       "             reward   difficulty      duration  Channel_email  Channel_mobile  \\\n",
       "count  14825.000000  14825.00000  14825.000000   14825.000000    14825.000000   \n",
       "mean      62.506442     62.53855      2.696391       0.388128        0.386239   \n",
       "std       45.824601     45.78900      3.401795       0.487340        0.486903   \n",
       "min        0.000000      0.00000      0.000000       0.000000        0.000000   \n",
       "25%        5.000000      5.00000      0.000000       0.000000        0.000000   \n",
       "50%       99.000000     99.00000      0.000000       0.000000        0.000000   \n",
       "75%       99.000000     99.00000      7.000000       1.000000        1.000000   \n",
       "max       99.000000     99.00000     10.000000       1.000000        1.000000   \n",
       "\n",
       "       Channel_social   Channel_web  \n",
       "count    14825.000000  14825.000000  \n",
       "mean         0.011130      0.379494  \n",
       "std          0.104913      0.485277  \n",
       "min          0.000000      0.000000  \n",
       "25%          0.000000      0.000000  \n",
       "50%          0.000000      0.000000  \n",
       "75%          0.000000      1.000000  \n",
       "max          1.000000      1.000000  "
      ]
     },
     "execution_count": 55,
     "metadata": {},
     "output_type": "execute_result"
    }
   ],
   "source": [
    "data2.describe()"
   ]
  },
  {
   "cell_type": "code",
   "execution_count": 56,
   "metadata": {},
   "outputs": [
    {
     "data": {
      "text/plain": [
       "(14825, 25)"
      ]
     },
     "execution_count": 56,
     "metadata": {},
     "output_type": "execute_result"
    }
   ],
   "source": [
    "data2.shape"
   ]
  },
  {
   "cell_type": "code",
   "execution_count": 57,
   "metadata": {},
   "outputs": [
    {
     "data": {
      "image/png": "[encoded data removed]",
      "text/plain": [
       "<matplotlib.figure.Figure at 0x7f4cdec1af60>"
      ]
     },
     "metadata": {
      "needs_background": "light"
     },
     "output_type": "display_data"
    }
   ],
   "source": [
    "# Create a histogram of income\n",
    "plt.figure(figsize=[10,8])\n",
    "plt.hist(data2['income'], bins=10)\n",
    "plt.title('Distribution of Income')\n",
    "plt.ylabel(\"Count\")\n",
    "plt.xlabel('Income');"
   ]
  },
  {
   "cell_type": "code",
   "execution_count": 58,
   "metadata": {},
   "outputs": [
    {
     "data": {
      "image/png": "[encoded data removed]",
      "text/plain": [
       "<matplotlib.figure.Figure at 0x7f4cdec0abe0>"
      ]
     },
     "metadata": {
      "needs_background": "light"
     },
     "output_type": "display_data"
    }
   ],
   "source": [
    "# Create a histogram of income among genders or only Males and females\n",
    "plt.figure(figsize=[11,8])\n",
    "plt.hist('income', data=data2[data2['gender'] == 'M'], alpha=0.5, label='Male', bins=10)\n",
    "plt.hist('income', data=data2[data2['gender'] == 'F'], alpha=0.5, label='Female', bins=10)\n",
    "plt.title('Distribution of income by Gender')\n",
    "plt.xlabel('income')\n",
    "plt.ylabel(\"Count\")\n",
    "plt.legend();"
   ]
  },
  {
   "cell_type": "code",
   "execution_count": 59,
   "metadata": {},
   "outputs": [
    {
     "data": {
      "image/png": "[encoded data removed]",
      "text/plain": [
       "<matplotlib.figure.Figure at 0x7f4cdeb26a20>"
      ]
     },
     "metadata": {
      "needs_background": "light"
     },
     "output_type": "display_data"
    }
   ],
   "source": [
    "# Create a boxplot of income among genders \n",
    "plt.figure(figsize=[11,8])\n",
    "sns.boxplot(x=\"gender\", y=\"income\", data=data2, color = bcolor)\n",
    "plt.title('Distribution of income by Gender')\n",
    "plt.xticks([0,1,2],['Male','Female', 'Other'])\n",
    "plt.ylabel('income')\n",
    "plt.xlabel(\"Gender\")\n",
    "plt.legend();"
   ]
  },
  {
   "cell_type": "code",
   "execution_count": 60,
   "metadata": {},
   "outputs": [
    {
     "data": {
      "image/png": "[encoded data removed]",
      "text/plain": [
       "<matplotlib.figure.Figure at 0x7f4cdeb00ac8>"
      ]
     },
     "metadata": {
      "needs_background": "light"
     },
     "output_type": "display_data"
    }
   ],
   "source": [
    "# Create a histogram of ages\n",
    "plt.figure(figsize=[10,8])\n",
    "plt.hist(data2['age'], bins=20)\n",
    "plt.title('Distribution of Age')\n",
    "plt.ylabel(\"Count\")\n",
    "plt.xlabel('Age');"
   ]
  },
  {
   "cell_type": "code",
   "execution_count": 61,
   "metadata": {},
   "outputs": [
    {
     "data": {
      "image/png": "[encoded data removed]",
      "text/plain": [
       "<matplotlib.figure.Figure at 0x7f4cdeac3828>"
      ]
     },
     "metadata": {
      "needs_background": "light"
     },
     "output_type": "display_data"
    }
   ],
   "source": [
    "# Create a histogram of ages among genders for only Males and females\n",
    "plt.figure(figsize=[11,8])\n",
    "plt.hist('age', data=data2[data2['gender'] == 'M'], alpha=0.5, label='Male', bins=10)\n",
    "plt.hist('age', data=data2[data2['gender'] == 'F'], alpha=0.5, label='Female', bins=10)\n",
    "plt.title('Distribution of Age by Gender')\n",
    "plt.xlabel('Age')\n",
    "plt.ylabel(\"Count\")\n",
    "plt.legend();"
   ]
  },
  {
   "cell_type": "code",
   "execution_count": 62,
   "metadata": {},
   "outputs": [
    {
     "data": {
      "image/png": "[encoded data removed]",
      "text/plain": [
       "<matplotlib.figure.Figure at 0x7f4cdea54400>"
      ]
     },
     "metadata": {
      "needs_background": "light"
     },
     "output_type": "display_data"
    }
   ],
   "source": [
    "# Create a boxplot of ages among genders \n",
    "plt.figure(figsize=[11,8])\n",
    "sns.boxplot(x=\"gender\", y=\"age\", data=data2, color = bcolor)\n",
    "plt.title('Distribution of Age by Gender')\n",
    "plt.xticks([0,1,2],['Male','Female', 'Other'])\n",
    "plt.ylabel('Age')\n",
    "plt.xlabel(\"Gender\")\n",
    "plt.legend();"
   ]
  },
  {
   "cell_type": "code",
   "execution_count": 63,
   "metadata": {},
   "outputs": [
    {
     "data": {
      "image/png": "[encoded data removed]",
      "text/plain": [
       "<matplotlib.figure.Figure at 0x7f4cdea0ab00>"
      ]
     },
     "metadata": {
      "needs_background": "light"
     },
     "output_type": "display_data"
    }
   ],
   "source": [
    "# Create a histogram of membership Days\n",
    "plt.figure(figsize=[10,8])\n",
    "plt.hist(data2['membershipDays'], bins=20)\n",
    "plt.title('Distribution of Membership Days')\n",
    "plt.ylabel(\"Number of Users\")\n",
    "plt.xlabel('Number of Days');"
   ]
  },
  {
   "cell_type": "code",
   "execution_count": 64,
   "metadata": {},
   "outputs": [
    {
     "data": {
      "image/png": "[encoded data removed]",
      "text/plain": [
       "<matplotlib.figure.Figure at 0x7f4cde98c400>"
      ]
     },
     "metadata": {
      "needs_background": "light"
     },
     "output_type": "display_data"
    }
   ],
   "source": [
    "# Create a histogram of membership Days among genders or only Males and females\n",
    "plt.figure(figsize=[11,8])\n",
    "plt.hist('membershipDays', data=data2[data2['gender'] == 'M'], alpha=0.5, label='Male', bins=15)\n",
    "plt.hist('membershipDays', data=data2[data2['gender'] == 'F'], alpha=0.5, label='Female', bins=15)\n",
    "plt.title('Distribution of Membership Days')\n",
    "plt.ylabel(\"Number of Users\")\n",
    "plt.xlabel('Number of Days')\n",
    "plt.legend();"
   ]
  },
  {
   "cell_type": "code",
   "execution_count": 65,
   "metadata": {},
   "outputs": [
    {
     "data": {
      "image/png": "[encoded data removed]",
      "text/plain": [
       "<matplotlib.figure.Figure at 0x7f4cde95c6d8>"
      ]
     },
     "metadata": {
      "needs_background": "light"
     },
     "output_type": "display_data"
    }
   ],
   "source": [
    "# Create a boxplot of membership Days among genders \n",
    "plt.figure(figsize=[11,8])\n",
    "sns.boxplot(x=\"gender\", y=\"membershipDays\", data=data2, color = bcolor)\n",
    "plt.title('Distribution of Membership Days')\n",
    "plt.xticks([0,1,2],['Male','Female', 'Other'])\n",
    "plt.title('Distribution of Membership Days')\n",
    "plt.ylabel(\"Number of Users\")\n",
    "plt.xlabel('Number of Days')\n",
    "plt.legend();"
   ]
  },
  {
   "cell_type": "code",
   "execution_count": 66,
   "metadata": {},
   "outputs": [
    {
     "data": {
      "image/png": "[encoded data removed]",
      "text/plain": [
       "<matplotlib.figure.Figure at 0x7f4cde929b00>"
      ]
     },
     "metadata": {
      "needs_background": "light"
     },
     "output_type": "display_data"
    }
   ],
   "source": [
    "plt.figure(figsize=[11,8])\n",
    "sns.heatmap(data2[[\"age\", \"income\", \"membershipDays\"]].corr(), annot=True, cbar=False)\n",
    "plt.title('Correlation Heatmap - All Users')\n",
    "plt.yticks(rotation=0);"
   ]
  },
  {
   "cell_type": "code",
   "execution_count": 67,
   "metadata": {},
   "outputs": [],
   "source": [
    "men = data2[data2['gender'] == 'M']\n",
    "ladies = data2[data2['gender'] == 'F']"
   ]
  },
  {
   "cell_type": "code",
   "execution_count": 68,
   "metadata": {},
   "outputs": [
    {
     "data": {
      "image/png": "[encoded data removed]",
      "text/plain": [
       "<matplotlib.figure.Figure at 0x7f4cde8b8320>"
      ]
     },
     "metadata": {
      "needs_background": "light"
     },
     "output_type": "display_data"
    }
   ],
   "source": [
    "plt.figure(figsize=[11,8])\n",
    "sns.heatmap(ladies[[\"age\", \"income\", \"membershipDays\"]].corr(), annot=True, cbar=False)\n",
    "plt.title('Correlation Heatmap - Female Users')\n",
    "plt.yticks(rotation=0);"
   ]
  },
  {
   "cell_type": "code",
   "execution_count": 69,
   "metadata": {},
   "outputs": [
    {
     "data": {
      "image/png": "[encoded data removed]",
      "text/plain": [
       "<matplotlib.figure.Figure at 0x7f4cde8df2e8>"
      ]
     },
     "metadata": {
      "needs_background": "light"
     },
     "output_type": "display_data"
    }
   ],
   "source": [
    "plt.figure(figsize=[11,8])\n",
    "sns.heatmap(men[[\"age\", \"income\", \"membershipDays\"]].corr(), annot=True, cbar=False)\n",
    "plt.title('Correlation Heatmap - Male Users')\n",
    "plt.yticks(rotation=0);"
   ]
  },
  {
   "cell_type": "markdown",
   "metadata": {},
   "source": [
    "# D. Predictive modeling and answers to research question"
   ]
  },
  {
   "cell_type": "markdown",
   "metadata": {},
   "source": [
    "## 1. Tackle reseach questions"
   ]
  },
  {
   "cell_type": "markdown",
   "metadata": {},
   "source": [
    "\n",
    " \n",
    "# Question I\n",
    "## Who is the typical Starbucks rewards mobile app user?\n",
    "- Analysis of descriptive statistics of all variables in the dataset.\n",
    "\n"
   ]
  },
  {
   "cell_type": "code",
   "execution_count": 70,
   "metadata": {},
   "outputs": [
    {
     "data": {
      "text/plain": [
       "(14825, (14825, 25))"
      ]
     },
     "execution_count": 70,
     "metadata": {},
     "output_type": "execute_result"
    }
   ],
   "source": [
    "# create dataframe with one record per user\n",
    "single_users = data.drop_duplicates(subset=['person'], keep=\"last\")\n",
    "single_users.person.nunique(), single_users.shape"
   ]
  },
  {
   "cell_type": "markdown",
   "metadata": {},
   "source": [
    "## Analyze gender"
   ]
  },
  {
   "cell_type": "code",
   "execution_count": 71,
   "metadata": {},
   "outputs": [
    {
     "data": {
      "text/plain": [
       "M    57.227656\n",
       "F    41.342327\n",
       "O     1.430017\n",
       "Name: gender, dtype: float64"
      ]
     },
     "execution_count": 71,
     "metadata": {},
     "output_type": "execute_result"
    }
   ],
   "source": [
    "# find the highest count gender\n",
    "# the gender with most users is typical\n",
    "single_users.gender.value_counts(normalize=True) * 100"
   ]
  },
  {
   "cell_type": "code",
   "execution_count": 72,
   "metadata": {},
   "outputs": [
    {
     "data": {
      "image/png": "[encoded data removed]",
      "text/plain": [
       "<matplotlib.figure.Figure at 0x7f4cde833be0>"
      ]
     },
     "metadata": {
      "needs_background": "light"
     },
     "output_type": "display_data"
    }
   ],
   "source": [
    "fig, axes = plt.subplots(nrows=1, ncols=2, figsize=(14,8), sharey=True)\n",
    "plt.subplot(121)\n",
    "\n",
    "plt.hist('age', data=data2[data2['gender'] == 'M'], alpha=0.5, label='Male', bins=10)\n",
    "plt.hist('age', data=data2[data2['gender'] == 'F'], alpha=0.5, label='Female', bins=10)\n",
    "plt.title('Distribution of Age by Gender')\n",
    "plt.xlabel('Age')\n",
    "plt.ylabel(\"Count\")\n",
    "plt.legend();\n",
    "\n",
    "plt.subplot(122)\n",
    "# Create a histogram of income among genders or only Males and females\n",
    "plt.hist('income', data=data2[data2['gender'] == 'M'], alpha=0.5, label='Male', bins=10)\n",
    "plt.hist('income', data=data2[data2['gender'] == 'F'], alpha=0.5, label='Female', bins=10)\n",
    "plt.title('Distribution of income by Gender')\n",
    "plt.xlabel('income')\n",
    "# plt.ylabel(\"Count\")\n",
    "plt.legend();"
   ]
  },
  {
   "cell_type": "markdown",
   "metadata": {},
   "source": [
    "## Analyze age"
   ]
  },
  {
   "cell_type": "code",
   "execution_count": 73,
   "metadata": {},
   "outputs": [],
   "source": [
    "# visual Normality check\n",
    "def plot_dnorm(arr):\n",
    "    plt.figure(figsize=[10,8])\n",
    "    mean = np.mean(arr)\n",
    "    variance = np.var(arr)\n",
    "    sigma = np.sqrt(variance)\n",
    "    \n",
    "    x = np.linspace(min(arr), max(arr), len(arr))\n",
    "    plt.hist(arr, normed=True)\n",
    "    plt.xlim((min(arr)-mean/10, max(arr)+mean/10))\n",
    "\n",
    "\n",
    "    plt.plot(x, mlab.normpdf(x, mean, sigma))\n",
    "\n",
    "\n",
    "    plt.show()"
   ]
  },
  {
   "cell_type": "code",
   "execution_count": 74,
   "metadata": {},
   "outputs": [
    {
     "data": {
      "text/plain": [
       "count    14825.000000\n",
       "mean        54.393524\n",
       "std         17.383705\n",
       "min         18.000000\n",
       "25%         42.000000\n",
       "50%         55.000000\n",
       "75%         66.000000\n",
       "max        101.000000\n",
       "Name: age, dtype: float64"
      ]
     },
     "execution_count": 74,
     "metadata": {},
     "output_type": "execute_result"
    }
   ],
   "source": [
    "# Distribution of users age is fairly normal, although the mean and median relatively close\n",
    "single_users.age.describe()"
   ]
  },
  {
   "cell_type": "code",
   "execution_count": 75,
   "metadata": {},
   "outputs": [
    {
     "data": {
      "text/plain": [
       "babyboomer      43.844857\n",
       "genX            23.183811\n",
       "elderlyadult    17.753794\n",
       "millennials     15.217538\n",
       "Name: agegroups, dtype: float64"
      ]
     },
     "execution_count": 75,
     "metadata": {},
     "output_type": "execute_result"
    }
   ],
   "source": [
    "single_users.agegroups.value_counts(normalize=True) * 100"
   ]
  },
  {
   "cell_type": "code",
   "execution_count": 76,
   "metadata": {},
   "outputs": [
    {
     "data": {
      "image/png": "[encoded data removed]",
      "text/plain": [
       "<matplotlib.figure.Figure at 0x7f4cde7cb2e8>"
      ]
     },
     "metadata": {
      "needs_background": "light"
     },
     "output_type": "display_data"
    }
   ],
   "source": [
    "# Density Plot and Histogram of all age\n",
    "plt.figure(figsize=[10,8])\n",
    "single_users['age'].plot.hist(density=True, color = 'darkblue',\n",
    "             edgecolor='black',linewidth = 4)\n",
    "single_users['age'].plot.kde(legend=False, title=\"Histogram of all age\");"
   ]
  },
  {
   "cell_type": "code",
   "execution_count": 77,
   "metadata": {},
   "outputs": [
    {
     "data": {
      "text/plain": [
       "babyboomer      1776\n",
       "elderlyadult       0\n",
       "genX               0\n",
       "millennials        0\n",
       "Name: agegroups, dtype: int64"
      ]
     },
     "execution_count": 77,
     "metadata": {},
     "output_type": "execute_result"
    }
   ],
   "source": [
    "data_age = single_users.query('age >= age.mean()-2 and age <= age.median()+2')\n",
    "data_age.agegroups.value_counts()"
   ]
  },
  {
   "cell_type": "markdown",
   "metadata": {},
   "source": [
    "## Analyze income"
   ]
  },
  {
   "cell_type": "code",
   "execution_count": 78,
   "metadata": {},
   "outputs": [
    {
     "data": {
      "text/plain": [
       "count     14825.000000\n",
       "mean      65404.991568\n",
       "std       21598.299410\n",
       "min       30000.000000\n",
       "25%       49000.000000\n",
       "50%       64000.000000\n",
       "75%       80000.000000\n",
       "max      120000.000000\n",
       "Name: income, dtype: float64"
      ]
     },
     "execution_count": 78,
     "metadata": {},
     "output_type": "execute_result"
    }
   ],
   "source": [
    "# Distribution of users income is poorly normal, although the mean and median relatively close\n",
    "single_users.income.describe()"
   ]
  },
  {
   "cell_type": "code",
   "execution_count": null,
   "metadata": {},
   "outputs": [],
   "source": []
  },
  {
   "cell_type": "code",
   "execution_count": 79,
   "metadata": {},
   "outputs": [
    {
     "data": {
      "text/plain": [
       "Middle-income    84.222597\n",
       "Lower-middle     15.183811\n",
       "Lowest            0.593592\n",
       "Higher-income     0.000000\n",
       "Upper-middle      0.000000\n",
       "Name: incomegroups, dtype: float64"
      ]
     },
     "execution_count": 79,
     "metadata": {},
     "output_type": "execute_result"
    }
   ],
   "source": [
    "bb = single_users.incomegroups.value_counts(normalize=True) * 100\n",
    "bb"
   ]
  },
  {
   "cell_type": "code",
   "execution_count": 80,
   "metadata": {},
   "outputs": [
    {
     "data": {
      "image/png": "[encoded data removed]",
      "text/plain": [
       "<matplotlib.figure.Figure at 0x7f4cde73b710>"
      ]
     },
     "metadata": {
      "needs_background": "light"
     },
     "output_type": "display_data"
    }
   ],
   "source": [
    "# # # plot the room types\n",
    "plt.figure(figsize=[10,8])\n",
    "plt.bar(bb.index[0:3], bb.values[0:3], edgecolor=\"#2b2b28\")\n",
    "plt.xlabel(\"Income Classification\")\n",
    "plt.xticks(rotation=40, ha='right')\n",
    "plt.ylabel(\"Percentage of Total\")\n",
    "plt.title(\"Starbuck mobile app users\")\n",
    "plt.tight_layout()\n",
    "plt.show()"
   ]
  },
  {
   "cell_type": "code",
   "execution_count": 81,
   "metadata": {},
   "outputs": [
    {
     "data": {
      "text/plain": [
       "babyboomer      43.844857\n",
       "genX            23.183811\n",
       "elderlyadult    17.753794\n",
       "millennials     15.217538\n",
       "Name: agegroups, dtype: float64"
      ]
     },
     "execution_count": 81,
     "metadata": {},
     "output_type": "execute_result"
    }
   ],
   "source": [
    "bba = single_users.agegroups.value_counts(normalize=True) * 100\n",
    "# bba =  bba.reset_index()\n",
    "bba"
   ]
  },
  {
   "cell_type": "code",
   "execution_count": 82,
   "metadata": {},
   "outputs": [
    {
     "data": {
      "image/png": "[encoded data removed]",
      "text/plain": [
       "<matplotlib.figure.Figure at 0x7f4cde73fe80>"
      ]
     },
     "metadata": {
      "needs_background": "light"
     },
     "output_type": "display_data"
    }
   ],
   "source": [
    "# # # plot the room types\n",
    "plt.figure(figsize=[10,8])\n",
    "plt.bar(bba.index, bba.values, edgecolor=\"#2b2b28\")\n",
    "plt.xlabel(\"Age Classification\")\n",
    "plt.xticks(rotation=40, ha='right')\n",
    "plt.ylabel(\"Percentage of Total\")\n",
    "plt.title(\"Starbuck mobile app users\")\n",
    "plt.tight_layout()\n",
    "plt.show()"
   ]
  },
  {
   "cell_type": "code",
   "execution_count": 83,
   "metadata": {},
   "outputs": [
    {
     "data": {
      "image/png": "[encoded data removed]",
      "text/plain": [
       "<matplotlib.figure.Figure at 0x7f4cd8e65470>"
      ]
     },
     "metadata": {
      "needs_background": "light"
     },
     "output_type": "display_data"
    }
   ],
   "source": [
    "fig, axes = plt.subplots(nrows=1, ncols=2, figsize=(12,8), sharey=True)\n",
    "plt.subplot(121)\n",
    "sns.barplot(x = bba.index, y= bba.values,  color = bcolor,   edgecolor=[\"#2b2b28\",\"#2b2b28\",\"#2b2b28\",\"#2b2b28\"] , linewidth = 2)\n",
    "plt.xlabel(\" \")\n",
    "plt.xticks(rotation=40, ha='right')\n",
    "plt.ylabel(\"Percentage of Total\")\n",
    "plt.title(\"Age Classification\")\n",
    "plt.tight_layout()\n",
    "bbc = bb[:3]\n",
    "plt.subplot(122)\n",
    "\n",
    "sns.barplot(x = bbc.index, y= bbc.values,  color = bcolor,   edgecolor=[\"#2b2b28\",\"#2b2b28\",\"#2b2b28\",\"#2b2b28\"] , linewidth = 2)\n",
    "plt.xlabel(\" \")\n",
    "plt.xticks(rotation=40, ha='right')\n",
    "plt.title(\"Income Classification\")\n",
    "plt.tight_layout()\n",
    "plt.show()"
   ]
  },
  {
   "cell_type": "code",
   "execution_count": 84,
   "metadata": {},
   "outputs": [
    {
     "data": {
      "image/png": "[encoded data removed]",
      "text/plain": [
       "<matplotlib.figure.Figure at 0x7f4cd8e50dd8>"
      ]
     },
     "metadata": {
      "needs_background": "light"
     },
     "output_type": "display_data"
    }
   ],
   "source": [
    "# Density Plot and Histogram of all income\n",
    "plt.figure(figsize=[10,8])\n",
    "single_users['income'].plot.hist(density=True, color = 'darkblue',\n",
    "             edgecolor='black',linewidth = 4)\n",
    "single_users['income'].plot.kde(legend=False, title=\"Histogram of all income\");\n"
   ]
  },
  {
   "cell_type": "code",
   "execution_count": 85,
   "metadata": {},
   "outputs": [
    {
     "data": {
      "image/png": "[encoded data removed]",
      "text/plain": [
       "<matplotlib.figure.Figure at 0x7f4cd8da4da0>"
      ]
     },
     "metadata": {
      "needs_background": "light"
     },
     "output_type": "display_data"
    }
   ],
   "source": [
    "plot_dnorm(single_users[\"income\"])"
   ]
  },
  {
   "cell_type": "code",
   "execution_count": 86,
   "metadata": {},
   "outputs": [
    {
     "data": {
      "text/plain": [
       "Middle-income    496\n",
       "Higher-income      0\n",
       "Upper-middle       0\n",
       "Lower-middle       0\n",
       "Lowest             0\n",
       "Name: incomegroups, dtype: int64"
      ]
     },
     "execution_count": 86,
     "metadata": {},
     "output_type": "execute_result"
    }
   ],
   "source": [
    "data_income = single_users.query('income >= income.median()-2 and income <= income.mean()+2')\n",
    "data_income.incomegroups.value_counts()"
   ]
  },
  {
   "cell_type": "code",
   "execution_count": null,
   "metadata": {},
   "outputs": [],
   "source": []
  },
  {
   "cell_type": "markdown",
   "metadata": {},
   "source": [
    " # Question II\n",
    " ## Which demographic group respond best to which offer type?\n",
    "  - Analyzing the response rate of each gender and age groups."
   ]
  },
  {
   "cell_type": "code",
   "execution_count": 87,
   "metadata": {},
   "outputs": [
    {
     "name": "stderr",
     "output_type": "stream",
     "text": [
      "/opt/conda/lib/python3.6/site-packages/ipykernel_launcher.py:11: SettingWithCopyWarning: \n",
      "A value is trying to be set on a copy of a slice from a DataFrame.\n",
      "Try using .loc[row_indexer,col_indexer] = value instead\n",
      "\n",
      "See the caveats in the documentation: https://pandas.pydata.org/pandas-docs/stable/user_guide/indexing.html#returning-a-view-versus-a-copy\n",
      "  # This is added back by InteractiveShellApp.init_path()\n",
      "/opt/conda/lib/python3.6/site-packages/ipykernel_launcher.py:12: SettingWithCopyWarning: \n",
      "A value is trying to be set on a copy of a slice from a DataFrame.\n",
      "Try using .loc[row_indexer,col_indexer] = value instead\n",
      "\n",
      "See the caveats in the documentation: https://pandas.pydata.org/pandas-docs/stable/user_guide/indexing.html#returning-a-view-versus-a-copy\n",
      "  if sys.path[0] == '':\n"
     ]
    }
   ],
   "source": [
    "oevent = ['offer received', 'offer viewed', 'offer completed']\n",
    "ooffer = ['informational', 'discount', 'bogo']\n",
    "toevent = pd.api.types.CategoricalDtype(categories= oevent, ordered=True)\n",
    "tooffer = pd.api.types.CategoricalDtype(categories= ooffer, ordered=True)\n",
    "\n",
    "\n",
    "\n",
    "# keep only users that received an offer\n",
    "dada = data[data['event'] != \"transaction\"]\n",
    "data8 = dada.drop_duplicates(subset=['person'], keep=\"last\")\n",
    "data8['eventFinal'] = data8['event'].astype(toevent).apply(lambda x: \"No response\" if x ==\"offer received\" else x)\n",
    "data8['offer_type'] = data8['offer_type'].astype(tooffer)\n",
    "\n"
   ]
  },
  {
   "cell_type": "code",
   "execution_count": 88,
   "metadata": {},
   "outputs": [
    {
     "data": {
      "text/plain": [
       "(17000, (14820, 26))"
      ]
     },
     "execution_count": 88,
     "metadata": {},
     "output_type": "execute_result"
    }
   ],
   "source": [
    "# check total number of users and those with complete dataset the received an offer\n",
    "clean_data.person.nunique(), data8.shape"
   ]
  },
  {
   "cell_type": "code",
   "execution_count": 89,
   "metadata": {},
   "outputs": [
    {
     "data": {
      "text/plain": [
       "offer completed    53.245614\n",
       "offer viewed       38.063428\n",
       "No response         8.690958\n",
       "Name: eventFinal, dtype: float64"
      ]
     },
     "execution_count": 89,
     "metadata": {},
     "output_type": "execute_result"
    }
   ],
   "source": [
    "offf2 = data8.eventFinal.value_counts(normalize=True)*100\n",
    "offf2"
   ]
  },
  {
   "cell_type": "code",
   "execution_count": 90,
   "metadata": {},
   "outputs": [
    {
     "data": {
      "image/png": "[encoded data removed]",
      "text/plain": [
       "<matplotlib.figure.Figure at 0x7f4cd8d7fc50>"
      ]
     },
     "metadata": {
      "needs_background": "light"
     },
     "output_type": "display_data"
    }
   ],
   "source": [
    "plt.figure(figsize=[10,8])\n",
    "sns.barplot(x = offf2.index, y= offf2.values,  color = bcolor,   edgecolor=[\"#2b2b28\",\"#2b2b28\",\"#2b2b28\",\"#2b2b28\"] , linewidth = 2)\n",
    "plt.xlabel(\" \")\n",
    "plt.title(\"Marketing Offer among users\")\n",
    "plt.ylabel(\"Percentage\")\n",
    "plt.tight_layout()\n",
    "plt.show()"
   ]
  },
  {
   "cell_type": "code",
   "execution_count": 91,
   "metadata": {},
   "outputs": [
    {
     "data": {
      "text/plain": [
       "discount         9881\n",
       "bogo             4040\n",
       "informational     899\n",
       "Name: offer_type, dtype: int64"
      ]
     },
     "execution_count": 91,
     "metadata": {},
     "output_type": "execute_result"
    }
   ],
   "source": [
    "data8.offer_type.value_counts()"
   ]
  },
  {
   "cell_type": "code",
   "execution_count": 92,
   "metadata": {},
   "outputs": [
    {
     "data": {
      "text/plain": [
       "discount         66.673414\n",
       "bogo             27.260459\n",
       "informational     6.066127\n",
       "Name: offer_type, dtype: float64"
      ]
     },
     "execution_count": 92,
     "metadata": {},
     "output_type": "execute_result"
    }
   ],
   "source": [
    "offf = data8.offer_type.value_counts(normalize=True)*100\n",
    "# offf = offf.reset_index()\n",
    "offf"
   ]
  },
  {
   "cell_type": "code",
   "execution_count": 93,
   "metadata": {},
   "outputs": [
    {
     "data": {
      "image/png": "[encoded data removed]",
      "text/plain": [
       "<matplotlib.figure.Figure at 0x7f4cd8d1d5f8>"
      ]
     },
     "metadata": {
      "needs_background": "light"
     },
     "output_type": "display_data"
    }
   ],
   "source": [
    "plt.figure(figsize=[10,8])\n",
    "sns.barplot(x = offf.index, y= offf.values,  color = bcolor,   edgecolor=[\"#2b2b28\",\"#2b2b28\",\"#2b2b28\",\"#2b2b28\"] , linewidth = 2)\n",
    "plt.xlabel(\" \")\n",
    "plt.title(\"Marketing Offer among users\")\n",
    "plt.ylabel(\"Percentage\")\n",
    "plt.tight_layout()\n",
    "plt.show()"
   ]
  },
  {
   "cell_type": "code",
   "execution_count": 94,
   "metadata": {},
   "outputs": [
    {
     "data": {
      "image/png": "[encoded data removed]",
      "text/plain": [
       "<matplotlib.figure.Figure at 0x7f4cd8ce3cc0>"
      ]
     },
     "metadata": {
      "needs_background": "light"
     },
     "output_type": "display_data"
    }
   ],
   "source": [
    "# Plot the distribution\n",
    "fig, (ax1, ax2) = plt.subplots(nrows=1, ncols=2, figsize=(12,8), sharey=True)\n",
    "\n",
    "sns.barplot(x = offf.index, y= offf.values,  color = bcolor,   edgecolor=[\"#2b2b28\",\"#2b2b28\",\"#2b2b28\",\"#2b2b28\"] , linewidth = 2, ax=ax1)\n",
    "plt.xlabel(\" \")\n",
    "ax1.set_title(\"Marketing Offers to Users\")\n",
    "ax1.set_ylabel(\"Percentage\")\n",
    "plt.tight_layout()\n",
    "\n",
    "sns.barplot(x = offf2.index, y= offf2.values,  color = bcolor,   edgecolor=[\"#2b2b28\",\"#2b2b28\",\"#2b2b28\",\"#2b2b28\"] , linewidth = 2, ax=ax2)\n",
    "plt.xlabel(\" \")\n",
    "plt.title(\"Users Response to Marketing offer\")\n",
    "# plt.ylabel(\"Percentage\")\n",
    "plt.tight_layout()\n",
    "plt.show()\n",
    "\n",
    "\n"
   ]
  },
  {
   "cell_type": "code",
   "execution_count": null,
   "metadata": {},
   "outputs": [],
   "source": []
  },
  {
   "cell_type": "code",
   "execution_count": null,
   "metadata": {},
   "outputs": [],
   "source": []
  },
  {
   "cell_type": "code",
   "execution_count": 95,
   "metadata": {},
   "outputs": [
    {
     "data": {
      "text/html": [
       "<div>\n",
       "<style scoped>\n",
       "    .dataframe tbody tr th:only-of-type {\n",
       "        vertical-align: middle;\n",
       "    }\n",
       "\n",
       "    .dataframe tbody tr th {\n",
       "        vertical-align: top;\n",
       "    }\n",
       "\n",
       "    .dataframe thead th {\n",
       "        text-align: right;\n",
       "    }\n",
       "</style>\n",
       "<table border=\"1\" class=\"dataframe\">\n",
       "  <thead>\n",
       "    <tr style=\"text-align: right;\">\n",
       "      <th>eventFinal</th>\n",
       "      <th>offer_type</th>\n",
       "      <th>No response</th>\n",
       "      <th>offer viewed</th>\n",
       "      <th>offer completed</th>\n",
       "    </tr>\n",
       "  </thead>\n",
       "  <tbody>\n",
       "    <tr>\n",
       "      <th>0</th>\n",
       "      <td>informational</td>\n",
       "      <td>43.381535</td>\n",
       "      <td>56.618465</td>\n",
       "      <td>0.000000</td>\n",
       "    </tr>\n",
       "    <tr>\n",
       "      <th>1</th>\n",
       "      <td>discount</td>\n",
       "      <td>7.883817</td>\n",
       "      <td>30.037446</td>\n",
       "      <td>62.078737</td>\n",
       "    </tr>\n",
       "    <tr>\n",
       "      <th>2</th>\n",
       "      <td>bogo</td>\n",
       "      <td>2.945545</td>\n",
       "      <td>53.564356</td>\n",
       "      <td>43.490099</td>\n",
       "    </tr>\n",
       "    <tr>\n",
       "      <th>3</th>\n",
       "      <td>All</td>\n",
       "      <td>8.690958</td>\n",
       "      <td>38.063428</td>\n",
       "      <td>53.245614</td>\n",
       "    </tr>\n",
       "  </tbody>\n",
       "</table>\n",
       "</div>"
      ],
      "text/plain": [
       "eventFinal     offer_type  No response  offer viewed  offer completed\n",
       "0           informational    43.381535     56.618465         0.000000\n",
       "1                discount     7.883817     30.037446        62.078737\n",
       "2                    bogo     2.945545     53.564356        43.490099\n",
       "3                     All     8.690958     38.063428        53.245614"
      ]
     },
     "execution_count": 95,
     "metadata": {},
     "output_type": "execute_result"
    }
   ],
   "source": [
    "offerevents2 = pd.crosstab(data8[\"offer_type\"], data8[\"eventFinal\"], normalize=\"index\",  margins = True).fillna(0)*100\n",
    "offerevents2 = offerevents2.reset_index()\n",
    "offerevents2"
   ]
  },
  {
   "cell_type": "code",
   "execution_count": 96,
   "metadata": {},
   "outputs": [
    {
     "data": {
      "text/html": [
       "<div>\n",
       "<style scoped>\n",
       "    .dataframe tbody tr th:only-of-type {\n",
       "        vertical-align: middle;\n",
       "    }\n",
       "\n",
       "    .dataframe tbody tr th {\n",
       "        vertical-align: top;\n",
       "    }\n",
       "\n",
       "    .dataframe thead th {\n",
       "        text-align: right;\n",
       "    }\n",
       "</style>\n",
       "<table border=\"1\" class=\"dataframe\">\n",
       "  <thead>\n",
       "    <tr style=\"text-align: right;\">\n",
       "      <th>eventFinal</th>\n",
       "      <th>offer_type</th>\n",
       "      <th>No response</th>\n",
       "      <th>offer viewed</th>\n",
       "      <th>offer completed</th>\n",
       "      <th>All</th>\n",
       "    </tr>\n",
       "  </thead>\n",
       "  <tbody>\n",
       "    <tr>\n",
       "      <th>0</th>\n",
       "      <td>informational</td>\n",
       "      <td>30.279503</td>\n",
       "      <td>9.023223</td>\n",
       "      <td>0.000000</td>\n",
       "      <td>6.066127</td>\n",
       "    </tr>\n",
       "    <tr>\n",
       "      <th>1</th>\n",
       "      <td>discount</td>\n",
       "      <td>60.481366</td>\n",
       "      <td>52.614785</td>\n",
       "      <td>77.734127</td>\n",
       "      <td>66.673414</td>\n",
       "    </tr>\n",
       "    <tr>\n",
       "      <th>2</th>\n",
       "      <td>bogo</td>\n",
       "      <td>9.239130</td>\n",
       "      <td>38.361993</td>\n",
       "      <td>22.265873</td>\n",
       "      <td>27.260459</td>\n",
       "    </tr>\n",
       "  </tbody>\n",
       "</table>\n",
       "</div>"
      ],
      "text/plain": [
       "eventFinal     offer_type  No response  offer viewed  offer completed  \\\n",
       "0           informational    30.279503      9.023223         0.000000   \n",
       "1                discount    60.481366     52.614785        77.734127   \n",
       "2                    bogo     9.239130     38.361993        22.265873   \n",
       "\n",
       "eventFinal        All  \n",
       "0            6.066127  \n",
       "1           66.673414  \n",
       "2           27.260459  "
      ]
     },
     "execution_count": 96,
     "metadata": {},
     "output_type": "execute_result"
    }
   ],
   "source": [
    "offerevents = pd.crosstab(data8[\"offer_type\"], data8[\"eventFinal\"], normalize=\"columns\",  margins = True).fillna(0)*100\n",
    "offerevents = offerevents.reset_index()\n",
    "offerevents"
   ]
  },
  {
   "cell_type": "code",
   "execution_count": 97,
   "metadata": {},
   "outputs": [
    {
     "data": {
      "image/png": "[encoded data removed]",
      "text/plain": [
       "<matplotlib.figure.Figure at 0x7f4cd8ce3c18>"
      ]
     },
     "metadata": {
      "needs_background": "light"
     },
     "output_type": "display_data"
    }
   ],
   "source": [
    "# Plot the distribution\n",
    "fig, (ax1, ax2) = plt.subplots(nrows=1, ncols=2, figsize=(12,8), sharey=True)\n",
    "offerevents.plot(x='offer_type' , y=offerevents.columns.tolist()[1:4],  kind=\"bar\", cmap=\"Blues\", edgecolor=[\"#2b2b28\", \"#2b2b28\", \"#2b2b28\", \n",
    "                                                                                           \"#2b2b28\", \"#2b2b28\", \"#2b2b28\", \n",
    "                                                                                           \"#2b2b28\", \"#2b2b28\"], ax=ax1)\n",
    "\n",
    "ax1.set_xlabel(\" \")\n",
    "ax1.set_ylabel(\"Response Rate\")\n",
    "ax1.set_xticklabels(ax1.get_xticklabels(), rotation=0)\n",
    "ax1.set_title(\"Offer type response among users\")\n",
    "ax1.legend(title=\"Users Response\")\n",
    "\n",
    "\n",
    "offerevents2.plot(x='offer_type' , y=offerevents2.columns.tolist()[1:4],  kind=\"bar\", cmap=\"Blues\", edgecolor=[\"#2b2b28\", \"#2b2b28\", \"#2b2b28\", \n",
    "                                                                                           \"#2b2b28\", \"#2b2b28\", \"#2b2b28\", \n",
    "                                                                                           \"#2b2b28\", \"#2b2b28\"], ax=ax2)\n",
    "\n",
    "plt.xlabel(\" \")\n",
    "plt.ylabel(\"Response Rate\")\n",
    "plt.xticks(rotation=0)\n",
    "plt.title(\"Users response to offer\")\n",
    "plt.legend(title=\"Users Response\")\n",
    "plt.tight_layout()\n",
    "plt.show()"
   ]
  },
  {
   "cell_type": "code",
   "execution_count": null,
   "metadata": {},
   "outputs": [],
   "source": []
  },
  {
   "cell_type": "code",
   "execution_count": 98,
   "metadata": {},
   "outputs": [
    {
     "data": {
      "text/html": [
       "<div>\n",
       "<style scoped>\n",
       "    .dataframe tbody tr th:only-of-type {\n",
       "        vertical-align: middle;\n",
       "    }\n",
       "\n",
       "    .dataframe tbody tr th {\n",
       "        vertical-align: top;\n",
       "    }\n",
       "\n",
       "    .dataframe thead th {\n",
       "        text-align: right;\n",
       "    }\n",
       "</style>\n",
       "<table border=\"1\" class=\"dataframe\">\n",
       "  <thead>\n",
       "    <tr style=\"text-align: right;\">\n",
       "      <th>eventFinal</th>\n",
       "      <th>No response</th>\n",
       "      <th>offer viewed</th>\n",
       "      <th>offer completed</th>\n",
       "      <th>All</th>\n",
       "    </tr>\n",
       "    <tr>\n",
       "      <th>event</th>\n",
       "      <th></th>\n",
       "      <th></th>\n",
       "      <th></th>\n",
       "      <th></th>\n",
       "    </tr>\n",
       "  </thead>\n",
       "  <tbody>\n",
       "    <tr>\n",
       "      <th>offer completed</th>\n",
       "      <td>0</td>\n",
       "      <td>0</td>\n",
       "      <td>7891</td>\n",
       "      <td>7891</td>\n",
       "    </tr>\n",
       "    <tr>\n",
       "      <th>offer received</th>\n",
       "      <td>1288</td>\n",
       "      <td>0</td>\n",
       "      <td>0</td>\n",
       "      <td>1288</td>\n",
       "    </tr>\n",
       "    <tr>\n",
       "      <th>offer viewed</th>\n",
       "      <td>0</td>\n",
       "      <td>5641</td>\n",
       "      <td>0</td>\n",
       "      <td>5641</td>\n",
       "    </tr>\n",
       "    <tr>\n",
       "      <th>All</th>\n",
       "      <td>1288</td>\n",
       "      <td>5641</td>\n",
       "      <td>7891</td>\n",
       "      <td>14820</td>\n",
       "    </tr>\n",
       "  </tbody>\n",
       "</table>\n",
       "</div>"
      ],
      "text/plain": [
       "eventFinal       No response  offer viewed  offer completed    All\n",
       "event                                                             \n",
       "offer completed            0             0             7891   7891\n",
       "offer received          1288             0                0   1288\n",
       "offer viewed               0          5641                0   5641\n",
       "All                     1288          5641             7891  14820"
      ]
     },
     "execution_count": 98,
     "metadata": {},
     "output_type": "execute_result"
    }
   ],
   "source": [
    "hh22 = pd.crosstab(data8[\"event\"], data8[\"eventFinal\"],  margins = True).fillna(0)\n",
    "hh22"
   ]
  },
  {
   "cell_type": "code",
   "execution_count": 99,
   "metadata": {},
   "outputs": [
    {
     "data": {
      "text/plain": [
       "offer completed    7891\n",
       "offer viewed       5641\n",
       "No response        1288\n",
       "Name: eventFinal, dtype: int64"
      ]
     },
     "execution_count": 99,
     "metadata": {},
     "output_type": "execute_result"
    }
   ],
   "source": [
    "data8.eventFinal.value_counts()"
   ]
  },
  {
   "cell_type": "code",
   "execution_count": 100,
   "metadata": {},
   "outputs": [
    {
     "data": {
      "text/plain": [
       "dict_keys(['offer completed', 'offer received', 'offer viewed'])"
      ]
     },
     "execution_count": 100,
     "metadata": {},
     "output_type": "execute_result"
    }
   ],
   "source": [
    "data8.groupby(['event']).groups.keys()"
   ]
  },
  {
   "cell_type": "code",
   "execution_count": 101,
   "metadata": {},
   "outputs": [
    {
     "data": {
      "text/plain": [
       "offer completed    7891\n",
       "offer viewed       5641\n",
       "offer received     1288\n",
       "Name: event, dtype: int64"
      ]
     },
     "execution_count": 101,
     "metadata": {},
     "output_type": "execute_result"
    }
   ],
   "source": [
    "data8['event'].value_counts()"
   ]
  },
  {
   "cell_type": "code",
   "execution_count": 102,
   "metadata": {},
   "outputs": [
    {
     "data": {
      "text/html": [
       "<div>\n",
       "<style scoped>\n",
       "    .dataframe tbody tr th:only-of-type {\n",
       "        vertical-align: middle;\n",
       "    }\n",
       "\n",
       "    .dataframe tbody tr th {\n",
       "        vertical-align: top;\n",
       "    }\n",
       "\n",
       "    .dataframe thead th {\n",
       "        text-align: right;\n",
       "    }\n",
       "</style>\n",
       "<table border=\"1\" class=\"dataframe\">\n",
       "  <thead>\n",
       "    <tr style=\"text-align: right;\">\n",
       "      <th>gender</th>\n",
       "      <th>F</th>\n",
       "      <th>M</th>\n",
       "      <th>O</th>\n",
       "      <th>All</th>\n",
       "    </tr>\n",
       "    <tr>\n",
       "      <th>offer_type</th>\n",
       "      <th></th>\n",
       "      <th></th>\n",
       "      <th></th>\n",
       "      <th></th>\n",
       "    </tr>\n",
       "  </thead>\n",
       "  <tbody>\n",
       "    <tr>\n",
       "      <th>informational</th>\n",
       "      <td>384</td>\n",
       "      <td>502</td>\n",
       "      <td>13</td>\n",
       "      <td>899</td>\n",
       "    </tr>\n",
       "    <tr>\n",
       "      <th>discount</th>\n",
       "      <td>4083</td>\n",
       "      <td>5647</td>\n",
       "      <td>151</td>\n",
       "      <td>9881</td>\n",
       "    </tr>\n",
       "    <tr>\n",
       "      <th>bogo</th>\n",
       "      <td>1658</td>\n",
       "      <td>2334</td>\n",
       "      <td>48</td>\n",
       "      <td>4040</td>\n",
       "    </tr>\n",
       "    <tr>\n",
       "      <th>All</th>\n",
       "      <td>6125</td>\n",
       "      <td>8483</td>\n",
       "      <td>212</td>\n",
       "      <td>14820</td>\n",
       "    </tr>\n",
       "  </tbody>\n",
       "</table>\n",
       "</div>"
      ],
      "text/plain": [
       "gender            F     M    O    All\n",
       "offer_type                           \n",
       "informational   384   502   13    899\n",
       "discount       4083  5647  151   9881\n",
       "bogo           1658  2334   48   4040\n",
       "All            6125  8483  212  14820"
      ]
     },
     "execution_count": 102,
     "metadata": {},
     "output_type": "execute_result"
    }
   ],
   "source": [
    "pd.crosstab(data8[\"offer_type\"], data8[\"gender\"],  margins = True).fillna(0)"
   ]
  },
  {
   "cell_type": "code",
   "execution_count": 103,
   "metadata": {},
   "outputs": [
    {
     "data": {
      "text/html": [
       "<div>\n",
       "<style scoped>\n",
       "    .dataframe tbody tr th:only-of-type {\n",
       "        vertical-align: middle;\n",
       "    }\n",
       "\n",
       "    .dataframe tbody tr th {\n",
       "        vertical-align: top;\n",
       "    }\n",
       "\n",
       "    .dataframe thead th {\n",
       "        text-align: right;\n",
       "    }\n",
       "</style>\n",
       "<table border=\"1\" class=\"dataframe\">\n",
       "  <thead>\n",
       "    <tr style=\"text-align: right;\">\n",
       "      <th>gender</th>\n",
       "      <th>F</th>\n",
       "      <th>M</th>\n",
       "      <th>O</th>\n",
       "      <th>All</th>\n",
       "    </tr>\n",
       "    <tr>\n",
       "      <th>eventFinal</th>\n",
       "      <th></th>\n",
       "      <th></th>\n",
       "      <th></th>\n",
       "      <th></th>\n",
       "    </tr>\n",
       "  </thead>\n",
       "  <tbody>\n",
       "    <tr>\n",
       "      <th>No response</th>\n",
       "      <td>7.314286</td>\n",
       "      <td>9.772486</td>\n",
       "      <td>5.188679</td>\n",
       "      <td>8.690958</td>\n",
       "    </tr>\n",
       "    <tr>\n",
       "      <th>offer viewed</th>\n",
       "      <td>33.093878</td>\n",
       "      <td>41.754096</td>\n",
       "      <td>33.962264</td>\n",
       "      <td>38.063428</td>\n",
       "    </tr>\n",
       "    <tr>\n",
       "      <th>offer completed</th>\n",
       "      <td>59.591837</td>\n",
       "      <td>48.473417</td>\n",
       "      <td>60.849057</td>\n",
       "      <td>53.245614</td>\n",
       "    </tr>\n",
       "  </tbody>\n",
       "</table>\n",
       "</div>"
      ],
      "text/plain": [
       "gender                   F          M          O        All\n",
       "eventFinal                                                 \n",
       "No response       7.314286   9.772486   5.188679   8.690958\n",
       "offer viewed     33.093878  41.754096  33.962264  38.063428\n",
       "offer completed  59.591837  48.473417  60.849057  53.245614"
      ]
     },
     "execution_count": 103,
     "metadata": {},
     "output_type": "execute_result"
    }
   ],
   "source": [
    "pd.crosstab(data8[\"eventFinal\"], data8[\"gender\"], normalize=\"columns\", margins = True).fillna(0) * 100"
   ]
  },
  {
   "cell_type": "code",
   "execution_count": 104,
   "metadata": {},
   "outputs": [
    {
     "data": {
      "text/html": [
       "<div>\n",
       "<style scoped>\n",
       "    .dataframe tbody tr th:only-of-type {\n",
       "        vertical-align: middle;\n",
       "    }\n",
       "\n",
       "    .dataframe tbody tr th {\n",
       "        vertical-align: top;\n",
       "    }\n",
       "\n",
       "    .dataframe thead th {\n",
       "        text-align: right;\n",
       "    }\n",
       "</style>\n",
       "<table border=\"1\" class=\"dataframe\">\n",
       "  <thead>\n",
       "    <tr style=\"text-align: right;\">\n",
       "      <th>gender</th>\n",
       "      <th>F</th>\n",
       "      <th>M</th>\n",
       "      <th>O</th>\n",
       "    </tr>\n",
       "    <tr>\n",
       "      <th>eventFinal</th>\n",
       "      <th></th>\n",
       "      <th></th>\n",
       "      <th></th>\n",
       "    </tr>\n",
       "  </thead>\n",
       "  <tbody>\n",
       "    <tr>\n",
       "      <th>No response</th>\n",
       "      <td>34.782609</td>\n",
       "      <td>64.363354</td>\n",
       "      <td>0.854037</td>\n",
       "    </tr>\n",
       "    <tr>\n",
       "      <th>offer viewed</th>\n",
       "      <td>35.933345</td>\n",
       "      <td>62.790285</td>\n",
       "      <td>1.276369</td>\n",
       "    </tr>\n",
       "    <tr>\n",
       "      <th>offer completed</th>\n",
       "      <td>46.255227</td>\n",
       "      <td>52.109999</td>\n",
       "      <td>1.634774</td>\n",
       "    </tr>\n",
       "    <tr>\n",
       "      <th>All</th>\n",
       "      <td>41.329285</td>\n",
       "      <td>57.240216</td>\n",
       "      <td>1.430499</td>\n",
       "    </tr>\n",
       "  </tbody>\n",
       "</table>\n",
       "</div>"
      ],
      "text/plain": [
       "gender                   F          M         O\n",
       "eventFinal                                     \n",
       "No response      34.782609  64.363354  0.854037\n",
       "offer viewed     35.933345  62.790285  1.276369\n",
       "offer completed  46.255227  52.109999  1.634774\n",
       "All              41.329285  57.240216  1.430499"
      ]
     },
     "execution_count": 104,
     "metadata": {},
     "output_type": "execute_result"
    }
   ],
   "source": [
    "pd.crosstab(data8[\"eventFinal\"], data8[\"gender\"], normalize=\"index\", margins = True).fillna(0) * 100"
   ]
  },
  {
   "cell_type": "code",
   "execution_count": 105,
   "metadata": {},
   "outputs": [
    {
     "data": {
      "text/html": [
       "<div>\n",
       "<style scoped>\n",
       "    .dataframe tbody tr th:only-of-type {\n",
       "        vertical-align: middle;\n",
       "    }\n",
       "\n",
       "    .dataframe tbody tr th {\n",
       "        vertical-align: top;\n",
       "    }\n",
       "\n",
       "    .dataframe thead th {\n",
       "        text-align: right;\n",
       "    }\n",
       "</style>\n",
       "<table border=\"1\" class=\"dataframe\">\n",
       "  <thead>\n",
       "    <tr style=\"text-align: right;\">\n",
       "      <th>gender</th>\n",
       "      <th>F</th>\n",
       "      <th>M</th>\n",
       "      <th>O</th>\n",
       "    </tr>\n",
       "    <tr>\n",
       "      <th>offer_type</th>\n",
       "      <th></th>\n",
       "      <th></th>\n",
       "      <th></th>\n",
       "    </tr>\n",
       "  </thead>\n",
       "  <tbody>\n",
       "    <tr>\n",
       "      <th>informational</th>\n",
       "      <td>42.714127</td>\n",
       "      <td>55.839822</td>\n",
       "      <td>1.446051</td>\n",
       "    </tr>\n",
       "    <tr>\n",
       "      <th>discount</th>\n",
       "      <td>41.321729</td>\n",
       "      <td>57.150086</td>\n",
       "      <td>1.528185</td>\n",
       "    </tr>\n",
       "    <tr>\n",
       "      <th>bogo</th>\n",
       "      <td>41.039604</td>\n",
       "      <td>57.772277</td>\n",
       "      <td>1.188119</td>\n",
       "    </tr>\n",
       "    <tr>\n",
       "      <th>All</th>\n",
       "      <td>41.329285</td>\n",
       "      <td>57.240216</td>\n",
       "      <td>1.430499</td>\n",
       "    </tr>\n",
       "  </tbody>\n",
       "</table>\n",
       "</div>"
      ],
      "text/plain": [
       "gender                 F          M         O\n",
       "offer_type                                   \n",
       "informational  42.714127  55.839822  1.446051\n",
       "discount       41.321729  57.150086  1.528185\n",
       "bogo           41.039604  57.772277  1.188119\n",
       "All            41.329285  57.240216  1.430499"
      ]
     },
     "execution_count": 105,
     "metadata": {},
     "output_type": "execute_result"
    }
   ],
   "source": [
    "pd.crosstab(data8[\"offer_type\"], data8[\"gender\"], normalize=\"index\", margins = True).fillna(0) * 100"
   ]
  },
  {
   "cell_type": "code",
   "execution_count": 106,
   "metadata": {},
   "outputs": [
    {
     "data": {
      "text/html": [
       "<div>\n",
       "<style scoped>\n",
       "    .dataframe tbody tr th:only-of-type {\n",
       "        vertical-align: middle;\n",
       "    }\n",
       "\n",
       "    .dataframe tbody tr th {\n",
       "        vertical-align: top;\n",
       "    }\n",
       "\n",
       "    .dataframe thead th {\n",
       "        text-align: right;\n",
       "    }\n",
       "</style>\n",
       "<table border=\"1\" class=\"dataframe\">\n",
       "  <thead>\n",
       "    <tr style=\"text-align: right;\">\n",
       "      <th>gender</th>\n",
       "      <th>F</th>\n",
       "      <th>M</th>\n",
       "      <th>O</th>\n",
       "      <th>All</th>\n",
       "    </tr>\n",
       "    <tr>\n",
       "      <th>offer_type</th>\n",
       "      <th></th>\n",
       "      <th></th>\n",
       "      <th></th>\n",
       "      <th></th>\n",
       "    </tr>\n",
       "  </thead>\n",
       "  <tbody>\n",
       "    <tr>\n",
       "      <th>informational</th>\n",
       "      <td>6.269388</td>\n",
       "      <td>5.917718</td>\n",
       "      <td>6.132075</td>\n",
       "      <td>6.066127</td>\n",
       "    </tr>\n",
       "    <tr>\n",
       "      <th>discount</th>\n",
       "      <td>66.661224</td>\n",
       "      <td>66.568431</td>\n",
       "      <td>71.226415</td>\n",
       "      <td>66.673414</td>\n",
       "    </tr>\n",
       "    <tr>\n",
       "      <th>bogo</th>\n",
       "      <td>27.069388</td>\n",
       "      <td>27.513851</td>\n",
       "      <td>22.641509</td>\n",
       "      <td>27.260459</td>\n",
       "    </tr>\n",
       "  </tbody>\n",
       "</table>\n",
       "</div>"
      ],
      "text/plain": [
       "gender                 F          M          O        All\n",
       "offer_type                                               \n",
       "informational   6.269388   5.917718   6.132075   6.066127\n",
       "discount       66.661224  66.568431  71.226415  66.673414\n",
       "bogo           27.069388  27.513851  22.641509  27.260459"
      ]
     },
     "execution_count": 106,
     "metadata": {},
     "output_type": "execute_result"
    }
   ],
   "source": [
    "pd.crosstab(data8[\"offer_type\"], data8[\"gender\"], normalize=\"columns\", margins = True).fillna(0) * 100"
   ]
  },
  {
   "cell_type": "code",
   "execution_count": 107,
   "metadata": {},
   "outputs": [],
   "source": [
    "yy9 = pd.crosstab(data8[\"eventFinal\"], data8[\"incomegroups\"], normalize=\"columns\", margins = True).fillna(0) * 100\n",
    "yy9 = yy9.reset_index()"
   ]
  },
  {
   "cell_type": "code",
   "execution_count": 108,
   "metadata": {},
   "outputs": [
    {
     "name": "stderr",
     "output_type": "stream",
     "text": [
      "/opt/conda/lib/python3.6/site-packages/ipykernel_launcher.py:5: SettingWithCopyWarning: \n",
      "A value is trying to be set on a copy of a slice from a DataFrame.\n",
      "Try using .loc[row_indexer,col_indexer] = value instead\n",
      "\n",
      "See the caveats in the documentation: https://pandas.pydata.org/pandas-docs/stable/user_guide/indexing.html#returning-a-view-versus-a-copy\n",
      "  \"\"\"\n"
     ]
    }
   ],
   "source": [
    "ordering_combine = ['informational-No response','informational-offer viewed', \n",
    "                    'discount-No response','discount-offer viewed','discount-offer completed',\n",
    "                    'bogo-No response', 'bogo-offer viewed', 'bogo-offer completed']\n",
    "t_combine = pd.CategoricalDtype(categories= ordering_combine, ordered=True)\n",
    "data8['combine'] = data8[['offer_type','eventFinal']].agg('-'.join, axis=1).astype(t_combine)\n",
    "\n"
   ]
  },
  {
   "cell_type": "code",
   "execution_count": 109,
   "metadata": {},
   "outputs": [
    {
     "data": {
      "text/plain": [
       "CategoricalIndex(['discount-offer completed', 'discount-offer viewed',\n",
       "                  'bogo-offer viewed', 'bogo-offer completed',\n",
       "                  'discount-No response', 'informational-offer viewed',\n",
       "                  'informational-No response', 'bogo-No response'],\n",
       "                 categories=['informational-No response', 'informational-offer viewed', 'discount-No response', 'discount-offer viewed', 'discount-offer completed', 'bogo-No response', 'bogo-offer viewed', 'bogo-offer completed'], ordered=True, dtype='category')"
      ]
     },
     "execution_count": 109,
     "metadata": {},
     "output_type": "execute_result"
    }
   ],
   "source": [
    "data8['combine'].value_counts().index"
   ]
  },
  {
   "cell_type": "markdown",
   "metadata": {},
   "source": [
    "## Response rate among Gender"
   ]
  },
  {
   "cell_type": "code",
   "execution_count": null,
   "metadata": {},
   "outputs": [],
   "source": []
  },
  {
   "cell_type": "code",
   "execution_count": 110,
   "metadata": {},
   "outputs": [
    {
     "data": {
      "text/html": [
       "<div>\n",
       "<style scoped>\n",
       "    .dataframe tbody tr th:only-of-type {\n",
       "        vertical-align: middle;\n",
       "    }\n",
       "\n",
       "    .dataframe tbody tr th {\n",
       "        vertical-align: top;\n",
       "    }\n",
       "\n",
       "    .dataframe thead th {\n",
       "        text-align: right;\n",
       "    }\n",
       "</style>\n",
       "<table border=\"1\" class=\"dataframe\">\n",
       "  <thead>\n",
       "    <tr style=\"text-align: right;\">\n",
       "      <th>gender</th>\n",
       "      <th>combine</th>\n",
       "      <th>F</th>\n",
       "      <th>M</th>\n",
       "      <th>O</th>\n",
       "    </tr>\n",
       "  </thead>\n",
       "  <tbody>\n",
       "    <tr>\n",
       "      <th>0</th>\n",
       "      <td>informational-No response</td>\n",
       "      <td>41.538462</td>\n",
       "      <td>57.435897</td>\n",
       "      <td>1.025641</td>\n",
       "    </tr>\n",
       "    <tr>\n",
       "      <th>1</th>\n",
       "      <td>informational-offer viewed</td>\n",
       "      <td>43.614931</td>\n",
       "      <td>54.616896</td>\n",
       "      <td>1.768173</td>\n",
       "    </tr>\n",
       "    <tr>\n",
       "      <th>2</th>\n",
       "      <td>discount-No response</td>\n",
       "      <td>30.937099</td>\n",
       "      <td>68.292683</td>\n",
       "      <td>0.770218</td>\n",
       "    </tr>\n",
       "    <tr>\n",
       "      <th>3</th>\n",
       "      <td>discount-offer viewed</td>\n",
       "      <td>37.297844</td>\n",
       "      <td>61.118598</td>\n",
       "      <td>1.583558</td>\n",
       "    </tr>\n",
       "    <tr>\n",
       "      <th>4</th>\n",
       "      <td>discount-offer completed</td>\n",
       "      <td>44.587545</td>\n",
       "      <td>53.814803</td>\n",
       "      <td>1.597652</td>\n",
       "    </tr>\n",
       "    <tr>\n",
       "      <th>5</th>\n",
       "      <td>bogo-No response</td>\n",
       "      <td>37.815126</td>\n",
       "      <td>61.344538</td>\n",
       "      <td>0.840336</td>\n",
       "    </tr>\n",
       "    <tr>\n",
       "      <th>6</th>\n",
       "      <td>bogo-offer viewed</td>\n",
       "      <td>32.255083</td>\n",
       "      <td>67.005545</td>\n",
       "      <td>0.739372</td>\n",
       "    </tr>\n",
       "    <tr>\n",
       "      <th>7</th>\n",
       "      <td>bogo-offer completed</td>\n",
       "      <td>52.077405</td>\n",
       "      <td>46.158224</td>\n",
       "      <td>1.764371</td>\n",
       "    </tr>\n",
       "    <tr>\n",
       "      <th>8</th>\n",
       "      <td>All</td>\n",
       "      <td>41.329285</td>\n",
       "      <td>57.240216</td>\n",
       "      <td>1.430499</td>\n",
       "    </tr>\n",
       "  </tbody>\n",
       "</table>\n",
       "</div>"
      ],
      "text/plain": [
       "gender                     combine          F          M         O\n",
       "0        informational-No response  41.538462  57.435897  1.025641\n",
       "1       informational-offer viewed  43.614931  54.616896  1.768173\n",
       "2             discount-No response  30.937099  68.292683  0.770218\n",
       "3            discount-offer viewed  37.297844  61.118598  1.583558\n",
       "4         discount-offer completed  44.587545  53.814803  1.597652\n",
       "5                 bogo-No response  37.815126  61.344538  0.840336\n",
       "6                bogo-offer viewed  32.255083  67.005545  0.739372\n",
       "7             bogo-offer completed  52.077405  46.158224  1.764371\n",
       "8                              All  41.329285  57.240216  1.430499"
      ]
     },
     "execution_count": 110,
     "metadata": {},
     "output_type": "execute_result"
    }
   ],
   "source": [
    "bbb_p = pd.crosstab(data8[\"combine\"], data8[\"gender\"], normalize=\"index\", margins = True).fillna(0) * 100\n",
    "bbb_p = bbb_p.reset_index()\n",
    "bbb_p"
   ]
  },
  {
   "cell_type": "code",
   "execution_count": 111,
   "metadata": {},
   "outputs": [
    {
     "data": {
      "text/plain": [
       "<matplotlib.figure.Figure at 0x7f4cd8c3f978>"
      ]
     },
     "metadata": {},
     "output_type": "display_data"
    },
    {
     "data": {
      "image/png": "[encoded data removed]",
      "text/plain": [
       "<matplotlib.figure.Figure at 0x7f4cd8c4cbe0>"
      ]
     },
     "metadata": {
      "needs_background": "light"
     },
     "output_type": "display_data"
    }
   ],
   "source": [
    "plt.figure(figsize=[14,8])\n",
    "# Plot the distribution\n",
    "bbb_p.plot(x='combine' , y=['F','M','O'],  kind=\"bar\",figsize=(9,7), cmap=\"Blues_r\", edgecolor=[\"#2b2b28\", \"#2b2b28\", \"#2b2b28\", \n",
    "                                                                                           \"#2b2b28\", \"#2b2b28\", \"#2b2b28\", \n",
    "                                                                                           \"#2b2b28\", \"#2b2b28\",\"#2b2b28\", \"#2b2b28\"])\n",
    "plt.xlabel(\" \")\n",
    "plt.ylabel(\"Response Rate \")\n",
    "plt.xticks(rotation=-40,ha=\"left\")\n",
    "plt.title(\"Response to offer among Genders\")\n",
    "# plt.legend(['Female', 'Male','Undisclosed'])\n",
    "plt.tight_layout()\n",
    "plt.show()\n"
   ]
  },
  {
   "cell_type": "code",
   "execution_count": 112,
   "metadata": {},
   "outputs": [
    {
     "data": {
      "text/html": [
       "<div>\n",
       "<style scoped>\n",
       "    .dataframe tbody tr th:only-of-type {\n",
       "        vertical-align: middle;\n",
       "    }\n",
       "\n",
       "    .dataframe tbody tr th {\n",
       "        vertical-align: top;\n",
       "    }\n",
       "\n",
       "    .dataframe thead th {\n",
       "        text-align: right;\n",
       "    }\n",
       "</style>\n",
       "<table border=\"1\" class=\"dataframe\">\n",
       "  <thead>\n",
       "    <tr style=\"text-align: right;\">\n",
       "      <th>gender</th>\n",
       "      <th>combine</th>\n",
       "      <th>F</th>\n",
       "      <th>M</th>\n",
       "      <th>O</th>\n",
       "    </tr>\n",
       "  </thead>\n",
       "  <tbody>\n",
       "    <tr>\n",
       "      <th>0</th>\n",
       "      <td>informational-No response</td>\n",
       "      <td>41.538462</td>\n",
       "      <td>57.435897</td>\n",
       "      <td>1.025641</td>\n",
       "    </tr>\n",
       "    <tr>\n",
       "      <th>1</th>\n",
       "      <td>informational-offer viewed</td>\n",
       "      <td>43.614931</td>\n",
       "      <td>54.616896</td>\n",
       "      <td>1.768173</td>\n",
       "    </tr>\n",
       "    <tr>\n",
       "      <th>2</th>\n",
       "      <td>discount-No response</td>\n",
       "      <td>30.937099</td>\n",
       "      <td>68.292683</td>\n",
       "      <td>0.770218</td>\n",
       "    </tr>\n",
       "    <tr>\n",
       "      <th>3</th>\n",
       "      <td>discount-offer viewed</td>\n",
       "      <td>37.297844</td>\n",
       "      <td>61.118598</td>\n",
       "      <td>1.583558</td>\n",
       "    </tr>\n",
       "    <tr>\n",
       "      <th>4</th>\n",
       "      <td>discount-offer completed</td>\n",
       "      <td>44.587545</td>\n",
       "      <td>53.814803</td>\n",
       "      <td>1.597652</td>\n",
       "    </tr>\n",
       "    <tr>\n",
       "      <th>5</th>\n",
       "      <td>bogo-No response</td>\n",
       "      <td>37.815126</td>\n",
       "      <td>61.344538</td>\n",
       "      <td>0.840336</td>\n",
       "    </tr>\n",
       "    <tr>\n",
       "      <th>6</th>\n",
       "      <td>bogo-offer viewed</td>\n",
       "      <td>32.255083</td>\n",
       "      <td>67.005545</td>\n",
       "      <td>0.739372</td>\n",
       "    </tr>\n",
       "    <tr>\n",
       "      <th>7</th>\n",
       "      <td>bogo-offer completed</td>\n",
       "      <td>52.077405</td>\n",
       "      <td>46.158224</td>\n",
       "      <td>1.764371</td>\n",
       "    </tr>\n",
       "    <tr>\n",
       "      <th>8</th>\n",
       "      <td>All</td>\n",
       "      <td>41.329285</td>\n",
       "      <td>57.240216</td>\n",
       "      <td>1.430499</td>\n",
       "    </tr>\n",
       "  </tbody>\n",
       "</table>\n",
       "</div>"
      ],
      "text/plain": [
       "gender                     combine          F          M         O\n",
       "0        informational-No response  41.538462  57.435897  1.025641\n",
       "1       informational-offer viewed  43.614931  54.616896  1.768173\n",
       "2             discount-No response  30.937099  68.292683  0.770218\n",
       "3            discount-offer viewed  37.297844  61.118598  1.583558\n",
       "4         discount-offer completed  44.587545  53.814803  1.597652\n",
       "5                 bogo-No response  37.815126  61.344538  0.840336\n",
       "6                bogo-offer viewed  32.255083  67.005545  0.739372\n",
       "7             bogo-offer completed  52.077405  46.158224  1.764371\n",
       "8                              All  41.329285  57.240216  1.430499"
      ]
     },
     "execution_count": 112,
     "metadata": {},
     "output_type": "execute_result"
    }
   ],
   "source": [
    "bbb_p"
   ]
  },
  {
   "cell_type": "markdown",
   "metadata": {},
   "source": [
    "## Response rate among Age groups"
   ]
  },
  {
   "cell_type": "code",
   "execution_count": 113,
   "metadata": {},
   "outputs": [
    {
     "data": {
      "image/png": "[encoded data removed]",
      "text/plain": [
       "<matplotlib.figure.Figure at 0x7f4cd8cd1358>"
      ]
     },
     "metadata": {
      "needs_background": "light"
     },
     "output_type": "display_data"
    }
   ],
   "source": [
    "age_cp = pd.crosstab(data8[\"combine\"], data8[\"agegroups\"], normalize=\"index\", margins = True).fillna(0) * 100\n",
    "age_cp = age_cp.reset_index()\n",
    "\n",
    "# Plot the distribution\n",
    "age_cp.plot(x='combine' , y=['babyboomer', 'elderlyadult', 'genX', 'millennials'],  kind=\"bar\",figsize=(9,7), cmap=\"Blues_r\", \n",
    "                                                                                    edgecolor=[\"#2b2b28\", \"#2b2b28\", \"#2b2b28\", \n",
    "                                                                                           \"#2b2b28\", \"#2b2b28\", \"#2b2b28\", \n",
    "                                                                                           \"#2b2b28\", \"#2b2b28\"])\n",
    "plt.xlabel(\"Response to Offer\")\n",
    "plt.ylabel(\"Response Rate\")\n",
    "plt.xticks(rotation=45,ha=\"right\")\n",
    "plt.title(\"Response to offer among Age groups\")\n",
    "plt.tight_layout()\n",
    "plt.show()"
   ]
  },
  {
   "cell_type": "code",
   "execution_count": 114,
   "metadata": {},
   "outputs": [
    {
     "data": {
      "text/html": [
       "<div>\n",
       "<style scoped>\n",
       "    .dataframe tbody tr th:only-of-type {\n",
       "        vertical-align: middle;\n",
       "    }\n",
       "\n",
       "    .dataframe tbody tr th {\n",
       "        vertical-align: top;\n",
       "    }\n",
       "\n",
       "    .dataframe thead th {\n",
       "        text-align: right;\n",
       "    }\n",
       "</style>\n",
       "<table border=\"1\" class=\"dataframe\">\n",
       "  <thead>\n",
       "    <tr style=\"text-align: right;\">\n",
       "      <th>agegroups</th>\n",
       "      <th>combine</th>\n",
       "      <th>millennials</th>\n",
       "      <th>genX</th>\n",
       "      <th>babyboomer</th>\n",
       "      <th>elderlyadult</th>\n",
       "    </tr>\n",
       "  </thead>\n",
       "  <tbody>\n",
       "    <tr>\n",
       "      <th>0</th>\n",
       "      <td>informational-No response</td>\n",
       "      <td>18.461538</td>\n",
       "      <td>21.538462</td>\n",
       "      <td>43.076923</td>\n",
       "      <td>16.923077</td>\n",
       "    </tr>\n",
       "    <tr>\n",
       "      <th>1</th>\n",
       "      <td>informational-offer viewed</td>\n",
       "      <td>10.216110</td>\n",
       "      <td>28.880157</td>\n",
       "      <td>42.239686</td>\n",
       "      <td>18.664047</td>\n",
       "    </tr>\n",
       "    <tr>\n",
       "      <th>2</th>\n",
       "      <td>discount-No response</td>\n",
       "      <td>22.721438</td>\n",
       "      <td>23.748395</td>\n",
       "      <td>38.510911</td>\n",
       "      <td>15.019255</td>\n",
       "    </tr>\n",
       "    <tr>\n",
       "      <th>3</th>\n",
       "      <td>discount-offer viewed</td>\n",
       "      <td>17.082210</td>\n",
       "      <td>23.450135</td>\n",
       "      <td>42.318059</td>\n",
       "      <td>17.149596</td>\n",
       "    </tr>\n",
       "    <tr>\n",
       "      <th>4</th>\n",
       "      <td>discount-offer completed</td>\n",
       "      <td>13.302902</td>\n",
       "      <td>22.791001</td>\n",
       "      <td>45.435279</td>\n",
       "      <td>18.470818</td>\n",
       "    </tr>\n",
       "    <tr>\n",
       "      <th>5</th>\n",
       "      <td>bogo-No response</td>\n",
       "      <td>26.890756</td>\n",
       "      <td>19.327731</td>\n",
       "      <td>45.378151</td>\n",
       "      <td>8.403361</td>\n",
       "    </tr>\n",
       "    <tr>\n",
       "      <th>6</th>\n",
       "      <td>bogo-offer viewed</td>\n",
       "      <td>20.332717</td>\n",
       "      <td>23.798521</td>\n",
       "      <td>39.833641</td>\n",
       "      <td>16.035120</td>\n",
       "    </tr>\n",
       "    <tr>\n",
       "      <th>7</th>\n",
       "      <td>bogo-offer completed</td>\n",
       "      <td>9.106431</td>\n",
       "      <td>22.140011</td>\n",
       "      <td>48.662493</td>\n",
       "      <td>20.091064</td>\n",
       "    </tr>\n",
       "    <tr>\n",
       "      <th>8</th>\n",
       "      <td>All</td>\n",
       "      <td>15.222672</td>\n",
       "      <td>23.191633</td>\n",
       "      <td>43.839406</td>\n",
       "      <td>17.746289</td>\n",
       "    </tr>\n",
       "  </tbody>\n",
       "</table>\n",
       "</div>"
      ],
      "text/plain": [
       "agegroups                     combine  millennials       genX  babyboomer  \\\n",
       "0           informational-No response    18.461538  21.538462   43.076923   \n",
       "1          informational-offer viewed    10.216110  28.880157   42.239686   \n",
       "2                discount-No response    22.721438  23.748395   38.510911   \n",
       "3               discount-offer viewed    17.082210  23.450135   42.318059   \n",
       "4            discount-offer completed    13.302902  22.791001   45.435279   \n",
       "5                    bogo-No response    26.890756  19.327731   45.378151   \n",
       "6                   bogo-offer viewed    20.332717  23.798521   39.833641   \n",
       "7                bogo-offer completed     9.106431  22.140011   48.662493   \n",
       "8                                 All    15.222672  23.191633   43.839406   \n",
       "\n",
       "agegroups  elderlyadult  \n",
       "0             16.923077  \n",
       "1             18.664047  \n",
       "2             15.019255  \n",
       "3             17.149596  \n",
       "4             18.470818  \n",
       "5              8.403361  \n",
       "6             16.035120  \n",
       "7             20.091064  \n",
       "8             17.746289  "
      ]
     },
     "execution_count": 114,
     "metadata": {},
     "output_type": "execute_result"
    }
   ],
   "source": [
    "age_cp"
   ]
  },
  {
   "cell_type": "code",
   "execution_count": null,
   "metadata": {},
   "outputs": [],
   "source": []
  },
  {
   "cell_type": "markdown",
   "metadata": {},
   "source": [
    "## Response rate among Income groups"
   ]
  },
  {
   "cell_type": "code",
   "execution_count": 115,
   "metadata": {},
   "outputs": [
    {
     "data": {
      "image/png": "[encoded data removed]",
      "text/plain": [
       "<matplotlib.figure.Figure at 0x7f4cd8d63c50>"
      ]
     },
     "metadata": {
      "needs_background": "light"
     },
     "output_type": "display_data"
    }
   ],
   "source": [
    "income_cp = pd.crosstab(data8[\"combine\"], data8[\"incomegroups\"], normalize=\"columns\", margins = True).fillna(0) * 100\n",
    "income_cp = income_cp.reset_index()\n",
    "# Plot the distribution\n",
    "income_cp.plot(x='combine' , y=['Lowest','Lower-middle', 'Middle-income'],  kind=\"bar\",figsize=(9,7), cmap=\"Blues\", \n",
    "                                                                                    edgecolor=[\"#2b2b28\", \"#2b2b28\", \"#2b2b28\", \n",
    "                                                                                           \"#2b2b28\", \"#2b2b28\", \"#2b2b28\", \n",
    "                                                                                           \"#2b2b28\", \"#2b2b28\"])\n",
    "plt.xlabel(\" \")\n",
    "plt.ylabel(\"Response Rate\")\n",
    "plt.xticks(rotation=-40,ha=\"left\")\n",
    "plt.title(\"Response to offer among Income groups\")\n",
    "plt.tight_layout()\n",
    "plt.show()"
   ]
  },
  {
   "cell_type": "code",
   "execution_count": 116,
   "metadata": {},
   "outputs": [
    {
     "data": {
      "text/html": [
       "<div>\n",
       "<style scoped>\n",
       "    .dataframe tbody tr th:only-of-type {\n",
       "        vertical-align: middle;\n",
       "    }\n",
       "\n",
       "    .dataframe tbody tr th {\n",
       "        vertical-align: top;\n",
       "    }\n",
       "\n",
       "    .dataframe thead th {\n",
       "        text-align: right;\n",
       "    }\n",
       "</style>\n",
       "<table border=\"1\" class=\"dataframe\">\n",
       "  <thead>\n",
       "    <tr style=\"text-align: right;\">\n",
       "      <th>incomegroups</th>\n",
       "      <th>combine</th>\n",
       "      <th>Lowest</th>\n",
       "      <th>Lower-middle</th>\n",
       "      <th>Middle-income</th>\n",
       "      <th>All</th>\n",
       "    </tr>\n",
       "  </thead>\n",
       "  <tbody>\n",
       "    <tr>\n",
       "      <th>0</th>\n",
       "      <td>informational-No response</td>\n",
       "      <td>11.363636</td>\n",
       "      <td>3.334815</td>\n",
       "      <td>2.443323</td>\n",
       "      <td>2.631579</td>\n",
       "    </tr>\n",
       "    <tr>\n",
       "      <th>1</th>\n",
       "      <td>informational-offer viewed</td>\n",
       "      <td>1.136364</td>\n",
       "      <td>2.578924</td>\n",
       "      <td>3.604903</td>\n",
       "      <td>3.434548</td>\n",
       "    </tr>\n",
       "    <tr>\n",
       "      <th>2</th>\n",
       "      <td>discount-No response</td>\n",
       "      <td>14.772727</td>\n",
       "      <td>9.204091</td>\n",
       "      <td>4.478090</td>\n",
       "      <td>5.256410</td>\n",
       "    </tr>\n",
       "    <tr>\n",
       "      <th>3</th>\n",
       "      <td>discount-offer viewed</td>\n",
       "      <td>18.181818</td>\n",
       "      <td>22.232103</td>\n",
       "      <td>19.642714</td>\n",
       "      <td>20.026991</td>\n",
       "    </tr>\n",
       "    <tr>\n",
       "      <th>4</th>\n",
       "      <td>discount-offer completed</td>\n",
       "      <td>32.954545</td>\n",
       "      <td>34.859938</td>\n",
       "      <td>42.625971</td>\n",
       "      <td>41.390013</td>\n",
       "    </tr>\n",
       "    <tr>\n",
       "      <th>5</th>\n",
       "      <td>bogo-No response</td>\n",
       "      <td>0.000000</td>\n",
       "      <td>1.289462</td>\n",
       "      <td>0.720981</td>\n",
       "      <td>0.802969</td>\n",
       "    </tr>\n",
       "    <tr>\n",
       "      <th>6</th>\n",
       "      <td>bogo-offer viewed</td>\n",
       "      <td>19.318182</td>\n",
       "      <td>19.964429</td>\n",
       "      <td>13.602499</td>\n",
       "      <td>14.601889</td>\n",
       "    </tr>\n",
       "    <tr>\n",
       "      <th>7</th>\n",
       "      <td>bogo-offer completed</td>\n",
       "      <td>2.272727</td>\n",
       "      <td>6.536238</td>\n",
       "      <td>12.881519</td>\n",
       "      <td>11.855601</td>\n",
       "    </tr>\n",
       "  </tbody>\n",
       "</table>\n",
       "</div>"
      ],
      "text/plain": [
       "incomegroups                     combine     Lowest  Lower-middle  \\\n",
       "0              informational-No response  11.363636      3.334815   \n",
       "1             informational-offer viewed   1.136364      2.578924   \n",
       "2                   discount-No response  14.772727      9.204091   \n",
       "3                  discount-offer viewed  18.181818     22.232103   \n",
       "4               discount-offer completed  32.954545     34.859938   \n",
       "5                       bogo-No response   0.000000      1.289462   \n",
       "6                      bogo-offer viewed  19.318182     19.964429   \n",
       "7                   bogo-offer completed   2.272727      6.536238   \n",
       "\n",
       "incomegroups  Middle-income        All  \n",
       "0                  2.443323   2.631579  \n",
       "1                  3.604903   3.434548  \n",
       "2                  4.478090   5.256410  \n",
       "3                 19.642714  20.026991  \n",
       "4                 42.625971  41.390013  \n",
       "5                  0.720981   0.802969  \n",
       "6                 13.602499  14.601889  \n",
       "7                 12.881519  11.855601  "
      ]
     },
     "execution_count": 116,
     "metadata": {},
     "output_type": "execute_result"
    }
   ],
   "source": [
    "income_cp"
   ]
  },
  {
   "cell_type": "markdown",
   "metadata": {},
   "source": [
    "\n",
    "# Question III\n",
    "## Who will response to an offer?\n",
    "- Build machine learning model that predicts whether or not someone will respond to an offer."
   ]
  },
  {
   "cell_type": "code",
   "execution_count": 117,
   "metadata": {},
   "outputs": [
    {
     "name": "stdout",
     "output_type": "stream",
     "text": [
      "\n",
      "\n",
      "\n",
      "\n",
      "Offer events Percentages :\n",
      "offer completed    53.245614\n",
      "offer viewed       38.063428\n",
      "No response         8.690958\n",
      "Name: eventFinal, dtype: float64\n",
      "\n",
      "\n",
      "\n",
      "\n",
      "Offer events Raw counts\n",
      "offer completed    7891\n",
      "offer viewed       5641\n",
      "No response        1288\n",
      "Name: eventFinal, dtype: int64\n"
     ]
    },
    {
     "data": {
      "image/png": "[encoded data removed]",
      "text/plain": [
       "<matplotlib.figure.Figure at 0x7f4cd8cf0940>"
      ]
     },
     "metadata": {
      "needs_background": "light"
     },
     "output_type": "display_data"
    }
   ],
   "source": [
    "# # Get listing percentage of offer response\n",
    "# Analyzing the distribution of offer response.\n",
    "offerevents_p = data8[\"eventFinal\"].value_counts(normalize=True) * 100\n",
    "offerevents_count = data8[\"eventFinal\"].value_counts() \n",
    "print(\"\\n\\n\\n\\nOffer events Percentages :\", offerevents_p, \"\\n\\n\\n\\nOffer events Raw counts\" , \n",
    "      offerevents_count, sep=\"\\n\" )\n",
    "\n",
    "  \n",
    "# Plot the distribution of offer response\n",
    "plt.figure(figsize=[10,8])\n",
    "sns.barplot(x = offerevents_p.index, y= offerevents_p.values,  color = bcolor,   edgecolor=\"#2b2b28\")\n",
    "plt.xlabel(\"Event\")\n",
    "plt.ylabel(\"Percentage of members\")\n",
    "plt.title(\"Starbuck users responses to offer\")\n",
    "plt.tight_layout()\n",
    "plt.show()"
   ]
  },
  {
   "cell_type": "code",
   "execution_count": 118,
   "metadata": {},
   "outputs": [],
   "source": [
    "def pre_modelling(dataset):\n",
    "    \"\"\"\n",
    "    \n",
    "    \n",
    "    \n",
    "    \"\"\"\n",
    "    \n",
    "    selected_columns = ['time', 'reward', 'gender', 'age', 'income',\n",
    "       'membershipDays', 'difficulty', 'duration',\n",
    "       'Channel_email', 'Channel_mobile', 'Channel_social', 'Channel_web',\n",
    "       'eventFinal', 'offer_type']\n",
    "    \n",
    "    data = dataset.copy()\n",
    "    data = data[selected_columns]\n",
    "    tt = data.offer_type.values\n",
    "    \n",
    "    data = pd.get_dummies(data, columns=['gender', 'offer_type'], prefix_sep=\"_\")\n",
    "\n",
    "    data['offerType'] = tt\n",
    "    \n",
    "    y = data.pop('eventFinal')\n",
    "    \n",
    "    y = pd.get_dummies(y, prefix_sep=\"_\")\n",
    "    y[\"offer viewed\"] = y.apply(lambda x: x[2] if x[2] == 1 else x[1], axis=1)\n",
    "    \n",
    "    X_train, X_test, Y_train, Y_test = train_test_split(\n",
    "                        data.iloc[:,:-4], y, test_size=0.2, stratify=data.iloc[:,-1], random_state=0)\n",
    "\n",
    "    \n",
    "    return X_train, X_test, Y_train, Y_test"
   ]
  },
  {
   "cell_type": "code",
   "execution_count": 119,
   "metadata": {},
   "outputs": [],
   "source": [
    "X_train, X_test, y_train, y_test = pre_modelling(data8)"
   ]
  },
  {
   "cell_type": "code",
   "execution_count": 120,
   "metadata": {},
   "outputs": [
    {
     "data": {
      "text/html": [
       "<div>\n",
       "<style scoped>\n",
       "    .dataframe tbody tr th:only-of-type {\n",
       "        vertical-align: middle;\n",
       "    }\n",
       "\n",
       "    .dataframe tbody tr th {\n",
       "        vertical-align: top;\n",
       "    }\n",
       "\n",
       "    .dataframe thead th {\n",
       "        text-align: right;\n",
       "    }\n",
       "</style>\n",
       "<table border=\"1\" class=\"dataframe\">\n",
       "  <thead>\n",
       "    <tr style=\"text-align: right;\">\n",
       "      <th></th>\n",
       "      <th>time</th>\n",
       "      <th>reward</th>\n",
       "      <th>age</th>\n",
       "      <th>income</th>\n",
       "      <th>membershipDays</th>\n",
       "      <th>difficulty</th>\n",
       "      <th>duration</th>\n",
       "      <th>Channel_email</th>\n",
       "      <th>Channel_mobile</th>\n",
       "      <th>Channel_social</th>\n",
       "      <th>Channel_web</th>\n",
       "      <th>gender_F</th>\n",
       "      <th>gender_M</th>\n",
       "      <th>gender_O</th>\n",
       "    </tr>\n",
       "  </thead>\n",
       "  <tbody>\n",
       "    <tr>\n",
       "      <th>227768</th>\n",
       "      <td>336</td>\n",
       "      <td>0.0</td>\n",
       "      <td>30</td>\n",
       "      <td>47000.0</td>\n",
       "      <td>238</td>\n",
       "      <td>0.0</td>\n",
       "      <td>4.0</td>\n",
       "      <td>1.0</td>\n",
       "      <td>1.0</td>\n",
       "      <td>0.0</td>\n",
       "      <td>1.0</td>\n",
       "      <td>0</td>\n",
       "      <td>1</td>\n",
       "      <td>0</td>\n",
       "    </tr>\n",
       "    <tr>\n",
       "      <th>291138</th>\n",
       "      <td>36</td>\n",
       "      <td>3.0</td>\n",
       "      <td>53</td>\n",
       "      <td>113000.0</td>\n",
       "      <td>185</td>\n",
       "      <td>7.0</td>\n",
       "      <td>7.0</td>\n",
       "      <td>1.0</td>\n",
       "      <td>1.0</td>\n",
       "      <td>1.0</td>\n",
       "      <td>1.0</td>\n",
       "      <td>1</td>\n",
       "      <td>0</td>\n",
       "      <td>0</td>\n",
       "    </tr>\n",
       "    <tr>\n",
       "      <th>302913</th>\n",
       "      <td>240</td>\n",
       "      <td>3.0</td>\n",
       "      <td>19</td>\n",
       "      <td>53000.0</td>\n",
       "      <td>211</td>\n",
       "      <td>7.0</td>\n",
       "      <td>7.0</td>\n",
       "      <td>1.0</td>\n",
       "      <td>1.0</td>\n",
       "      <td>1.0</td>\n",
       "      <td>1.0</td>\n",
       "      <td>0</td>\n",
       "      <td>1</td>\n",
       "      <td>0</td>\n",
       "    </tr>\n",
       "    <tr>\n",
       "      <th>270937</th>\n",
       "      <td>180</td>\n",
       "      <td>10.0</td>\n",
       "      <td>56</td>\n",
       "      <td>54000.0</td>\n",
       "      <td>79</td>\n",
       "      <td>10.0</td>\n",
       "      <td>5.0</td>\n",
       "      <td>1.0</td>\n",
       "      <td>1.0</td>\n",
       "      <td>1.0</td>\n",
       "      <td>1.0</td>\n",
       "      <td>0</td>\n",
       "      <td>1</td>\n",
       "      <td>0</td>\n",
       "    </tr>\n",
       "    <tr>\n",
       "      <th>300333</th>\n",
       "      <td>450</td>\n",
       "      <td>3.0</td>\n",
       "      <td>32</td>\n",
       "      <td>31000.0</td>\n",
       "      <td>82</td>\n",
       "      <td>7.0</td>\n",
       "      <td>7.0</td>\n",
       "      <td>1.0</td>\n",
       "      <td>1.0</td>\n",
       "      <td>1.0</td>\n",
       "      <td>1.0</td>\n",
       "      <td>1</td>\n",
       "      <td>0</td>\n",
       "      <td>0</td>\n",
       "    </tr>\n",
       "  </tbody>\n",
       "</table>\n",
       "</div>"
      ],
      "text/plain": [
       "        time  reward  age    income  membershipDays  difficulty  duration  \\\n",
       "227768   336     0.0   30   47000.0             238         0.0       4.0   \n",
       "291138    36     3.0   53  113000.0             185         7.0       7.0   \n",
       "302913   240     3.0   19   53000.0             211         7.0       7.0   \n",
       "270937   180    10.0   56   54000.0              79        10.0       5.0   \n",
       "300333   450     3.0   32   31000.0              82         7.0       7.0   \n",
       "\n",
       "        Channel_email  Channel_mobile  Channel_social  Channel_web  gender_F  \\\n",
       "227768            1.0             1.0             0.0          1.0         0   \n",
       "291138            1.0             1.0             1.0          1.0         1   \n",
       "302913            1.0             1.0             1.0          1.0         0   \n",
       "270937            1.0             1.0             1.0          1.0         0   \n",
       "300333            1.0             1.0             1.0          1.0         1   \n",
       "\n",
       "        gender_M  gender_O  \n",
       "227768         1         0  \n",
       "291138         0         0  \n",
       "302913         1         0  \n",
       "270937         1         0  \n",
       "300333         0         0  "
      ]
     },
     "execution_count": 120,
     "metadata": {},
     "output_type": "execute_result"
    }
   ],
   "source": [
    "X_train.head()"
   ]
  },
  {
   "cell_type": "code",
   "execution_count": 121,
   "metadata": {},
   "outputs": [
    {
     "data": {
      "text/html": [
       "<div>\n",
       "<style scoped>\n",
       "    .dataframe tbody tr th:only-of-type {\n",
       "        vertical-align: middle;\n",
       "    }\n",
       "\n",
       "    .dataframe tbody tr th {\n",
       "        vertical-align: top;\n",
       "    }\n",
       "\n",
       "    .dataframe thead th {\n",
       "        text-align: right;\n",
       "    }\n",
       "</style>\n",
       "<table border=\"1\" class=\"dataframe\">\n",
       "  <thead>\n",
       "    <tr style=\"text-align: right;\">\n",
       "      <th></th>\n",
       "      <th>No response</th>\n",
       "      <th>offer viewed</th>\n",
       "      <th>offer completed</th>\n",
       "    </tr>\n",
       "  </thead>\n",
       "  <tbody>\n",
       "    <tr>\n",
       "      <th>257804</th>\n",
       "      <td>0</td>\n",
       "      <td>1</td>\n",
       "      <td>1</td>\n",
       "    </tr>\n",
       "    <tr>\n",
       "      <th>244614</th>\n",
       "      <td>0</td>\n",
       "      <td>1</td>\n",
       "      <td>1</td>\n",
       "    </tr>\n",
       "    <tr>\n",
       "      <th>275538</th>\n",
       "      <td>0</td>\n",
       "      <td>1</td>\n",
       "      <td>1</td>\n",
       "    </tr>\n",
       "    <tr>\n",
       "      <th>306386</th>\n",
       "      <td>0</td>\n",
       "      <td>1</td>\n",
       "      <td>1</td>\n",
       "    </tr>\n",
       "    <tr>\n",
       "      <th>249879</th>\n",
       "      <td>0</td>\n",
       "      <td>1</td>\n",
       "      <td>0</td>\n",
       "    </tr>\n",
       "  </tbody>\n",
       "</table>\n",
       "</div>"
      ],
      "text/plain": [
       "        No response  offer viewed  offer completed\n",
       "257804            0             1                1\n",
       "244614            0             1                1\n",
       "275538            0             1                1\n",
       "306386            0             1                1\n",
       "249879            0             1                0"
      ]
     },
     "execution_count": 121,
     "metadata": {},
     "output_type": "execute_result"
    }
   ],
   "source": [
    "y_test.head()"
   ]
  },
  {
   "cell_type": "code",
   "execution_count": 122,
   "metadata": {},
   "outputs": [
    {
     "name": "stdout",
     "output_type": "stream",
     "text": [
      "RandomForestClassifier  mean_absolute_error :  0.13000449842555106\n",
      "RandomForestClassifier  mean_squared_error:  0.13000449842555106\n",
      "RandomForestClassifier  Root mean_squared_error:  0.36056136568627406\n",
      "RandomForestClassifier  R2_squared :  0.04817299446217146\n",
      "RandomForestClassifier  Accuracy :  0.684885290148448\n",
      "\n",
      "Model Accuracy:\n",
      "No response        0.943995\n",
      "offer viewed       0.943995\n",
      "offer completed    0.721997\n",
      "dtype: float64\n",
      "\n",
      "\n",
      "Model Accuracy score: 0.684885290148448\n",
      "\n",
      "\n",
      "LinearSVC  mean_absolute_error :  0.16216824111560954\n",
      "LinearSVC  mean_squared_error:  0.16216824111560954\n",
      "LinearSVC  Root mean_squared_error:  0.4027011809215483\n",
      "LinearSVC  R2_squared :  -4.3102358084330685\n",
      "LinearSVC  Accuracy :  0.611336032388664\n",
      "\n",
      "Model Accuracy:\n",
      "No response        0.919703\n",
      "offer viewed       0.919703\n",
      "offer completed    0.674089\n",
      "dtype: float64\n",
      "\n",
      "\n",
      "Model Accuracy score: 0.611336032388664\n",
      "\n",
      "\n",
      "DecisionTreeClassifier  mean_absolute_error :  0.14192532613585243\n",
      "DecisionTreeClassifier  mean_squared_error:  0.14192532613585243\n",
      "DecisionTreeClassifier  Root mean_squared_error:  0.37672977866881247\n",
      "DecisionTreeClassifier  R2_squared :  0.1986812341480008\n",
      "DecisionTreeClassifier  Accuracy :  0.6278677462887989\n",
      "\n",
      "Model Accuracy:\n",
      "No response        0.956815\n",
      "offer viewed       0.957490\n",
      "offer completed    0.659919\n",
      "dtype: float64\n",
      "\n",
      "\n",
      "Model Accuracy score: 0.6278677462887989\n",
      "\n",
      "\n",
      "LogisticRegression  mean_absolute_error :  0.16183085919928022\n",
      "LogisticRegression  mean_squared_error:  0.16183085919928022\n",
      "LogisticRegression  Root mean_squared_error:  0.4022820642276762\n",
      "LogisticRegression  R2_squared :  -1.172267185009494\n",
      "LogisticRegression  Accuracy :  0.6072874493927125\n",
      "\n",
      "Model Accuracy:\n",
      "No response        0.925101\n",
      "offer viewed       0.925101\n",
      "offer completed    0.664305\n",
      "dtype: float64\n",
      "\n",
      "\n",
      "Model Accuracy score: 0.6072874493927125\n",
      "\n",
      "\n"
     ]
    }
   ],
   "source": [
    "# search for best estimator\n",
    "category_names = y_train.columns.tolist()\n",
    "estimators = [\n",
    "    (\"RandomForestClassifier\", MultiOutputClassifier(RandomForestClassifier(criterion = 'entropy', n_estimators=500, max_depth=20, random_state=0))),\n",
    "    (\"LinearSVC\", MultiOutputClassifier(LinearSVC())),\n",
    "    (\"DecisionTreeClassifier\", MultiOutputClassifier(DecisionTreeClassifier(max_depth = 20))),\n",
    "    (\"LogisticRegression\", MultiOutputClassifier(LogisticRegression(random_state=0)))\n",
    "]\n",
    "\n",
    "for name, estimator in estimators:\n",
    "    model = make_pipeline(MaxAbsScaler(), estimator)\n",
    "    model.fit(X_train, y_train)\n",
    "    pred = model.predict(X_test)\n",
    "    print(name,\" mean_absolute_error : \", mean_absolute_error(y_test, pred))\n",
    "    print(name,\" mean_squared_error: \", mean_squared_error(y_test, pred))\n",
    "    print(name,\" Root mean_squared_error: \", np.sqrt(mean_squared_error(y_test, pred)))\n",
    "    print(name,\" R2_squared : \", r2_score(pred, y_test))\n",
    "    print(name,\" Accuracy : \", model.score(X_test, y_test), end=\"\\n\\n\")\n",
    "    \n",
    "    # Calculate accuracy\n",
    "    accuracy = (pred == y_test).mean()\n",
    "    accuracyscore = model.score(X_test, y_test)\n",
    "    \n",
    "    \n",
    "    print(f\"Model Accuracy:\")\n",
    "    print(f'{accuracy}\\n\\n')\n",
    "    print(f\"Model Accuracy score: {accuracyscore}\\n\\n\")"
   ]
  },
  {
   "cell_type": "code",
   "execution_count": null,
   "metadata": {},
   "outputs": [],
   "source": []
  },
  {
   "cell_type": "code",
   "execution_count": 123,
   "metadata": {},
   "outputs": [],
   "source": [
    "def build_model():\n",
    "    \"\"\"The build_model function build a model pipeline\n",
    "    Args: None\n",
    "    Returns:\n",
    "        model(pipeline): model pipeline for fitting, prediction and scoring\n",
    "    \"\"\"\n",
    "    # create pipeline\n",
    "    plu = Pipeline([\n",
    "                     (\"mascaler\", MaxAbsScaler()),\n",
    "                     ('rforest', MultiOutputClassifier(RandomForestClassifier(criterion = 'entropy', n_estimators=500, max_depth=20, \n",
    "                                                                              oob_score = True, bootstrap = True, n_jobs=-1, random_state=0)))\n",
    "            ])\n",
    "\n",
    "\n",
    "    return plu\n",
    "\n",
    "\n"
   ]
  },
  {
   "cell_type": "code",
   "execution_count": 124,
   "metadata": {},
   "outputs": [],
   "source": [
    "\n",
    "def evaluate_model(model, X_text, Y_test):\n",
    "    \"\"\"The evaluate_model function scores the performance of trained model\n",
    "        on test (unseen) text and categories\n",
    "    Args:\n",
    "        model (model): model to evaluate\n",
    "        X_text (numpy arrays): the test (unseen) tokenized text\n",
    "        Y_test (numpy arrays): the test (unseen) target used for evaluation\n",
    "        category_names(list): list containing the name of the categories\n",
    "    Returns: None\n",
    "            print out the accuracy and confusion metrics\n",
    "    \"\"\"\n",
    "    sp = {\"end\": \"\\n\\n\", \"sep\": \"\\n\\n\"}\n",
    "\n",
    "    # predict using the model\n",
    "    pred = model.predict(X_text)\n",
    "\n",
    "    # Calculate accuracy\n",
    "    accuracy = (pred == Y_test).mean()\n",
    "    accuracyscore = model.score(X_text, Y_test)    \n",
    "    \n",
    "    print(f\"Model Accuracy:\")\n",
    "    print(f'{accuracy}\\n\\n')\n",
    "    print(f\"Model Accuracy score: {accuracyscore}\\n\\n\")\n",
    "\n",
    "\n"
   ]
  },
  {
   "cell_type": "code",
   "execution_count": 125,
   "metadata": {},
   "outputs": [
    {
     "data": {
      "text/plain": [
       "Pipeline(memory=None,\n",
       "     steps=[('mascaler', MaxAbsScaler(copy=True)), ('rforest', MultiOutputClassifier(estimator=RandomForestClassifier(bootstrap=True, class_weight=None, criterion='entropy',\n",
       "            max_depth=20, max_features='auto', max_leaf_nodes=None,\n",
       "            min_impurity_decrease=0.0, min_impurity_split=None,...-1,\n",
       "            oob_score=True, random_state=0, verbose=0, warm_start=False),\n",
       "           n_jobs=1))])"
      ]
     },
     "execution_count": 125,
     "metadata": {},
     "output_type": "execute_result"
    }
   ],
   "source": [
    "treemodel = build_model()\n",
    "treemodel.fit(X_train, y_train)"
   ]
  },
  {
   "cell_type": "code",
   "execution_count": 126,
   "metadata": {},
   "outputs": [
    {
     "data": {
      "text/plain": [
       "Index(['time', 'reward', 'age', 'income', 'membershipDays', 'difficulty',\n",
       "       'duration', 'Channel_email', 'Channel_mobile', 'Channel_social',\n",
       "       'Channel_web', 'gender_F', 'gender_M', 'gender_O'],\n",
       "      dtype='object')"
      ]
     },
     "execution_count": 126,
     "metadata": {},
     "output_type": "execute_result"
    }
   ],
   "source": [
    "X_test.columns"
   ]
  },
  {
   "cell_type": "code",
   "execution_count": 127,
   "metadata": {},
   "outputs": [
    {
     "name": "stdout",
     "output_type": "stream",
     "text": [
      "Model Accuracy:\n",
      "No response        0.943995\n",
      "offer viewed       0.943995\n",
      "offer completed    0.721997\n",
      "dtype: float64\n",
      "\n",
      "\n",
      "Model Accuracy score: 0.684885290148448\n",
      "\n",
      "\n"
     ]
    }
   ],
   "source": [
    "evaluate_model(treemodel, X_test, y_test)"
   ]
  },
  {
   "cell_type": "code",
   "execution_count": 128,
   "metadata": {},
   "outputs": [
    {
     "data": {
      "text/plain": [
       "Pipeline(memory=None,\n",
       "     steps=[('mascaler', MaxAbsScaler(copy=True)), ('rforest', MultiOutputClassifier(estimator=RandomForestClassifier(bootstrap=True, class_weight=None, criterion='entropy',\n",
       "            max_depth=20, max_features='auto', max_leaf_nodes=None,\n",
       "            min_impurity_decrease=0.0, min_impurity_split=None,...-1,\n",
       "            oob_score=True, random_state=0, verbose=0, warm_start=False),\n",
       "           n_jobs=1))])"
      ]
     },
     "execution_count": 128,
     "metadata": {},
     "output_type": "execute_result"
    }
   ],
   "source": [
    "treemodel"
   ]
  },
  {
   "cell_type": "code",
   "execution_count": 129,
   "metadata": {},
   "outputs": [
    {
     "data": {
      "text/plain": [
       "'entropy'"
      ]
     },
     "execution_count": 129,
     "metadata": {},
     "output_type": "execute_result"
    }
   ],
   "source": [
    "treemodel.named_steps['rforest'].estimator.criterion"
   ]
  },
  {
   "cell_type": "code",
   "execution_count": 130,
   "metadata": {},
   "outputs": [],
   "source": [
    "# let get the feature importance\n",
    "def dfform(lstt):\n",
    "    \"\"\"The dfform function form pandas dataframe from list\n",
    " \n",
    "    Args: \n",
    "        lstt (list, series): the list or series to used in forming dataFrame\n",
    " \n",
    "    Returns: \n",
    "        DataFrame: The DataFrame for analysis\n",
    " \n",
    "    \"\"\"\n",
    "    df = pd.DataFrame(list(zip(X_test.columns, lstt)), columns=[\"features\", \"coefficients\"])\n",
    "    df3 = df.sort_values(by=\"coefficients\", ascending=False).reset_index(drop=True)\n",
    "\n",
    "    return df3"
   ]
  },
  {
   "cell_type": "code",
   "execution_count": 131,
   "metadata": {},
   "outputs": [],
   "source": [
    "# important feature affecting prices using eli5 permutation\n",
    "perm = PermutationImportance(treemodel).fit(X_test, y_test)\n"
   ]
  },
  {
   "cell_type": "code",
   "execution_count": 132,
   "metadata": {},
   "outputs": [
    {
     "data": {
      "text/html": [
       "<div>\n",
       "<style scoped>\n",
       "    .dataframe tbody tr th:only-of-type {\n",
       "        vertical-align: middle;\n",
       "    }\n",
       "\n",
       "    .dataframe tbody tr th {\n",
       "        vertical-align: top;\n",
       "    }\n",
       "\n",
       "    .dataframe thead th {\n",
       "        text-align: right;\n",
       "    }\n",
       "</style>\n",
       "<table border=\"1\" class=\"dataframe\">\n",
       "  <thead>\n",
       "    <tr style=\"text-align: right;\">\n",
       "      <th></th>\n",
       "      <th>features</th>\n",
       "      <th>coefficients</th>\n",
       "    </tr>\n",
       "  </thead>\n",
       "  <tbody>\n",
       "    <tr>\n",
       "      <th>0</th>\n",
       "      <td>membershipDays</td>\n",
       "      <td>0.077126</td>\n",
       "    </tr>\n",
       "    <tr>\n",
       "      <th>1</th>\n",
       "      <td>time</td>\n",
       "      <td>0.047368</td>\n",
       "    </tr>\n",
       "    <tr>\n",
       "      <th>2</th>\n",
       "      <td>income</td>\n",
       "      <td>0.031242</td>\n",
       "    </tr>\n",
       "    <tr>\n",
       "      <th>3</th>\n",
       "      <td>Channel_social</td>\n",
       "      <td>0.027463</td>\n",
       "    </tr>\n",
       "    <tr>\n",
       "      <th>4</th>\n",
       "      <td>reward</td>\n",
       "      <td>0.020513</td>\n",
       "    </tr>\n",
       "    <tr>\n",
       "      <th>5</th>\n",
       "      <td>age</td>\n",
       "      <td>0.009649</td>\n",
       "    </tr>\n",
       "    <tr>\n",
       "      <th>6</th>\n",
       "      <td>duration</td>\n",
       "      <td>0.006748</td>\n",
       "    </tr>\n",
       "    <tr>\n",
       "      <th>7</th>\n",
       "      <td>difficulty</td>\n",
       "      <td>0.006680</td>\n",
       "    </tr>\n",
       "    <tr>\n",
       "      <th>8</th>\n",
       "      <td>gender_M</td>\n",
       "      <td>0.005061</td>\n",
       "    </tr>\n",
       "    <tr>\n",
       "      <th>9</th>\n",
       "      <td>gender_O</td>\n",
       "      <td>0.000135</td>\n",
       "    </tr>\n",
       "    <tr>\n",
       "      <th>10</th>\n",
       "      <td>Channel_email</td>\n",
       "      <td>0.000000</td>\n",
       "    </tr>\n",
       "    <tr>\n",
       "      <th>11</th>\n",
       "      <td>Channel_web</td>\n",
       "      <td>-0.000202</td>\n",
       "    </tr>\n",
       "    <tr>\n",
       "      <th>12</th>\n",
       "      <td>Channel_mobile</td>\n",
       "      <td>-0.000405</td>\n",
       "    </tr>\n",
       "    <tr>\n",
       "      <th>13</th>\n",
       "      <td>gender_F</td>\n",
       "      <td>-0.000540</td>\n",
       "    </tr>\n",
       "  </tbody>\n",
       "</table>\n",
       "</div>"
      ],
      "text/plain": [
       "          features  coefficients\n",
       "0   membershipDays      0.077126\n",
       "1             time      0.047368\n",
       "2           income      0.031242\n",
       "3   Channel_social      0.027463\n",
       "4           reward      0.020513\n",
       "5              age      0.009649\n",
       "6         duration      0.006748\n",
       "7       difficulty      0.006680\n",
       "8         gender_M      0.005061\n",
       "9         gender_O      0.000135\n",
       "10   Channel_email      0.000000\n",
       "11     Channel_web     -0.000202\n",
       "12  Channel_mobile     -0.000405\n",
       "13        gender_F     -0.000540"
      ]
     },
     "execution_count": 132,
     "metadata": {},
     "output_type": "execute_result"
    }
   ],
   "source": [
    "ee = dfform(perm.feature_importances_)\n",
    "ee"
   ]
  },
  {
   "cell_type": "code",
   "execution_count": 133,
   "metadata": {},
   "outputs": [
    {
     "data": {
      "image/png": "[encoded data removed]",
      "text/plain": [
       "<matplotlib.figure.Figure at 0x7f4cde85fd30>"
      ]
     },
     "metadata": {
      "needs_background": "light"
     },
     "output_type": "display_data"
    }
   ],
   "source": [
    "# Plot the distribution of offer response\n",
    "plt.figure(figsize=[10,8])\n",
    "\n",
    "ax1 = plt.subplot(111)\n",
    "# ax1.set_frame_on(True)\n",
    "ax1.spines['left'].set_visible(True)\n",
    "ax1.spines['right'].set_visible(False)\n",
    "ax1.spines['top'].set_visible(False)\n",
    "sns.barplot(x = ee.features, y= ee.coefficients,  color = bcolor, linewidth = 2,  edgecolor=[\"#2b2b28\", \"#2b2b28\", \"#2b2b28\", \n",
    "                                                                                           \"#2b2b28\", \"#2b2b28\", \"#2b2b28\", \n",
    "                                                                                           \"#2b2b28\", \"#2b2b28\",\"#2b2b28\", \"#2b2b28\", \"#2b2b28\", \n",
    "                                                                                           \"#2b2b28\", \"#2b2b28\", \"#2b2b28\", \n",
    "                                                                                          \"#2b2b28\"])\n",
    "                                                                                           \n",
    "plt.xlabel(\" \")\n",
    "plt.axhline(y=0.00, color='black', linestyle='-')\n",
    "plt.xticks(rotation=-40,ha=\"left\")\n",
    "# plt.title(\"User Attributes\")\n",
    "plt.tight_layout()\n",
    "plt.show()"
   ]
  },
  {
   "cell_type": "markdown",
   "metadata": {},
   "source": [
    "# E. Deployment\n",
    "\n",
    "## 1. Summary report\n",
    "\n",
    "Find the summary report on this blog [link](https://medium.com/@okigbookey/starbucks-data-scientist-a9455d67a1cc) \n",
    "\n",
    "### Github repository \n",
    "Github repository at this [link](https://github.com/jocoder22/Starbucks_Datascience)\n",
    "\n",
    "## 2. Conclusion(s)\n",
    "From this analysis is it reasonable to make the following conclusions:\n",
    "* The typical Starbucks mobile app user is a middle-aged male - baby-boomers - in the middle-class income category. From a business perspective, marketing and product designs should target middle-class hard-working American baby-boomer!\n",
    "* Discount offers had the highest mobile app users response rate with a 30% viewing rate and a 62% completion rate. From a business and marketing perspective, these viewers should be marketed to complete the Discount offer.\n",
    "* Membership, income, and perceived rewards are the strongest inducers of response by these users. From a business and marketing perspective, Starbucks customers should encourage to sign up for the mobile app."
   ]
  },
  {
   "cell_type": "code",
   "execution_count": null,
   "metadata": {},
   "outputs": [],
   "source": []
  }
 ],
 "metadata": {
  "kernelspec": {
   "display_name": "Python 3",
   "language": "python",
   "name": "python3"
  },
  "language_info": {
   "codemirror_mode": {
    "name": "ipython",
    "version": 3
   },
   "file_extension": ".py",
   "mimetype": "text/x-python",
   "name": "python",
   "nbconvert_exporter": "python",
   "pygments_lexer": "ipython3",
   "version": "3.6.3"
  }
 },
 "nbformat": 4,
 "nbformat_minor": 2
}
